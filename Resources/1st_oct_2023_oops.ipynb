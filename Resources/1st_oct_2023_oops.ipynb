{
 "cells": [
  {
   "cell_type": "markdown",
   "metadata": {},
   "source": [
    "python sumport 3 paradigames\n",
    "1 script\n",
    "2 function\n",
    "3 oops (object oriented programing language )\n"
   ]
  },
  {
   "cell_type": "markdown",
   "metadata": {},
   "source": [
    "class and object:\n",
    "class are nothing but a classification of real world entity\n",
    "object is instance of class (inn anothey way we can said that object means variable of class)"
   ]
  },
  {
   "cell_type": "code",
   "execution_count": 2,
   "metadata": {},
   "outputs": [
    {
     "name": "stdout",
     "output_type": "stream",
     "text": [
      "<class 'int'> <class 'int'> <class 'int'>\n"
     ]
    }
   ],
   "source": [
    "a = 10\n",
    "b = 20\n",
    "c = 0\n",
    "\n",
    "print(type(a),type(b),type(c))"
   ]
  },
  {
   "cell_type": "markdown",
   "metadata": {},
   "source": [
    "please check python official git repository"
   ]
  },
  {
   "cell_type": "code",
   "execution_count": 9,
   "metadata": {},
   "outputs": [],
   "source": [
    "# my  own logic \n",
    "class bank_system:\n",
    "    def __init__(self):\n",
    "        self.account_number = int(input(\"Enter a account number\"))\n",
    "        self.username = input(\"Enter a user name\")\n",
    "        self.account_balance = float( input(\"Enter account balance \"))\n",
    "    def deposite(self):\n",
    "        self.deposite_amount = float(input(\"Enter deposite amount\"))\n",
    "        self.account_balance +=self.deposite_amount\n",
    "        return f\"Hello {self.username} your account balance is {self.account_balance}\"\n",
    "    def show_details(self):\n",
    "        return f\"hello {self.username} | {self.account_number} | {self.account_balance}\"\n"
   ]
  },
  {
   "cell_type": "code",
   "execution_count": 10,
   "metadata": {},
   "outputs": [],
   "source": [
    "customer_1 = bank_system()"
   ]
  },
  {
   "cell_type": "code",
   "execution_count": 11,
   "metadata": {},
   "outputs": [
    {
     "data": {
      "text/plain": [
       "'hello vicky | 123456 | 2000.0'"
      ]
     },
     "execution_count": 11,
     "metadata": {},
     "output_type": "execute_result"
    }
   ],
   "source": [
    "customer_1.show_details()"
   ]
  },
  {
   "cell_type": "code",
   "execution_count": 12,
   "metadata": {},
   "outputs": [
    {
     "data": {
      "text/plain": [
       "'Hello vicky your account balance is 7000.0'"
      ]
     },
     "execution_count": 12,
     "metadata": {},
     "output_type": "execute_result"
    }
   ],
   "source": [
    "customer_1.deposite()"
   ]
  },
  {
   "cell_type": "code",
   "execution_count": 16,
   "metadata": {},
   "outputs": [],
   "source": [
    "# live lecture example\n",
    "class bankaccount :\n",
    "    \n",
    "    def openaccount(self,name , email_id) :\n",
    "        print(\"open an account by taking name and mail id \")\n",
    "\n",
    "        return name+email_id, id(self)\n",
    "    \n",
    "    def deposite(self,amount):\n",
    "        print(\"i am trying to tdeposite an amount in my account\")\n",
    "        \n",
    "    def whithdraw(self,amt_with):\n",
    "        print(\"withdraw the amount\")\n",
    "    \n",
    "    def update_details(self, name_update , emaid_update):\n",
    "        print(\"this function will update my name and mail if for account\")\n",
    "        \n",
    "        \n"
   ]
  },
  {
   "cell_type": "code",
   "execution_count": 17,
   "metadata": {},
   "outputs": [
    {
     "name": "stdout",
     "output_type": "stream",
     "text": [
      "2666251307408\n"
     ]
    }
   ],
   "source": [
    "new_account = bankaccount()\n",
    "print(id(new_account))\n"
   ]
  },
  {
   "cell_type": "code",
   "execution_count": 18,
   "metadata": {},
   "outputs": [
    {
     "ename": "TypeError",
     "evalue": "bankaccount.openaccount() missing 2 required positional arguments: 'name' and 'email_id'",
     "output_type": "error",
     "traceback": [
      "\u001b[1;31m---------------------------------------------------------------------------\u001b[0m",
      "\u001b[1;31mTypeError\u001b[0m                                 Traceback (most recent call last)",
      "\u001b[1;32md:\\Full-Stack-Data-Science-pro\\Resources\\1st_oct_2023_oops.ipynb Cell 11\u001b[0m line \u001b[0;36m1\n\u001b[1;32m----> <a href='vscode-notebook-cell:/d%3A/Full-Stack-Data-Science-pro/Resources/1st_oct_2023_oops.ipynb#X14sZmlsZQ%3D%3D?line=0'>1</a>\u001b[0m new_account\u001b[39m.\u001b[39;49mopenaccount() \u001b[39m# if here your are thinking we should pass three argument to method them its wrong way\u001b[39;00m\n\u001b[0;32m      <a href='vscode-notebook-cell:/d%3A/Full-Stack-Data-Science-pro/Resources/1st_oct_2023_oops.ipynb#X14sZmlsZQ%3D%3D?line=1'>2</a>\u001b[0m \u001b[39m# here we have to pass only two argument name ad email_id \u001b[39;00m\n",
      "\u001b[1;31mTypeError\u001b[0m: bankaccount.openaccount() missing 2 required positional arguments: 'name' and 'email_id'"
     ]
    }
   ],
   "source": [
    "new_account.openaccount() # if here your are thinking we should pass three argument to method them its wrong way\n",
    "# here we have to pass only two argument name ad email_id \n"
   ]
  },
  {
   "cell_type": "code",
   "execution_count": 19,
   "metadata": {},
   "outputs": [
    {
     "name": "stdout",
     "output_type": "stream",
     "text": [
      "open an account by taking name and mail id \n"
     ]
    },
    {
     "data": {
      "text/plain": [
       "('vickyvicky1@gamil.com', 2666251307408)"
      ]
     },
     "execution_count": 19,
     "metadata": {},
     "output_type": "execute_result"
    }
   ],
   "source": [
    "# as we see we encounter positional argumnet\n",
    "# now self is come into picture actually self  is  pointer which hold an memory address of object\n",
    "# or vairaible of class that map object with class so that the object can access properties of class\n",
    "# i also forget to tell , self is not keyword insted of self we can use any variable\n",
    "new_account.openaccount(\"vicky\",\"vicky1@gamil.com\")"
   ]
  },
  {
   "cell_type": "markdown",
   "metadata": {},
   "source": [
    "as we see self actually hold an memmory address of bankaccount class "
   ]
  },
  {
   "cell_type": "code",
   "execution_count": 20,
   "metadata": {},
   "outputs": [],
   "source": [
    "class list_operation:\n",
    "    def extractfromindex (self,l,index):\n",
    "        return l[index]\n",
    "        "
   ]
  },
  {
   "cell_type": "code",
   "execution_count": 22,
   "metadata": {},
   "outputs": [
    {
     "data": {
      "text/plain": [
       "4"
      ]
     },
     "execution_count": 22,
     "metadata": {},
     "output_type": "execute_result"
    }
   ],
   "source": [
    "list_1 = [1,2,3,4]\n",
    "obj1 = list_operation()\n",
    "obj1.extractfromindex(list_1,3)"
   ]
  },
  {
   "cell_type": "code",
   "execution_count": 38,
   "metadata": {},
   "outputs": [],
   "source": [
    "class list_operation:\n",
    "    def extractfromindex (self,l,index):\n",
    "        return l[index]\n",
    "    def extractrangedata (self,l,start,end):\n",
    "        return l[start:end]\n",
    "    def extracteven (self,l):\n",
    "        result = list(filter(lambda x:x if x%2==0 else None,l))\n",
    "        return result"
   ]
  },
  {
   "cell_type": "code",
   "execution_count": 4,
   "metadata": {},
   "outputs": [
    {
     "name": "stdout",
     "output_type": "stream",
     "text": [
      "[1, 2, 3, 4, 5, 6, 7, 8, 9, 10, 11, 12, 13, 14, 15, 16, 17, 18, 19, 20]\n"
     ]
    },
    {
     "ename": "NameError",
     "evalue": "name 'list_operation' is not defined",
     "output_type": "error",
     "traceback": [
      "\u001b[1;31m---------------------------------------------------------------------------\u001b[0m",
      "\u001b[1;31mNameError\u001b[0m                                 Traceback (most recent call last)",
      "\u001b[1;32md:\\Full-Stack-Data-Science-pro\\Resources\\1st_oct_2023_oops.ipynb Cell 17\u001b[0m line \u001b[0;36m3\n\u001b[0;32m      <a href='vscode-notebook-cell:/d%3A/Full-Stack-Data-Science-pro/Resources/1st_oct_2023_oops.ipynb#X22sZmlsZQ%3D%3D?line=0'>1</a>\u001b[0m list_2 \u001b[39m=\u001b[39m [ i \u001b[39mfor\u001b[39;00m i \u001b[39min\u001b[39;00m \u001b[39mrange\u001b[39m(\u001b[39m1\u001b[39m,\u001b[39m21\u001b[39m)]\n\u001b[0;32m      <a href='vscode-notebook-cell:/d%3A/Full-Stack-Data-Science-pro/Resources/1st_oct_2023_oops.ipynb#X22sZmlsZQ%3D%3D?line=1'>2</a>\u001b[0m \u001b[39mprint\u001b[39m(list_2)\n\u001b[1;32m----> <a href='vscode-notebook-cell:/d%3A/Full-Stack-Data-Science-pro/Resources/1st_oct_2023_oops.ipynb#X22sZmlsZQ%3D%3D?line=2'>3</a>\u001b[0m obj2 \u001b[39m=\u001b[39m list_operation()\n\u001b[0;32m      <a href='vscode-notebook-cell:/d%3A/Full-Stack-Data-Science-pro/Resources/1st_oct_2023_oops.ipynb#X22sZmlsZQ%3D%3D?line=3'>4</a>\u001b[0m obj2\u001b[39m.\u001b[39mextracteven(list_2)\n",
      "\u001b[1;31mNameError\u001b[0m: name 'list_operation' is not defined"
     ]
    }
   ],
   "source": [
    "list_2 = [ i for i in range(1,21)]\n",
    "print(list_2)\n",
    "obj2 = list_operation()\n",
    "obj2.extracteven(list_2)"
   ]
  },
  {
   "cell_type": "code",
   "execution_count": 40,
   "metadata": {},
   "outputs": [
    {
     "data": {
      "text/plain": [
       "[2, 3, 4, 5, 6, 7, 8, 9, 10, 11]"
      ]
     },
     "execution_count": 40,
     "metadata": {},
     "output_type": "execute_result"
    }
   ],
   "source": [
    "obj2.extractrangedata(list_2,1,11)"
   ]
  },
  {
   "cell_type": "code",
   "execution_count": 42,
   "metadata": {},
   "outputs": [],
   "source": [
    "# creating class variable and access class variable outside class\n",
    "class list_operations:\n",
    "    myownlist = [2, 3, 4, 5, 6, 7, 8, 9, 10, 11] # class variable\n",
    "    def extractfromindex (self,l,index):\n",
    "        return l[index]\n",
    "    def extractrangedata (self,l,start,end):\n",
    "        return l[start:end]\n",
    "    def extracteven (self,l):\n",
    "        result = list(filter(lambda x:x if x%2==0 else None,l))\n",
    "        return result"
   ]
  },
  {
   "cell_type": "code",
   "execution_count": 43,
   "metadata": {},
   "outputs": [],
   "source": [
    "myobj=list_operations()"
   ]
  },
  {
   "cell_type": "code",
   "execution_count": 45,
   "metadata": {},
   "outputs": [
    {
     "data": {
      "text/plain": [
       "[2, 3, 4, 5, 6, 7, 8, 9, 10, 11]"
      ]
     },
     "execution_count": 45,
     "metadata": {},
     "output_type": "execute_result"
    }
   ],
   "source": [
    "myobj.myownlist"
   ]
  },
  {
   "cell_type": "code",
   "execution_count": 50,
   "metadata": {},
   "outputs": [
    {
     "data": {
      "text/plain": [
       "[2, 4, 6, 8, 10, 12, 14, 16, 18, 20]"
      ]
     },
     "execution_count": 50,
     "metadata": {},
     "output_type": "execute_result"
    }
   ],
   "source": [
    "list_operations.extracteven(2121,list_2)"
   ]
  },
  {
   "cell_type": "code",
   "execution_count": 3,
   "metadata": {},
   "outputs": [
    {
     "ename": "NameError",
     "evalue": "name 'list_2' is not defined",
     "output_type": "error",
     "traceback": [
      "\u001b[1;31m---------------------------------------------------------------------------\u001b[0m",
      "\u001b[1;31mNameError\u001b[0m                                 Traceback (most recent call last)",
      "\u001b[1;32md:\\Full-Stack-Data-Science-pro\\Resources\\1st_oct_2023_oops.ipynb Cell 23\u001b[0m line \u001b[0;36m1\n\u001b[1;32m----> <a href='vscode-notebook-cell:/d%3A/Full-Stack-Data-Science-pro/Resources/1st_oct_2023_oops.ipynb#X31sZmlsZQ%3D%3D?line=0'>1</a>\u001b[0m list_2\n",
      "\u001b[1;31mNameError\u001b[0m: name 'list_2' is not defined"
     ]
    }
   ],
   "source": [
    "list_2"
   ]
  },
  {
   "cell_type": "markdown",
   "metadata": {},
   "source": [
    "class lists_operations:\n",
    "    def __init__(self,l)\n",
    "is special method  which helps to intialize variable ,is called whenever we create object or variable of class"
   ]
  },
  {
   "cell_type": "code",
   "execution_count": 12,
   "metadata": {},
   "outputs": [],
   "source": [
    "class list_ops:\n",
    "    #a= 10\n",
    "    #l = [4,5,7,7,8,9,9]\n",
    "    def __init__(sudh,l):\n",
    "        sudh.l1 = l \n",
    "        sudh.l2 = 40\n",
    "        sudh.l3 = \"sudh\"\n",
    "        sudh.l4 = (4,5,6,6,7,8)\n",
    "        sudh.l5 = {\"key\":\"value\"}\n",
    "        \n",
    "    def exractfromindex(sudh, index):\n",
    "        return sudh.l1[index]\n",
    "    \n",
    "    def extractrangedata(sudh,l,start,end):\n",
    "        return l[start:end]\n",
    "    \n",
    "    def extracteven(sudh,l):\n",
    "        return list(filter(lambda x:  x if x%2 ==0 else None,l))\n",
    "                "
   ]
  },
  {
   "cell_type": "code",
   "execution_count": 13,
   "metadata": {},
   "outputs": [],
   "source": [
    "sub = list_ops(list_2)"
   ]
  },
  {
   "cell_type": "code",
   "execution_count": 14,
   "metadata": {},
   "outputs": [
    {
     "data": {
      "text/plain": [
       "[2, 4, 6, 8, 10, 12, 14, 16, 18, 20]"
      ]
     },
     "execution_count": 14,
     "metadata": {},
     "output_type": "execute_result"
    }
   ],
   "source": [
    "sub.extracteven(list_2)"
   ]
  },
  {
   "cell_type": "code",
   "execution_count": 15,
   "metadata": {},
   "outputs": [
    {
     "data": {
      "text/plain": [
       "[1, 2, 3, 4, 5, 6, 7, 8, 9, 10, 11, 12, 13, 14, 15, 16, 17, 18, 19, 20]"
      ]
     },
     "execution_count": 15,
     "metadata": {},
     "output_type": "execute_result"
    }
   ],
   "source": [
    "sub.l1"
   ]
  },
  {
   "cell_type": "code",
   "execution_count": 16,
   "metadata": {},
   "outputs": [
    {
     "data": {
      "text/plain": [
       "40"
      ]
     },
     "execution_count": 16,
     "metadata": {},
     "output_type": "execute_result"
    }
   ],
   "source": [
    "sub.l2"
   ]
  },
  {
   "cell_type": "code",
   "execution_count": 17,
   "metadata": {},
   "outputs": [],
   "source": [
    "class book:\n",
    "    \n",
    "    def __init__(self, name , title,pageno) :\n",
    "        self.name_of_book = name\n",
    "        self.title_of_book = title\n",
    "        self.page_no = pageno\n",
    "        \n",
    "    def extract_details(self ):\n",
    "        print(self.name_of_book , self.title_of_book)\n",
    "        \n",
    "    def print_page_no(self):\n",
    "        print(self.page_no)    "
   ]
  },
  {
   "cell_type": "code",
   "execution_count": 18,
   "metadata": {},
   "outputs": [],
   "source": [
    "class book:\n",
    "    def __init__(self,book_name,pages,author):\n",
    "        self.bookname = book_name\n",
    "        self.pages = pages\n",
    "        self.book_author = author\n",
    "    def __repr__(self) -> str:\n",
    "        return \"Is method from class book\"\n",
    "    def get_info (self):\n",
    "        d  = {\"book_name\":self.bookname,\"number_pages\":self.pages,\"author_book\":self.book_author}\n",
    "        return d"
   ]
  },
  {
   "cell_type": "code",
   "execution_count": 19,
   "metadata": {},
   "outputs": [],
   "source": [
    "Machine_learning_by_krish_naik = book(\"Machine_learning_by_krish_naik\",450,\"Krish Naik\")"
   ]
  },
  {
   "cell_type": "code",
   "execution_count": 20,
   "metadata": {},
   "outputs": [
    {
     "name": "stdout",
     "output_type": "stream",
     "text": [
      "Is method from class book\n"
     ]
    }
   ],
   "source": [
    "print(Machine_learning_by_krish_naik)"
   ]
  },
  {
   "cell_type": "code",
   "execution_count": 21,
   "metadata": {},
   "outputs": [
    {
     "data": {
      "text/plain": [
       "{'book_name': 'Machine_learning_by_krish_naik',\n",
       " 'number_pages': 450,\n",
       " 'author_book': 'Krish Naik'}"
      ]
     },
     "execution_count": 21,
     "metadata": {},
     "output_type": "execute_result"
    }
   ],
   "source": [
    "Machine_learning_by_krish_naik.get_info()"
   ]
  },
  {
   "cell_type": "code",
   "execution_count": 22,
   "metadata": {},
   "outputs": [
    {
     "name": "stdout",
     "output_type": "stream",
     "text": [
      "<__main__.list_ops object at 0x00000267639E3CD0>\n"
     ]
    }
   ],
   "source": [
    "print(sub)"
   ]
  },
  {
   "cell_type": "code",
   "execution_count": null,
   "metadata": {},
   "outputs": [],
   "source": []
  }
 ],
 "metadata": {
  "kernelspec": {
   "display_name": "Python 3",
   "language": "python",
   "name": "python3"
  },
  "language_info": {
   "codemirror_mode": {
    "name": "ipython",
    "version": 3
   },
   "file_extension": ".py",
   "mimetype": "text/x-python",
   "name": "python",
   "nbconvert_exporter": "python",
   "pygments_lexer": "ipython3",
   "version": "3.11.0"
  }
 },
 "nbformat": 4,
 "nbformat_minor": 2
}
