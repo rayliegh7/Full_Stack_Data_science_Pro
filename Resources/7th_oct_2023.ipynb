{
 "cells": [
  {
   "cell_type": "markdown",
   "metadata": {},
   "source": [
    "Inheritance : child class or derived class try to access some methids or function of parent class"
   ]
  },
  {
   "cell_type": "markdown",
   "metadata": {},
   "source": [
    "in python inheritance can be implemented by two way 1) using different class with same function name and number of argument 2) using calling function of parents class in child class using class a(b)"
   ]
  },
  {
   "cell_type": "markdown",
   "metadata": {},
   "source": [
    "example of 1"
   ]
  },
  {
   "cell_type": "code",
   "execution_count": 1,
   "metadata": {},
   "outputs": [],
   "source": [
    "class a:\n",
    "    def test(self):\n",
    "        return \"this is a part of class a\""
   ]
  },
  {
   "cell_type": "code",
   "execution_count": 4,
   "metadata": {},
   "outputs": [],
   "source": [
    "obj = a()"
   ]
  },
  {
   "cell_type": "code",
   "execution_count": 5,
   "metadata": {},
   "outputs": [
    {
     "data": {
      "text/plain": [
       "'this is a part of class a'"
      ]
     },
     "execution_count": 5,
     "metadata": {},
     "output_type": "execute_result"
    }
   ],
   "source": [
    "obj.test()"
   ]
  },
  {
   "cell_type": "code",
   "execution_count": 6,
   "metadata": {},
   "outputs": [],
   "source": [
    "class b:\n",
    "    def test(self):\n",
    "        return \"this is a part of class a\""
   ]
  },
  {
   "cell_type": "code",
   "execution_count": 7,
   "metadata": {},
   "outputs": [
    {
     "data": {
      "text/plain": [
       "'this is a part of class a'"
      ]
     },
     "execution_count": 7,
     "metadata": {},
     "output_type": "execute_result"
    }
   ],
   "source": [
    "obj_b = b()\n",
    "obj_b.test()"
   ]
  },
  {
   "cell_type": "markdown",
   "metadata": {},
   "source": [
    "using 2"
   ]
  },
  {
   "cell_type": "code",
   "execution_count": 18,
   "metadata": {},
   "outputs": [],
   "source": [
    "class a:\n",
    "\n",
    "    def show (self):\n",
    "        return \"is a method from parent class\"\n",
    "    \n",
    "class b(a):\n",
    "    pass # do nothing "
   ]
  },
  {
   "cell_type": "code",
   "execution_count": 19,
   "metadata": {},
   "outputs": [
    {
     "data": {
      "text/plain": [
       "'is a method from parent class'"
      ]
     },
     "execution_count": 19,
     "metadata": {},
     "output_type": "execute_result"
    }
   ],
   "source": [
    "obj_b = b()\n",
    "obj_b.show()\n"
   ]
  },
  {
   "cell_type": "code",
   "execution_count": 27,
   "metadata": {},
   "outputs": [],
   "source": [
    "class lecture:\n",
    "    def topic(self):\n",
    "        return \"Today class we  are discussing about inhritance concept in oops \"\n",
    "    \n",
    "    def timing (self):\n",
    "        return \"Timing for today class is 9 Am IST\"\n",
    "    \n",
    "    def end_time (Self):\n",
    "        return \"Today i will try to end class bit early\""
   ]
  },
  {
   "cell_type": "code",
   "execution_count": 28,
   "metadata": {},
   "outputs": [],
   "source": [
    "class student(lecture):\n",
    "    def student_details (self):\n",
    "        return \"This class will give you student details \""
   ]
  },
  {
   "cell_type": "code",
   "execution_count": 29,
   "metadata": {},
   "outputs": [
    {
     "data": {
      "text/plain": [
       "'Today class we  are discussing about inhritance concept in oops '"
      ]
     },
     "execution_count": 29,
     "metadata": {},
     "output_type": "execute_result"
    }
   ],
   "source": [
    "# here we are call method of parent class without creating object of parent class\n",
    "# and we are able to call function or method of parent class using object of derived class that  known as inheritance \n",
    "vicky = student()\n",
    "vicky.topic()"
   ]
  },
  {
   "cell_type": "markdown",
   "metadata": {},
   "source": [
    "Problem statment : IS EXAMPLE OF MULTI LEVEL INHERITANCE\n",
    "i have to access details of student and lecture using teacher class  "
   ]
  },
  {
   "cell_type": "code",
   "execution_count": null,
   "metadata": {},
   "outputs": [],
   "source": [
    "class lecture:\n",
    "    def topic(self):\n",
    "        return \"Today class we  are discussing about inhritance concept in oops \"\n",
    "    \n",
    "    def timing (self):\n",
    "        return \"Timing for today class is 9 Am IST\"\n",
    "    \n",
    "    def end_time (Self):\n",
    "        return \"Today i will try to end class bit early\""
   ]
  },
  {
   "cell_type": "code",
   "execution_count": null,
   "metadata": {},
   "outputs": [],
   "source": [
    "class teacher(student):\n",
    "    def details(self):\n",
    "        return \"This class will provide DETAILS of Teacher class\""
   ]
  },
  {
   "cell_type": "code",
   "execution_count": 30,
   "metadata": {},
   "outputs": [],
   "source": [
    "class teacher(student):\n",
    "    def details(self):\n",
    "        return \"This class will provide DETAILS of Teacher class\""
   ]
  },
  {
   "cell_type": "code",
   "execution_count": 31,
   "metadata": {},
   "outputs": [
    {
     "data": {
      "text/plain": [
       "'Today class we  are discussing about inhritance concept in oops '"
      ]
     },
     "execution_count": 31,
     "metadata": {},
     "output_type": "execute_result"
    }
   ],
   "source": [
    "sudh = teacher()\n",
    "sudh.topic()"
   ]
  },
  {
   "cell_type": "markdown",
   "metadata": {},
   "source": [
    "Problem statament :\n",
    "we have to do same thing but here is twice here student class is not inheritance by lecture class  "
   ]
  },
  {
   "cell_type": "code",
   "execution_count": 32,
   "metadata": {},
   "outputs": [],
   "source": [
    "class lecture:\n",
    "    def topic(self):\n",
    "        return \"Today class we  are discussing about inhritance concept in oops \"\n",
    "    \n",
    "    def timing (self):\n",
    "        return \"Timing for today class is 9 Am IST\"\n",
    "    \n",
    "    def end_time (Self):\n",
    "        return \"Today i will try to end class bit early\""
   ]
  },
  {
   "cell_type": "code",
   "execution_count": 33,
   "metadata": {},
   "outputs": [],
   "source": [
    "class student:\n",
    "    def student_details (self):\n",
    "        return \"This class will give you student details \""
   ]
  },
  {
   "cell_type": "code",
   "execution_count": 34,
   "metadata": {},
   "outputs": [],
   "source": [
    "class teacher(lecture,student):\n",
    "    def details(self):\n",
    "        return \"This class will provide DETAILS of Teacher class\""
   ]
  },
  {
   "cell_type": "code",
   "execution_count": 35,
   "metadata": {},
   "outputs": [
    {
     "data": {
      "text/plain": [
       "'Today i will try to end class bit early'"
      ]
     },
     "execution_count": 35,
     "metadata": {},
     "output_type": "execute_result"
    }
   ],
   "source": [
    "# is an example of multipal inhritance\n",
    "# as we know student and lecture are two different classes  so we use multipale inheritance\n",
    "sunny = teacher ()\n",
    "sunny.end_time()"
   ]
  },
  {
   "cell_type": "markdown",
   "metadata": {},
   "source": [
    " if there are some function common in class so how it will be work ? \n",
    " lets see :"
   ]
  },
  {
   "cell_type": "code",
   "execution_count": 40,
   "metadata": {},
   "outputs": [],
   "source": [
    "class lecture:\n",
    "    def topic(self):\n",
    "        return \"Today class we  are discussing about inhritance concept in oops \"\n",
    "    \n",
    "    def timing (self):\n",
    "        return \"Timing for today class is 9 Am IST from lecture class\"\n",
    "    \n",
    "    def end_time (Self):\n",
    "        return \"Today i will try to end class bit early\""
   ]
  },
  {
   "cell_type": "code",
   "execution_count": 41,
   "metadata": {},
   "outputs": [],
   "source": [
    "class student:\n",
    "    def student_details (self):\n",
    "        return \"This class will give you student details \"\n",
    "    def timing (self):\n",
    "        return \"Timing for today class is 9 Am IST from student class\""
   ]
  },
  {
   "cell_type": "code",
   "execution_count": 42,
   "metadata": {},
   "outputs": [],
   "source": [
    "class teacher(student,lecture):\n",
    "    def details(self):\n",
    "        return \"This class will provide DETAILS of Teacher class\""
   ]
  },
  {
   "cell_type": "code",
   "execution_count": 48,
   "metadata": {},
   "outputs": [
    {
     "data": {
      "text/plain": [
       "'Timing for today class is 9 Am IST from student class'"
      ]
     },
     "execution_count": 48,
     "metadata": {},
     "output_type": "execute_result"
    }
   ],
   "source": [
    "## NOTE (METHOD RESOLUTION ORDER)\n",
    "krish = teacher()\n",
    "krish.timing()\n"
   ]
  },
  {
   "cell_type": "code",
   "execution_count": 50,
   "metadata": {},
   "outputs": [
    {
     "data": {
      "text/plain": [
       "(__main__.teacher, __main__.student, __main__.lecture, object)"
      ]
     },
     "execution_count": 50,
     "metadata": {},
     "output_type": "execute_result"
    }
   ],
   "source": [
    "teacher.__mro__"
   ]
  },
  {
   "cell_type": "code",
   "execution_count": 52,
   "metadata": {},
   "outputs": [],
   "source": [
    "# now we are going to interchange position of studnet and lecture\n",
    "# so see which one will be call function of timing\n",
    "class teacher(lecture,student):\n",
    "    def details(self):\n",
    "        return \"This class will provide DETAILS of Teacher class\""
   ]
  },
  {
   "cell_type": "code",
   "execution_count": 53,
   "metadata": {},
   "outputs": [
    {
     "data": {
      "text/plain": [
       "'Timing for today class is 9 Am IST from lecture class'"
      ]
     },
     "execution_count": 53,
     "metadata": {},
     "output_type": "execute_result"
    }
   ],
   "source": [
    "# creating object of teacher class\n",
    "jayshree = teacher()\n",
    "jayshree.timing()\n",
    "# thats way python solve ambiguity."
   ]
  }
 ],
 "metadata": {
  "kernelspec": {
   "display_name": "Python 3",
   "language": "python",
   "name": "python3"
  },
  "language_info": {
   "codemirror_mode": {
    "name": "ipython",
    "version": 3
   },
   "file_extension": ".py",
   "mimetype": "text/x-python",
   "name": "python",
   "nbconvert_exporter": "python",
   "pygments_lexer": "ipython3",
   "version": "3.11.0"
  }
 },
 "nbformat": 4,
 "nbformat_minor": 2
}
