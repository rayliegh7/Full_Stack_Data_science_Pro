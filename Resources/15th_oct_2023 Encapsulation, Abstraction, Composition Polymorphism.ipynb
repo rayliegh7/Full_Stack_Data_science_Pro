{
 "cells": [
  {
   "cell_type": "markdown",
   "metadata": {},
   "source": [
    "@rayliegh7"
   ]
  },
  {
   "cell_type": "markdown",
   "metadata": {},
   "source": [
    "polymorphism : poly means many , morphism : forms  or types or variety\n",
    "for exmaple  of me i am studnent , freind of someone , and more \n",
    "i means i am a human being with many forms or role"
   ]
  },
  {
   "cell_type": "code",
   "execution_count": 1,
   "metadata": {},
   "outputs": [],
   "source": [
    "def test(a,b):\n",
    "    return a+b"
   ]
  },
  {
   "cell_type": "code",
   "execution_count": 2,
   "metadata": {},
   "outputs": [
    {
     "data": {
      "text/plain": [
       "7"
      ]
     },
     "execution_count": 2,
     "metadata": {},
     "output_type": "execute_result"
    }
   ],
   "source": [
    "test(3,4)"
   ]
  },
  {
   "cell_type": "code",
   "execution_count": 3,
   "metadata": {},
   "outputs": [
    {
     "data": {
      "text/plain": [
       "'hamiltonadwin'"
      ]
     },
     "execution_count": 3,
     "metadata": {},
     "output_type": "execute_result"
    }
   ],
   "source": [
    "test(\"hamilton\",\"adwin\")"
   ]
  },
  {
   "cell_type": "code",
   "execution_count": 4,
   "metadata": {},
   "outputs": [
    {
     "data": {
      "text/plain": [
       "' from above two example + operator behave as concationation for string data types and for\\ninteger data types is behvae like addition of two number that means is follow polymorhism phenomena'"
      ]
     },
     "execution_count": 4,
     "metadata": {},
     "output_type": "execute_result"
    }
   ],
   "source": [
    "\"\"\" from above two example + operator behave as concationation for string data types and for\n",
    "integer data types is behvae like addition of two number that means is follow polymorhism phenomena\"\"\""
   ]
  },
  {
   "cell_type": "code",
   "execution_count": 5,
   "metadata": {},
   "outputs": [],
   "source": [
    "class pwskills :\n",
    "    def student(self):\n",
    "        pass\n",
    "class DataScience(pwskills):\n",
    "    def student(self):\n",
    "        print( f\"These student from DataScience Batch and belongs to Pwskills classes\")\n",
    "class BigData(pwskills):\n",
    "    def student(self):\n",
    "        print(f\"These student from BigData Batch And Belong to Pwskills Classes\")"
   ]
  },
  {
   "cell_type": "code",
   "execution_count": 6,
   "metadata": {},
   "outputs": [
    {
     "name": "stdout",
     "output_type": "stream",
     "text": [
      "These student from DataScience Batch and belongs to Pwskills classes\n",
      "These student from BigData Batch And Belong to Pwskills Classes\n"
     ]
    }
   ],
   "source": [
    "Yash = DataScience()\n",
    "alex = BigData()\n",
    "Yash.student()\n",
    "alex.student()\n",
    "# here we are acheving polymorphism  using method overriding"
   ]
  },
  {
   "cell_type": "code",
   "execution_count": 7,
   "metadata": {},
   "outputs": [],
   "source": [
    "pw = pwskills()"
   ]
  },
  {
   "cell_type": "code",
   "execution_count": 11,
   "metadata": {},
   "outputs": [],
   "source": [
    "pw.student()"
   ]
  },
  {
   "cell_type": "code",
   "execution_count": 12,
   "metadata": {},
   "outputs": [
    {
     "data": {
      "text/plain": [
       "'WE can achived polymorphism by method overloading,method overriding,'"
      ]
     },
     "execution_count": 12,
     "metadata": {},
     "output_type": "execute_result"
    }
   ],
   "source": [
    "\"\"\"WE can achived polymorphism by method overloading,method overriding and using inheritance\"\"\""
   ]
  },
  {
   "cell_type": "code",
   "execution_count": 8,
   "metadata": {},
   "outputs": [],
   "source": [
    "## here we are going to perform polymorphism using dunder __add__ method (methods form vertical addition )\n",
    "## but he perform addition object to object \n",
    "class datascience:\n",
    "    def __init__(self,number_of_student,number_of_class):\n",
    "        self.number_of_student = number_of_student\n",
    "        self.number_of_class = number_of_class\n",
    "    def __add__(self,other):\n",
    "        return datascience(self.number_of_student + other.number_of_student , self.number_of_class + other.number_of_class)\n",
    "    "
   ]
  },
  {
   "cell_type": "code",
   "execution_count": 9,
   "metadata": {},
   "outputs": [],
   "source": [
    "obj1 = datascience(20,1)\n",
    "obj2 = datascience(45,2)"
   ]
  },
  {
   "cell_type": "code",
   "execution_count": 10,
   "metadata": {},
   "outputs": [],
   "source": [
    "total = obj1 + obj2"
   ]
  },
  {
   "cell_type": "code",
   "execution_count": 12,
   "metadata": {},
   "outputs": [
    {
     "data": {
      "text/plain": [
       "3"
      ]
     },
     "execution_count": 12,
     "metadata": {},
     "output_type": "execute_result"
    }
   ],
   "source": [
    "total.number_of_class"
   ]
  },
  {
   "cell_type": "code",
   "execution_count": 13,
   "metadata": {},
   "outputs": [
    {
     "data": {
      "text/plain": [
       "65"
      ]
     },
     "execution_count": 13,
     "metadata": {},
     "output_type": "execute_result"
    }
   ],
   "source": [
    "total.number_of_student"
   ]
  },
  {
   "cell_type": "code",
   "execution_count": 39,
   "metadata": {},
   "outputs": [],
   "source": [
    "class ai:\n",
    "    def __init__(self,number_of_student,number_of_class):\n",
    "        self.number_of_student = number_of_student\n",
    "        self.number_of_class = number_of_class"
   ]
  },
  {
   "cell_type": "code",
   "execution_count": 41,
   "metadata": {},
   "outputs": [],
   "source": [
    "a = ai (2,25)\n",
    "b = ai (3,25)"
   ]
  },
  {
   "cell_type": "code",
   "execution_count": 42,
   "metadata": {},
   "outputs": [
    {
     "ename": "TypeError",
     "evalue": "unsupported operand type(s) for +: 'ai' and 'ai'",
     "output_type": "error",
     "traceback": [
      "\u001b[1;31m---------------------------------------------------------------------------\u001b[0m",
      "\u001b[1;31mTypeError\u001b[0m                                 Traceback (most recent call last)",
      "\u001b[1;32md:\\Full-Stack-Data-Science-pro\\Resources\\15th_oct_2023.ipynb Cell 19\u001b[0m line \u001b[0;36m1\n\u001b[1;32m----> <a href='vscode-notebook-cell:/d%3A/Full-Stack-Data-Science-pro/Resources/15th_oct_2023.ipynb#X63sZmlsZQ%3D%3D?line=0'>1</a>\u001b[0m a\u001b[39m+\u001b[39;49mb\n",
      "\u001b[1;31mTypeError\u001b[0m: unsupported operand type(s) for +: 'ai' and 'ai'"
     ]
    }
   ],
   "source": [
    "a+b"
   ]
  },
  {
   "cell_type": "code",
   "execution_count": 14,
   "metadata": {},
   "outputs": [],
   "source": [
    "# using duck typing\n",
    "class DataScience():\n",
    "    def student(self):\n",
    "        print( f\"These student from DataScience Batch and belongs to Pwskills classes\")\n",
    "class BigData():\n",
    "    def student(self):\n",
    "        print(f\"These student from BigData Batch And Belong to Pwskills Classes\")\n",
    "def output_class(class_obj):\n",
    "    return class_obj.student()"
   ]
  },
  {
   "cell_type": "code",
   "execution_count": 15,
   "metadata": {},
   "outputs": [],
   "source": [
    "s1 = DataScience()\n",
    "s2 = BigData()"
   ]
  },
  {
   "cell_type": "code",
   "execution_count": 16,
   "metadata": {},
   "outputs": [
    {
     "name": "stdout",
     "output_type": "stream",
     "text": [
      "These student from DataScience Batch and belongs to Pwskills classes\n",
      "These student from BigData Batch And Belong to Pwskills Classes\n"
     ]
    }
   ],
   "source": [
    "s1.student()\n",
    "s2.student()"
   ]
  },
  {
   "cell_type": "code",
   "execution_count": 17,
   "metadata": {},
   "outputs": [
    {
     "name": "stdout",
     "output_type": "stream",
     "text": [
      "These student from DataScience Batch and belongs to Pwskills classes\n"
     ]
    }
   ],
   "source": [
    "output_class(s1)"
   ]
  },
  {
   "cell_type": "code",
   "execution_count": 18,
   "metadata": {},
   "outputs": [
    {
     "name": "stdout",
     "output_type": "stream",
     "text": [
      "These student from BigData Batch And Belong to Pwskills Classes\n"
     ]
    }
   ],
   "source": [
    "output_class(s2)"
   ]
  },
  {
   "cell_type": "markdown",
   "metadata": {},
   "source": [
    "Encapsulation : hinding a data and methods making a variable private or protected \n",
    "\n",
    "Public: Accessible from anywhere (inside and outside of the class).\n",
    "\n",
    "Private: Accessible only within the class. (_)\n",
    "\n",
    "Protected: Accessible within the class and by subclasses (__)\n"
   ]
  },
  {
   "cell_type": "code",
   "execution_count": null,
   "metadata": {},
   "outputs": [],
   "source": [
    "class human:\n",
    "    def __init__(self,name,age,aadhar_cards):\n",
    "        self.name = name\n",
    "        self.age = age\n",
    "        self._aadhar_card = aadhar_cards  # making a variable private\n",
    "    def _show (self):\n",
    "        return f\"hello {self.name} | you are {self.age} | {self._aadhar_card}\""
   ]
  },
  {
   "cell_type": "code",
   "execution_count": null,
   "metadata": {},
   "outputs": [],
   "source": [
    "vicky = human(\"vicky\",21,123456)"
   ]
  },
  {
   "cell_type": "code",
   "execution_count": null,
   "metadata": {},
   "outputs": [
    {
     "name": "stdout",
     "output_type": "stream",
     "text": [
      "vicky\n",
      "21\n",
      "123456\n"
     ]
    },
    {
     "ename": "AttributeError",
     "evalue": "'human' object has no attribute 'aadhar_cards'",
     "output_type": "error",
     "traceback": [
      "\u001b[1;31m---------------------------------------------------------------------------\u001b[0m\n",
      "\u001b[1;31mAttributeError\u001b[0m                            Traceback (most recent call last)\n",
      "\u001b[1;32md:\\Full-Stack-Data-Science-pro\\Resources\\14th_oct_2022_inheritance _2.ipynb Cell 76\u001b[0m line \u001b[0;36m4\n",
      "\u001b[0;32m      <a href='vscode-notebook-cell:/d%3A/Full-Stack-Data-Science-pro/Resources/14th_oct_2022_inheritance%20_2.ipynb#Y163sZmlsZQ%3D%3D?line=1'>2</a>\u001b[0m \u001b[39mprint\u001b[39m(vicky\u001b[39m.\u001b[39mage)\n",
      "\u001b[0;32m      <a href='vscode-notebook-cell:/d%3A/Full-Stack-Data-Science-pro/Resources/14th_oct_2022_inheritance%20_2.ipynb#Y163sZmlsZQ%3D%3D?line=2'>3</a>\u001b[0m \u001b[39mprint\u001b[39m(vicky\u001b[39m.\u001b[39m_aadhar_card) \u001b[39m# can access only using  object name followed by variable name\u001b[39;00m\n",
      "\u001b[1;32m----> <a href='vscode-notebook-cell:/d%3A/Full-Stack-Data-Science-pro/Resources/14th_oct_2022_inheritance%20_2.ipynb#Y163sZmlsZQ%3D%3D?line=3'>4</a>\u001b[0m \u001b[39mprint\u001b[39m(vicky\u001b[39m.\u001b[39;49maadhar_cards)\n",
      "\n",
      "\u001b[1;31mAttributeError\u001b[0m: 'human' object has no attribute 'aadhar_cards'"
     ]
    }
   ],
   "source": [
    "print(vicky.name)\n",
    "print(vicky.age)\n",
    "print(vicky._aadhar_card) # can access only using  object name followed by variable name\n",
    "print(vicky.aadhar_cards)\n"
   ]
  },
  {
   "cell_type": "code",
   "execution_count": null,
   "metadata": {},
   "outputs": [
    {
     "data": {
      "text/plain": [
       "'hello vicky | you are 21 | 123456'"
      ]
     },
     "metadata": {},
     "output_type": "display_data"
    }
   ],
   "source": [
    "vicky._show()"
   ]
  },
  {
   "cell_type": "code",
   "execution_count": 6,
   "metadata": {},
   "outputs": [],
   "source": [
    "class Human:\n",
    "    def __init__(self,name,age,aadhar_card):\n",
    "        self.name = name\n",
    "        self.age = age\n",
    "        self._aadhar_card = aadhar_card  # making a variable private\n",
    "        \n",
    "    def _show (self):\n",
    "        return f\"hello {self.name} | you are {self.age} | {self._aadhar_card}\"\n",
    "class employee(Human):\n",
    "    emp_id = 1\n",
    "    def __init__(self,name,age,aadhar_card,account_number,emp_id):\n",
    "        super().__init__(name,age,aadhar_card)\n",
    "        self.__acc = account_number\n",
    "        self.__emp_id = emp_id\n",
    "    def get_account_number (self):\n",
    "        return f\"{self.__acc}\"\n",
    "    def get_employee_id (self):\n",
    "        return f\"{self.__emp_id}\"\n",
    "\n",
    "    def show (self): \n",
    "        basic_info = super()._show()\n",
    "        return f\"{basic_info} | your account number is {self.__acc} | employee id is {self.__emp_id}\""
   ]
  },
  {
   "cell_type": "code",
   "execution_count": 9,
   "metadata": {},
   "outputs": [],
   "source": [
    "vicky = Human(\"vicky\",21,123456)"
   ]
  },
  {
   "cell_type": "code",
   "execution_count": 7,
   "metadata": {},
   "outputs": [
    {
     "data": {
      "text/plain": [
       "'hello vicky | you are 21 | 123456 | your account number is 7520 | employee id is 59219'"
      ]
     },
     "execution_count": 7,
     "metadata": {},
     "output_type": "execute_result"
    }
   ],
   "source": [
    "emp = employee(\"vicky\",21,123456,7520,59219)\n",
    "emp.show()"
   ]
  },
  {
   "cell_type": "code",
   "execution_count": null,
   "metadata": {},
   "outputs": [
    {
     "name": "stdout",
     "output_type": "stream",
     "text": [
      "hello John | you are 30 | 123456789 | 987654321 | 1\n",
      "hello Alice | you are 25 | 987654321 | 123456789 | 2\n"
     ]
    }
   ],
   "source": [
    "class Human:\n",
    "    def __init__(self, name, age, aadhar_card):\n",
    "        self.name = name\n",
    "        self.age = age\n",
    "        self._aadhar_card = aadhar_card\n",
    "\n",
    "    def _show(self):\n",
    "        return f\"hello {self.name} | you are {self.age} | {self._aadhar_card}\"\n",
    "\n",
    "class Employee(Human):\n",
    "    emp_id_counter = 1  # Class variable to keep track of employee IDs\n",
    "\n",
    "    def __init__(self, name, age, aadhar_card, account_number):\n",
    "        super().__init__(name, age, aadhar_card)\n",
    "        self.__acc = account_number\n",
    "        self.__emp_id = Employee.emp_id_counter  # Assign the current emp_id_counter as the employee ID\n",
    "        Employee.emp_id_counter += 1  # Increment emp_id_counter for the next employee\n",
    "\n",
    "    def get_account_number(self):\n",
    "        return f\"{self.__acc}\"\n",
    "\n",
    "    def get_employee_id(self):\n",
    "        return f\"{self.__emp_id}\"\n",
    "\n",
    "    def show(self):\n",
    "        basic_info = super()._show()\n",
    "        return f\"{basic_info} | {self.__acc} | {self.__emp_id}\"\n",
    "\n",
    "# Example usage:\n",
    "employee1 = Employee(\"John\", 30, \"123456789\", \"987654321\")\n",
    "employee2 = Employee(\"Alice\", 25, \"987654321\", \"123456789\")\n",
    "\n",
    "print(employee1.show())\n",
    "# Output: hello John | you are 30 | 123456789 | 987654321 | 1\n",
    "\n",
    "print(employee2.show())\n",
    "# Output: hello Alice | you are 25 | 987654321 | 123456789 | 2\n"
   ]
  },
  {
   "cell_type": "code",
   "execution_count": null,
   "metadata": {},
   "outputs": [
    {
     "name": "stdout",
     "output_type": "stream",
     "text": [
      "Hello Alice | You are 25 | Aadhar Card: 123456789\n",
      "Hello Bob | You are 30 | Aadhar Card: 987654321 | Account Number: 456789 | Employee ID: 1\n",
      "Hello Charlie | You are 28 | Aadhar Card: 123123123 | Account Number: 789012 | Employee ID: 2\n"
     ]
    }
   ],
   "source": [
    "class Human:\n",
    "    def __init__(self, name, age, aadhar_card):\n",
    "        self.name = name\n",
    "        self.age = age\n",
    "        self._aadhar_card = aadhar_card\n",
    "\n",
    "    def display_info(self):\n",
    "        return f\"Hello {self.name} | You are {self.age} | Aadhar Card: {self._aadhar_card}\"\n",
    "\n",
    "class Employee(Human):\n",
    "    emp_id_counter = 1\n",
    "\n",
    "    def __init__(self, name, age, aadhar_card, account_number):\n",
    "        super().__init__(name, age, aadhar_card)\n",
    "        self.__acc = account_number\n",
    "        self.__emp_id = Employee.emp_id_counter\n",
    "        Employee.emp_id_counter += 1\n",
    "\n",
    "    def get_account_number(self):\n",
    "        return f\"{self.__acc}\"\n",
    "\n",
    "    def get_employee_id(self):\n",
    "        return f\"{self.__emp_id}\"\n",
    "\n",
    "    def display_info(self):\n",
    "        basic_info = super().display_info()\n",
    "        return f\"{basic_info} | Account Number: {self.__acc} | Employee ID: {self.__emp_id}\"\n",
    "\n",
    "# Example usage:\n",
    "def display_employee_info(entity):\n",
    "    print(entity.display_info())\n",
    "\n",
    "# Creating instances\n",
    "human_instance = Human(\"Alice\", 25, \"123456789\")\n",
    "employee_instance1 = Employee(\"Bob\", 30, \"987654321\", \"456789\")\n",
    "employee_instance2 = Employee(\"Charlie\", 28, \"123123123\", \"789012\")\n",
    "\n",
    "# Using polymorphism to display information\n",
    "display_employee_info(human_instance)\n",
    "display_employee_info(employee_instance1)\n",
    "display_employee_info(employee_instance2)\n"
   ]
  },
  {
   "cell_type": "markdown",
   "metadata": {},
   "source": [
    "@rayliegh7"
   ]
  },
  {
   "cell_type": "markdown",
   "metadata": {},
   "source": [
    "Abstarction:"
   ]
  },
  {
   "cell_type": "code",
   "execution_count": 4,
   "metadata": {},
   "outputs": [],
   "source": [
    "from abc import ABC,abstractmethod\n",
    "\n",
    "class pwskills (ABC):\n",
    "    @abstractmethod\n",
    "    def databaseconnect (self):\n",
    "        pass\n",
    "    @abstractmethod\n",
    "    def check_user (self,user_id):\n",
    "        pass\n",
    "    # def check_intership(self,user_id):\n",
    "    #     pass\n"
   ]
  },
  {
   "cell_type": "code",
   "execution_count": 5,
   "metadata": {},
   "outputs": [],
   "source": [
    "class databaseconnect(pwskills):\n",
    "    def databaseconnect(self):\n",
    "        return \"this is implementation of data base connect\""
   ]
  },
  {
   "cell_type": "code",
   "execution_count": 6,
   "metadata": {},
   "outputs": [
    {
     "ename": "TypeError",
     "evalue": "Can't instantiate abstract class databaseconnect with abstract method check_user",
     "output_type": "error",
     "traceback": [
      "\u001b[1;31m---------------------------------------------------------------------------\u001b[0m",
      "\u001b[1;31mTypeError\u001b[0m                                 Traceback (most recent call last)",
      "Cell \u001b[1;32mIn[6], line 1\u001b[0m\n\u001b[1;32m----> 1\u001b[0m db1 \u001b[38;5;241m=\u001b[39m \u001b[43mdatabaseconnect\u001b[49m\u001b[43m(\u001b[49m\u001b[43m)\u001b[49m\n",
      "\u001b[1;31mTypeError\u001b[0m: Can't instantiate abstract class databaseconnect with abstract method check_user"
     ]
    }
   ],
   "source": [
    "db1 = databaseconnect()"
   ]
  },
  {
   "cell_type": "code",
   "execution_count": null,
   "metadata": {},
   "outputs": [],
   "source": []
  }
 ],
 "metadata": {
  "kernelspec": {
   "display_name": "Python 3",
   "language": "python",
   "name": "python3"
  },
  "language_info": {
   "codemirror_mode": {
    "name": "ipython",
    "version": 3
   },
   "file_extension": ".py",
   "mimetype": "text/x-python",
   "name": "python",
   "nbconvert_exporter": "python",
   "pygments_lexer": "ipython3",
   "version": "3.9.19"
  }
 },
 "nbformat": 4,
 "nbformat_minor": 2
}
