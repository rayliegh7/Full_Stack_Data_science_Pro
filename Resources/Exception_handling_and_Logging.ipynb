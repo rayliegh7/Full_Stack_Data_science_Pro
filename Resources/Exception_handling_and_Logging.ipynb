{
 "cells": [
  {
   "cell_type": "markdown",
   "metadata": {},
   "source": [
    "# Exception handling:Date 30/09/23 \n",
    "exeception handling is set of rules these will help to write a code more redialbly "
   ]
  },
  {
   "cell_type": "code",
   "execution_count": 1,
   "metadata": {},
   "outputs": [],
   "source": [
    "a = 10\n",
    "b = 0\n"
   ]
  },
  {
   "cell_type": "code",
   "execution_count": 2,
   "metadata": {},
   "outputs": [
    {
     "ename": "ZeroDivisionError",
     "evalue": "division by zero",
     "output_type": "error",
     "traceback": [
      "\u001b[1;31m---------------------------------------------------------------------------\u001b[0m",
      "\u001b[1;31mZeroDivisionError\u001b[0m                         Traceback (most recent call last)",
      "\u001b[1;32md:\\Full-Stack-Data-Science-pro\\Resources\\Exception_handling_and_Logging.ipynb Cell 3\u001b[0m line \u001b[0;36m1\n\u001b[1;32m----> <a href='vscode-notebook-cell:/d%3A/Full-Stack-Data-Science-pro/Resources/Exception_handling_and_Logging.ipynb#W3sZmlsZQ%3D%3D?line=0'>1</a>\u001b[0m a\u001b[39m/\u001b[39;49mb\n",
      "\u001b[1;31mZeroDivisionError\u001b[0m: division by zero"
     ]
    }
   ],
   "source": [
    "a/b"
   ]
  },
  {
   "cell_type": "code",
   "execution_count": null,
   "metadata": {},
   "outputs": [],
   "source": [
    "a = int(input(\"Enter a value for a\"))\n",
    "b = int(input(\"Enter a value for b\"))\n",
    "print(a/b) # we encounter an error at the r execution so our interpreter dont execute further lines  \n",
    "print(\"something is wrong\") # so it will not execute"
   ]
  },
  {
   "cell_type": "code",
   "execution_count": 4,
   "metadata": {},
   "outputs": [
    {
     "name": "stdout",
     "output_type": "stream",
     "text": [
      "invalid literal for int() with base 10: 'l'\n"
     ]
    },
    {
     "ename": "ZeroDivisionError",
     "evalue": "division by zero",
     "output_type": "error",
     "traceback": [
      "\u001b[1;31m---------------------------------------------------------------------------\u001b[0m",
      "\u001b[1;31mValueError\u001b[0m                                Traceback (most recent call last)",
      "\u001b[1;32md:\\Full-Stack-Data-Science-pro\\Resources\\Exception_handling_and_Logging.ipynb Cell 5\u001b[0m line \u001b[0;36m3\n\u001b[0;32m      <a href='vscode-notebook-cell:/d%3A/Full-Stack-Data-Science-pro/Resources/Exception_handling_and_Logging.ipynb#W5sZmlsZQ%3D%3D?line=1'>2</a>\u001b[0m \u001b[39mtry\u001b[39;00m:\n\u001b[1;32m----> <a href='vscode-notebook-cell:/d%3A/Full-Stack-Data-Science-pro/Resources/Exception_handling_and_Logging.ipynb#W5sZmlsZQ%3D%3D?line=2'>3</a>\u001b[0m     a \u001b[39m=\u001b[39m \u001b[39mint\u001b[39;49m(\u001b[39minput\u001b[39;49m(\u001b[39m\"\u001b[39;49m\u001b[39mEnter a value for a\u001b[39;49m\u001b[39m\"\u001b[39;49m))\n\u001b[0;32m      <a href='vscode-notebook-cell:/d%3A/Full-Stack-Data-Science-pro/Resources/Exception_handling_and_Logging.ipynb#W5sZmlsZQ%3D%3D?line=3'>4</a>\u001b[0m     b \u001b[39m=\u001b[39m \u001b[39mint\u001b[39m(\u001b[39minput\u001b[39m(\u001b[39m\"\u001b[39m\u001b[39mEnter a value for b\u001b[39m\u001b[39m\"\u001b[39m))\n",
      "\u001b[1;31mValueError\u001b[0m: invalid literal for int() with base 10: 'l'",
      "\nDuring handling of the above exception, another exception occurred:\n",
      "\u001b[1;31mZeroDivisionError\u001b[0m                         Traceback (most recent call last)",
      "\u001b[1;32md:\\Full-Stack-Data-Science-pro\\Resources\\Exception_handling_and_Logging.ipynb Cell 5\u001b[0m line \u001b[0;36m8\n\u001b[0;32m      <a href='vscode-notebook-cell:/d%3A/Full-Stack-Data-Science-pro/Resources/Exception_handling_and_Logging.ipynb#W5sZmlsZQ%3D%3D?line=4'>5</a>\u001b[0m \u001b[39mexcept\u001b[39;00m \u001b[39mException\u001b[39;00m \u001b[39mas\u001b[39;00m e:\n\u001b[0;32m      <a href='vscode-notebook-cell:/d%3A/Full-Stack-Data-Science-pro/Resources/Exception_handling_and_Logging.ipynb#W5sZmlsZQ%3D%3D?line=5'>6</a>\u001b[0m     \u001b[39mprint\u001b[39m(e)\n\u001b[1;32m----> <a href='vscode-notebook-cell:/d%3A/Full-Stack-Data-Science-pro/Resources/Exception_handling_and_Logging.ipynb#W5sZmlsZQ%3D%3D?line=7'>8</a>\u001b[0m     \u001b[39mprint\u001b[39m(a\u001b[39m/\u001b[39;49mb)\n\u001b[0;32m      <a href='vscode-notebook-cell:/d%3A/Full-Stack-Data-Science-pro/Resources/Exception_handling_and_Logging.ipynb#W5sZmlsZQ%3D%3D?line=8'>9</a>\u001b[0m \u001b[39mexcept\u001b[39;00m \u001b[39mException\u001b[39;00m \u001b[39mas\u001b[39;00m e:\n\u001b[0;32m     <a href='vscode-notebook-cell:/d%3A/Full-Stack-Data-Science-pro/Resources/Exception_handling_and_Logging.ipynb#W5sZmlsZQ%3D%3D?line=9'>10</a>\u001b[0m     \u001b[39mprint\u001b[39m(e)\n",
      "\u001b[1;31mZeroDivisionError\u001b[0m: division by zero"
     ]
    }
   ],
   "source": [
    "\"\"\"now  exception comes into picture \"\"\"\n",
    "try:\n",
    "    a = int(input(\"Enter a value for a\"))\n",
    "    b = int(input(\"Enter a value for b\"))\n",
    "except Exception as e:\n",
    "    print(e)\n",
    "\n",
    "    print(a/b)\n",
    "except Exception as e:\n",
    "    print(e)"
   ]
  },
  {
   "cell_type": "code",
   "execution_count": 19,
   "metadata": {},
   "outputs": [],
   "source": [
    "l = [4,5,6,7,8,9,0]\n",
    "def even_parser(l):\n",
    "    l1=[]\n",
    "    for i in l:\n",
    "        if i%2==0:\n",
    "            l1.append(i)\n",
    "    return l1"
   ]
  },
  {
   "cell_type": "code",
   "execution_count": 6,
   "metadata": {},
   "outputs": [
    {
     "data": {
      "text/plain": [
       "[4, 6, 8, 0]"
      ]
     },
     "execution_count": 6,
     "metadata": {},
     "output_type": "execute_result"
    }
   ],
   "source": [
    "even_parser(l)"
   ]
  },
  {
   "cell_type": "code",
   "execution_count": 7,
   "metadata": {},
   "outputs": [
    {
     "ename": "TypeError",
     "evalue": "not all arguments converted during string formatting",
     "output_type": "error",
     "traceback": [
      "\u001b[1;31m---------------------------------------------------------------------------\u001b[0m",
      "\u001b[1;31mTypeError\u001b[0m                                 Traceback (most recent call last)",
      "\u001b[1;32md:\\Full-Stack-Data-Science-pro\\Resources\\Exception_handling_and_Logging.ipynb Cell 8\u001b[0m line \u001b[0;36m1\n\u001b[1;32m----> <a href='vscode-notebook-cell:/d%3A/Full-Stack-Data-Science-pro/Resources/Exception_handling_and_Logging.ipynb#X11sZmlsZQ%3D%3D?line=0'>1</a>\u001b[0m even_parser(\u001b[39m\"\u001b[39;49m\u001b[39msudh\u001b[39;49m\u001b[39m\"\u001b[39;49m)\n",
      "\u001b[1;32md:\\Full-Stack-Data-Science-pro\\Resources\\Exception_handling_and_Logging.ipynb Cell 8\u001b[0m line \u001b[0;36m5\n\u001b[0;32m      <a href='vscode-notebook-cell:/d%3A/Full-Stack-Data-Science-pro/Resources/Exception_handling_and_Logging.ipynb#X11sZmlsZQ%3D%3D?line=2'>3</a>\u001b[0m l1\u001b[39m=\u001b[39m[]\n\u001b[0;32m      <a href='vscode-notebook-cell:/d%3A/Full-Stack-Data-Science-pro/Resources/Exception_handling_and_Logging.ipynb#X11sZmlsZQ%3D%3D?line=3'>4</a>\u001b[0m \u001b[39mfor\u001b[39;00m i \u001b[39min\u001b[39;00m l:\n\u001b[1;32m----> <a href='vscode-notebook-cell:/d%3A/Full-Stack-Data-Science-pro/Resources/Exception_handling_and_Logging.ipynb#X11sZmlsZQ%3D%3D?line=4'>5</a>\u001b[0m     \u001b[39mif\u001b[39;00m i\u001b[39m%\u001b[39;49m\u001b[39m2\u001b[39;49m\u001b[39m==\u001b[39m\u001b[39m0\u001b[39m:\n\u001b[0;32m      <a href='vscode-notebook-cell:/d%3A/Full-Stack-Data-Science-pro/Resources/Exception_handling_and_Logging.ipynb#X11sZmlsZQ%3D%3D?line=5'>6</a>\u001b[0m         l1\u001b[39m.\u001b[39mappend(i)\n\u001b[0;32m      <a href='vscode-notebook-cell:/d%3A/Full-Stack-Data-Science-pro/Resources/Exception_handling_and_Logging.ipynb#X11sZmlsZQ%3D%3D?line=6'>7</a>\u001b[0m \u001b[39mreturn\u001b[39;00m l1\n",
      "\u001b[1;31mTypeError\u001b[0m: not all arguments converted during string formatting"
     ]
    }
   ],
   "source": [
    "even_parser(\"sudh\")"
   ]
  },
  {
   "cell_type": "code",
   "execution_count": 14,
   "metadata": {},
   "outputs": [
    {
     "name": "stdout",
     "output_type": "stream",
     "text": [
      "you have ecxecuted program without error\n"
     ]
    }
   ],
   "source": [
    "\"\"\"now  exception comes into picture \"\"\"\n",
    "try:\n",
    "    a = int(input(\"Enter a value for a\"))\n",
    "    b = int(input(\"Enter a value for b\"))\n",
    "    print(a/b)\n",
    "    \"\"\"if there is runtime error it will raise an exception\"\"\"\n",
    "except:\n",
    "    pass\n",
    "\n",
    "print(\"you have ecxecuted program without error\")\n"
   ]
  },
  {
   "cell_type": "code",
   "execution_count": 15,
   "metadata": {},
   "outputs": [
    {
     "ename": "TypeError",
     "evalue": "'int' object is not iterable",
     "output_type": "error",
     "traceback": [
      "\u001b[1;31m---------------------------------------------------------------------------\u001b[0m",
      "\u001b[1;31mTypeError\u001b[0m                                 Traceback (most recent call last)",
      "\u001b[1;32md:\\Full-Stack-Data-Science-pro\\Resources\\Exception_handling_and_Logging.ipynb Cell 10\u001b[0m line \u001b[0;36m1\n\u001b[1;32m----> <a href='vscode-notebook-cell:/d%3A/Full-Stack-Data-Science-pro/Resources/Exception_handling_and_Logging.ipynb#X13sZmlsZQ%3D%3D?line=0'>1</a>\u001b[0m even_parser(\u001b[39m5\u001b[39;49m)\n",
      "\u001b[1;32md:\\Full-Stack-Data-Science-pro\\Resources\\Exception_handling_and_Logging.ipynb Cell 10\u001b[0m line \u001b[0;36m4\n\u001b[0;32m      <a href='vscode-notebook-cell:/d%3A/Full-Stack-Data-Science-pro/Resources/Exception_handling_and_Logging.ipynb#X13sZmlsZQ%3D%3D?line=1'>2</a>\u001b[0m \u001b[39mdef\u001b[39;00m \u001b[39meven_parser\u001b[39m(l):\n\u001b[0;32m      <a href='vscode-notebook-cell:/d%3A/Full-Stack-Data-Science-pro/Resources/Exception_handling_and_Logging.ipynb#X13sZmlsZQ%3D%3D?line=2'>3</a>\u001b[0m     l1\u001b[39m=\u001b[39m[]\n\u001b[1;32m----> <a href='vscode-notebook-cell:/d%3A/Full-Stack-Data-Science-pro/Resources/Exception_handling_and_Logging.ipynb#X13sZmlsZQ%3D%3D?line=3'>4</a>\u001b[0m     \u001b[39mfor\u001b[39;00m i \u001b[39min\u001b[39;00m l:\n\u001b[0;32m      <a href='vscode-notebook-cell:/d%3A/Full-Stack-Data-Science-pro/Resources/Exception_handling_and_Logging.ipynb#X13sZmlsZQ%3D%3D?line=4'>5</a>\u001b[0m         \u001b[39mif\u001b[39;00m i\u001b[39m%\u001b[39m\u001b[39m2\u001b[39m\u001b[39m==\u001b[39m\u001b[39m0\u001b[39m:\n\u001b[0;32m      <a href='vscode-notebook-cell:/d%3A/Full-Stack-Data-Science-pro/Resources/Exception_handling_and_Logging.ipynb#X13sZmlsZQ%3D%3D?line=5'>6</a>\u001b[0m             l1\u001b[39m.\u001b[39mappend(i)\n",
      "\u001b[1;31mTypeError\u001b[0m: 'int' object is not iterable"
     ]
    }
   ],
   "source": [
    "even_parser(5)"
   ]
  },
  {
   "cell_type": "code",
   "execution_count": 17,
   "metadata": {},
   "outputs": [],
   "source": [
    "l = [4,5,6,7,8,9,0]\n",
    "def even_parser_2(l):\n",
    "    l1=[]\n",
    "    try:\n",
    "        for i in l:\n",
    "            if i%2==0:\n",
    "                l1.append(i)\n",
    "    except:\n",
    "        pass            \n",
    "    return l1\n"
   ]
  },
  {
   "cell_type": "code",
   "execution_count": 18,
   "metadata": {},
   "outputs": [
    {
     "data": {
      "text/plain": [
       "[]"
      ]
     },
     "execution_count": 18,
     "metadata": {},
     "output_type": "execute_result"
    }
   ],
   "source": [
    "even_parser_2(5)"
   ]
  },
  {
   "cell_type": "code",
   "execution_count": 22,
   "metadata": {},
   "outputs": [
    {
     "name": "stdout",
     "output_type": "stream",
     "text": [
      "division by zero\n"
     ]
    }
   ],
   "source": [
    "try:\n",
    "    6/0\n",
    "except Exception as e:\n",
    "    print(e)    # exception is package "
   ]
  },
  {
   "cell_type": "code",
   "execution_count": 23,
   "metadata": {},
   "outputs": [
    {
     "name": "stdout",
     "output_type": "stream",
     "text": [
      "invalid literal for int() with base 10: 'sudh'\n"
     ]
    }
   ],
   "source": [
    "try:\n",
    "    a = int(input(\"Enter a value for a\"))\n",
    "    b = int(input(\"Enter a value for b\"))\n",
    "    print(a/b)\n",
    "except Exception as e:\n",
    "    print(e)"
   ]
  },
  {
   "cell_type": "code",
   "execution_count": 26,
   "metadata": {},
   "outputs": [
    {
     "name": "stdout",
     "output_type": "stream",
     "text": [
      "division by zero\n"
     ]
    }
   ],
   "source": [
    "try:\n",
    "    a = int(input(\"Enter a value for a\"))\n",
    "    b = int(input(\"Enter a value for b\"))\n",
    "    print(a/b)\n",
    "except ValueError as t: # it exception help to handle value error likes string \n",
    "    print(t)\n",
    "except ZeroDivisionError as z:\n",
    "    print(z)"
   ]
  },
  {
   "cell_type": "code",
   "execution_count": 32,
   "metadata": {},
   "outputs": [],
   "source": [
    "l = [4,5,6,7,8,9,0]\n",
    "def even_parser_3(l):\n",
    "    l1=[]\n",
    "    try:\n",
    "        for i in l:\n",
    "            if i%2==0:\n",
    "                l1.append(i)\n",
    "    except TypeError as t:\n",
    "        print(t)\n",
    "        print(\"error has occured\")\n",
    "    return l1"
   ]
  },
  {
   "cell_type": "code",
   "execution_count": 33,
   "metadata": {},
   "outputs": [
    {
     "name": "stdout",
     "output_type": "stream",
     "text": [
      "not all arguments converted during string formatting\n",
      "error has occured\n"
     ]
    },
    {
     "data": {
      "text/plain": [
       "[]"
      ]
     },
     "execution_count": 33,
     "metadata": {},
     "output_type": "execute_result"
    }
   ],
   "source": [
    "even_parser_3(\"sudgh\")"
   ]
  },
  {
   "cell_type": "code",
   "execution_count": 35,
   "metadata": {},
   "outputs": [
    {
     "name": "stdout",
     "output_type": "stream",
     "text": [
      "this will execute itself once try will execute without an error\n"
     ]
    }
   ],
   "source": [
    "try:\n",
    "    x = 5/1\n",
    "except ZeroDivisionError as z:\n",
    "    print(z) \n",
    "else:\n",
    "    print(\"this will execute itself once try will execute without an error\")"
   ]
  },
  {
   "cell_type": "code",
   "execution_count": 36,
   "metadata": {},
   "outputs": [
    {
     "name": "stdout",
     "output_type": "stream",
     "text": [
      "this will execute itself once try will execute without an error\n",
      "This wwill be executed always\n"
     ]
    }
   ],
   "source": [
    "try:\n",
    "    x = 5/1\n",
    "except ZeroDivisionError as z:\n",
    "    print(z) \n",
    "else:\n",
    "    print(\"this will execute itself once try will execute without an error\")\n",
    "finally:\n",
    "    print(\"This wwill be executed always\")"
   ]
  },
  {
   "cell_type": "code",
   "execution_count": 37,
   "metadata": {},
   "outputs": [
    {
     "ename": "KeyError",
     "evalue": "'course'",
     "output_type": "error",
     "traceback": [
      "\u001b[1;31m---------------------------------------------------------------------------\u001b[0m",
      "\u001b[1;31mKeyError\u001b[0m                                  Traceback (most recent call last)",
      "\u001b[1;32md:\\Full-Stack-Data-Science-pro\\Resources\\Exception_handling_and_Logging.ipynb Cell 20\u001b[0m line \u001b[0;36m2\n\u001b[0;32m      <a href='vscode-notebook-cell:/d%3A/Full-Stack-Data-Science-pro/Resources/Exception_handling_and_Logging.ipynb#X30sZmlsZQ%3D%3D?line=0'>1</a>\u001b[0m d \u001b[39m=\u001b[39m {\u001b[39m'\u001b[39m\u001b[39mname\u001b[39m\u001b[39m'\u001b[39m:\u001b[39m'\u001b[39m\u001b[39mvicky\u001b[39m\u001b[39m'\u001b[39m,\u001b[39m'\u001b[39m\u001b[39mmobile_no\u001b[39m\u001b[39m'\u001b[39m:\u001b[39m1234567890\u001b[39m,\u001b[39m'\u001b[39m\u001b[39memail_id\u001b[39m\u001b[39m'\u001b[39m:\u001b[39m'\u001b[39m\u001b[39m@hotmail.com\u001b[39m\u001b[39m'\u001b[39m}\n\u001b[1;32m----> <a href='vscode-notebook-cell:/d%3A/Full-Stack-Data-Science-pro/Resources/Exception_handling_and_Logging.ipynb#X30sZmlsZQ%3D%3D?line=1'>2</a>\u001b[0m d[\u001b[39m'\u001b[39;49m\u001b[39mcourse\u001b[39;49m\u001b[39m'\u001b[39;49m]\n",
      "\u001b[1;31mKeyError\u001b[0m: 'course'"
     ]
    }
   ],
   "source": [
    "d = {'name':'vicky','mobile_no':1234567890,'email_id':'@hotmail.com'}\n",
    "d['course']"
   ]
  },
  {
   "cell_type": "code",
   "execution_count": 38,
   "metadata": {},
   "outputs": [
    {
     "name": "stdout",
     "output_type": "stream",
     "text": [
      "'course'\n"
     ]
    }
   ],
   "source": [
    "try:\n",
    "    d = {'name':'vicky','mobile_no':1234567890,'email_id':'@hotmail.com'}\n",
    "    d['course']\n",
    "except KeyError as k:\n",
    "    print(k)"
   ]
  },
  {
   "cell_type": "code",
   "execution_count": 39,
   "metadata": {},
   "outputs": [
    {
     "name": "stdout",
     "output_type": "stream",
     "text": [
      "'course' is not valid key\n"
     ]
    }
   ],
   "source": [
    "#now we have to write own custom message\n",
    "try:\n",
    "    d = {'name':'vicky','mobile_no':1234567890,'email_id':'@hotmail.com'}\n",
    "    d['course']\n",
    "except KeyError as k:\n",
    "    print(f\"{k} is not valid key\")"
   ]
  },
  {
   "cell_type": "code",
   "execution_count": 42,
   "metadata": {},
   "outputs": [
    {
     "name": "stdout",
     "output_type": "stream",
     "text": [
      " list index out of range\n"
     ]
    }
   ],
   "source": [
    "try:\n",
    "    l1 = [4,5,6,7,7,8]\n",
    "    l[10]\n",
    "except IndexError as i:\n",
    "    print(f\" {i}\")\n"
   ]
  },
  {
   "cell_type": "code",
   "execution_count": 47,
   "metadata": {},
   "outputs": [],
   "source": [
    "try:\n",
    "    file_name = \"test.txt\"\n",
    "    f = open(file_name)\n",
    "    f.read()\n",
    "except FileNotFoundError as file:\n",
    "    print(\"file not found\")\n",
    "    "
   ]
  },
  {
   "cell_type": "code",
   "execution_count": 48,
   "metadata": {},
   "outputs": [
    {
     "data": {
      "text/plain": [
       "'\"hello how are you\"'"
      ]
     },
     "execution_count": 48,
     "metadata": {},
     "output_type": "execute_result"
    }
   ],
   "source": [
    "file_name = \"test.txt\"\n",
    "f = open(file_name)\n",
    "f.read()"
   ]
  },
  {
   "cell_type": "code",
   "execution_count": 50,
   "metadata": {},
   "outputs": [
    {
     "name": "stdout",
     "output_type": "stream",
     "text": [
      "d:\\Full-Stack-Data-Science-pro\\Resources\n"
     ]
    }
   ],
   "source": [
    "cd --"
   ]
  },
  {
   "cell_type": "code",
   "execution_count": 52,
   "metadata": {},
   "outputs": [
    {
     "ename": "ZeroDivisionError",
     "evalue": "division by zero",
     "output_type": "error",
     "traceback": [
      "\u001b[1;31m---------------------------------------------------------------------------\u001b[0m",
      "\u001b[1;31mZeroDivisionError\u001b[0m                         Traceback (most recent call last)",
      "\u001b[1;32md:\\Full-Stack-Data-Science-pro\\Resources\\Exception_handling_and_Logging.ipynb Cell 27\u001b[0m line \u001b[0;36m2\n\u001b[0;32m      <a href='vscode-notebook-cell:/d%3A/Full-Stack-Data-Science-pro/Resources/Exception_handling_and_Logging.ipynb#X40sZmlsZQ%3D%3D?line=0'>1</a>\u001b[0m n \u001b[39m=\u001b[39m \u001b[39mint\u001b[39m (\u001b[39minput\u001b[39m(\u001b[39m\"\u001b[39m\u001b[39mEnter a number\u001b[39m\u001b[39m\"\u001b[39m))\n\u001b[1;32m----> <a href='vscode-notebook-cell:/d%3A/Full-Stack-Data-Science-pro/Resources/Exception_handling_and_Logging.ipynb#X40sZmlsZQ%3D%3D?line=1'>2</a>\u001b[0m div \u001b[39m=\u001b[39m \u001b[39m342\u001b[39;49m\u001b[39m/\u001b[39;49mn\n\u001b[0;32m      <a href='vscode-notebook-cell:/d%3A/Full-Stack-Data-Science-pro/Resources/Exception_handling_and_Logging.ipynb#X40sZmlsZQ%3D%3D?line=2'>3</a>\u001b[0m \u001b[39mprint\u001b[39m(div)\n",
      "\u001b[1;31mZeroDivisionError\u001b[0m: division by zero"
     ]
    }
   ],
   "source": [
    "n = int (input(\"Enter a number\"))\n",
    "div = 342/n\n",
    "print(div)"
   ]
  },
  {
   "cell_type": "code",
   "execution_count": 3,
   "metadata": {},
   "outputs": [
    {
     "name": "stdout",
     "output_type": "stream",
     "text": [
      "85.5\n"
     ]
    }
   ],
   "source": [
    "\n",
    "try:\n",
    "    n = int (input(\"Enter a number\"))\n",
    "    div = 342/n\n",
    "    print(div)\n",
    "except ValueError as v:\n",
    "    print(\"invalid input\")\n",
    "except ZeroDivisionError as z:\n",
    "    print(\"user has enetered zero\")\n"
   ]
  },
  {
   "cell_type": "code",
   "execution_count": 5,
   "metadata": {},
   "outputs": [
    {
     "name": "stdout",
     "output_type": "stream",
     "text": [
      "user has enetered zero\n"
     ]
    }
   ],
   "source": [
    "\n",
    "try:\n",
    "    n = int (input(\"Enter a number\"))\n",
    "    div = 342/n\n",
    "    print(div)\n",
    "except ValueError as v:\n",
    "    print(\"invalid input\")\n",
    "except ZeroDivisionError as z:\n",
    "    print(\"user has enetered zero\")\n",
    "else:\n",
    "    print(div)"
   ]
  },
  {
   "cell_type": "code",
   "execution_count": 9,
   "metadata": {},
   "outputs": [
    {
     "name": "stdout",
     "output_type": "stream",
     "text": [
      "\"hello how are you\"\n",
      "we all here to learn python\n",
      "have  a good day\n"
     ]
    }
   ],
   "source": [
    "try:\n",
    "    file_name = \"D://Full-Stack-Data-Science-pro//Resources//test.txt\"\n",
    "    f = open(file_name)\n",
    "    data =  f.read()\n",
    "except FileNotFoundError as file:\n",
    "    print(file)\n",
    "else:\n",
    "    print(data)\n",
    "finally:\n",
    "    f.close()"
   ]
  },
  {
   "cell_type": "code",
   "execution_count": 12,
   "metadata": {},
   "outputs": [
    {
     "ename": "SyntaxError",
     "evalue": "invalid syntax (1036955104.py, line 5)",
     "output_type": "error",
     "traceback": [
      "\u001b[1;36m  Cell \u001b[1;32mIn[12], line 5\u001b[1;36m\u001b[0m\n\u001b[1;33m    except (FileNotFoundError,TypeError) as file,file2:\u001b[0m\n\u001b[1;37m                                                ^\u001b[0m\n\u001b[1;31mSyntaxError\u001b[0m\u001b[1;31m:\u001b[0m invalid syntax\n"
     ]
    }
   ],
   "source": [
    "try:\n",
    "    file_name = \"D://Full-Stack-Data-Science-pro//Resources//test.txt\"\n",
    "    f = open(file_name)\n",
    "    data =  f.write()\n",
    "except (FileNotFoundError,TypeError) (file,file2):\n",
    "    print(file,file2)\n",
    "else:\n",
    "    print(data)\n",
    "finally:\n",
    "    try:\n",
    "        print(data)\n",
    "    except:\n",
    "        pass\n",
    "    f.close()"
   ]
  },
  {
   "cell_type": "code",
   "execution_count": 1,
   "metadata": {},
   "outputs": [
    {
     "name": "stdout",
     "output_type": "stream",
     "text": [
      "Data written successfully: Hello, world!\n",
      "Data in the 'finally' block: Hello, world!\n"
     ]
    }
   ],
   "source": [
    "try:\n",
    "    file_name = \"D://Full-Stack-Data-Science-pro//Resources//test.txt\"\n",
    "    f = open(file_name, 'w')  # Open the file in write mode ('w')\n",
    "    data = \"Hello, world!\"  # Sample data to write to the file\n",
    "    f.write(data)  # Write data to the file\n",
    "except FileNotFoundError as e:\n",
    "    print(\"File not found:\", e)\n",
    "except TypeError as e:\n",
    "    print(\"Type error:\", e)\n",
    "else:\n",
    "    print(\"Data written successfully:\", data)\n",
    "finally:\n",
    "    try:\n",
    "        print(\"Data in the 'finally' block:\", data)\n",
    "    except:\n",
    "        pass\n",
    "    f.close()  # Close the file\n"
   ]
  },
  {
   "cell_type": "code",
   "execution_count": 14,
   "metadata": {},
   "outputs": [],
   "source": [
    "### raising custom exeception\n",
    "try:\n",
    "    try:\n",
    "        age = int(input(\"Enter a age\"))\n",
    "        if age >=18:\n",
    "            raise ValueError(\"you are not valid person\")\n",
    "    except ValueError as v:\n",
    "        print(v)\n",
    "except ValueError as v:\n",
    "    print(\"age cannot be string or please enter age in integer only\")\n"
   ]
  },
  {
   "cell_type": "markdown",
   "metadata": {},
   "source": [
    "# Logging "
   ]
  },
  {
   "cell_type": "code",
   "execution_count": 5,
   "metadata": {},
   "outputs": [],
   "source": [
    "# logging or log is help to store or track \n",
    "import logging as log"
   ]
  },
  {
   "cell_type": "code",
   "execution_count": 7,
   "metadata": {},
   "outputs": [],
   "source": [
    "log.basicConfig(filename = 'test.log',level = log.INFO)"
   ]
  },
  {
   "cell_type": "code",
   "execution_count": 3,
   "metadata": {},
   "outputs": [],
   "source": [
    "log.info('store a message')"
   ]
  },
  {
   "cell_type": "code",
   "execution_count": 33,
   "metadata": {},
   "outputs": [
    {
     "data": {
      "text/plain": [
       "'Level info'"
      ]
     },
     "execution_count": 33,
     "metadata": {},
     "output_type": "execute_result"
    }
   ],
   "source": [
    "debug = 10\n",
    "info = 20\n",
    "Warning = 30\n",
    "error = 40\n",
    "critical = 50\n"
   ]
  },
  {
   "cell_type": "code",
   "execution_count": 9,
   "metadata": {},
   "outputs": [],
   "source": [
    "log.debug(\"is adebug message\")\n",
    "# it will not add to txt message"
   ]
  },
  {
   "cell_type": "code",
   "execution_count": 10,
   "metadata": {},
   "outputs": [],
   "source": [
    "log.warning(\"always try to maintain contiensity\")"
   ]
  },
  {
   "cell_type": "code",
   "execution_count": 34,
   "metadata": {},
   "outputs": [],
   "source": [
    "log.basicConfig(filename=\"exception_summery.txt\",level=log.INFO)\n"
   ]
  },
  {
   "cell_type": "code",
   "execution_count": 35,
   "metadata": {},
   "outputs": [],
   "source": [
    "try:\n",
    "    try:\n",
    "        log.info(\"Program has started\")\n",
    "        number = int(input(\"Enter a number\"))\n",
    "        result = 56/number\n",
    "    except ZeroDivisionError as ze:\n",
    "        log.critical(\"user have enter zero\")\n",
    "except ValueError as ve:\n",
    "    log.critical(\"user have enter invalid data types\")\n",
    "\n"
   ]
  },
  {
   "cell_type": "code",
   "execution_count": 1,
   "metadata": {},
   "outputs": [
    {
     "name": "stdout",
     "output_type": "stream",
     "text": [
      "2\n",
      "every one has right to vote\n"
     ]
    }
   ],
   "source": [
    "import logging\n",
    "logging.basicConfig(filename=\"summery.log\",level=logging.INFO,format='%(asctime)s- %(message)s')\n",
    "\n",
    "try:\n",
    "    logging.info(\"program is start\")\n",
    "    age = int(input(\"enter a age\"))\n",
    "    logging.info(\"user has enter a age\")\n",
    "    if age < 0:\n",
    "        logging.critical(\"user has enter negative age as input\")\n",
    "        raise ValueError(\"an age can not be neagative\")\n",
    "    elif age>=18:\n",
    "        logging.info(\"user is elgiable for voting\")\n",
    "\n",
    "        print(\"user is elgiab;e for voting\")\n",
    "except Exception as e:\n",
    "    logging.error(e)\n",
    "else:\n",
    "    print(age)\n",
    "finally:\n",
    "    print(\"every one has right to vote\")\n",
    "    logging.info(\"Program executed euccessfully\")\n",
    "        \n"
   ]
  },
  {
   "cell_type": "code",
   "execution_count": 7,
   "metadata": {},
   "outputs": [
    {
     "name": "stdout",
     "output_type": "stream",
     "text": [
      "Press 1 for radius and 2 for diameter\n",
      "Invalid input. Please enter 1 for radius or 2 for diameter.\n"
     ]
    }
   ],
   "source": [
    "# program to find volume of sphere \n",
    "# formula of vollume of sphere is 4/3*pi*r**3\n",
    "# where is r is radius \n",
    "import math\n",
    "\n",
    "# Get user input for radius or diameter\n",
    "print(\"Press 1 for radius and 2 for diameter\")\n",
    "check_condition = input(\"Which parameter would you like to use, radius or diameter? \")\n",
    "\n",
    "if check_condition == \"1\" or check_condition == \"radius\":\n",
    "    r = float(input(\"Enter the radius: \"))\n",
    "    volume = (4/3) * math.pi * (r ** 3)\n",
    "    print(f\"Volume of the sphere is: {volume}\")\n",
    "elif check_condition == \"2\" or check_condition == \"diameter\":\n",
    "    d = float(input(\"Enter the diameter: \"))\n",
    "    r = d / 2\n",
    "    volume = (4/3) * math.pi * (r ** 3)\n",
    "    print(f\"Volume of the sphere is: {volume}\")\n",
    "else:\n",
    "    print(\"Invalid input. Please enter 1 for radius or 2 for diameter.\")\n",
    "\n"
   ]
  },
  {
   "cell_type": "code",
   "execution_count": 1,
   "metadata": {},
   "outputs": [
    {
     "name": "stdout",
     "output_type": "stream",
     "text": [
      "hellohellohello\n"
     ]
    }
   ],
   "source": [
    "print(\"hello\"*3)"
   ]
  },
  {
   "cell_type": "code",
   "execution_count": 2,
   "metadata": {},
   "outputs": [
    {
     "data": {
      "text/plain": [
       "'yth'"
      ]
     },
     "execution_count": 2,
     "metadata": {},
     "output_type": "execute_result"
    }
   ],
   "source": [
    "\"Python\"[1:4]"
   ]
  },
  {
   "cell_type": "code",
   "execution_count": 3,
   "metadata": {},
   "outputs": [
    {
     "data": {
      "text/plain": [
       "6"
      ]
     },
     "execution_count": 3,
     "metadata": {},
     "output_type": "execute_result"
    }
   ],
   "source": [
    "len(\"python\")"
   ]
  },
  {
   "cell_type": "code",
   "execution_count": null,
   "metadata": {},
   "outputs": [],
   "source": []
  }
 ],
 "metadata": {
  "kernelspec": {
   "display_name": "Python 3",
   "language": "python",
   "name": "python3"
  },
  "language_info": {
   "codemirror_mode": {
    "name": "ipython",
    "version": 3
   },
   "file_extension": ".py",
   "mimetype": "text/x-python",
   "name": "python",
   "nbconvert_exporter": "python",
   "pygments_lexer": "ipython3",
   "version": "3.11.0"
  },
  "orig_nbformat": 4
 },
 "nbformat": 4,
 "nbformat_minor": 2
}
