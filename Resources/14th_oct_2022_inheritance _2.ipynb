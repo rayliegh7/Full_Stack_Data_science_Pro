{
 "cells": [
  {
   "cell_type": "markdown",
   "metadata": {},
   "source": [
    "today we are going to call constructor of parent class into chind class thats help to accesss variable of parent class into child class this task can be done by using 2 ways \n",
    "1) using super() method\n",
    "2) calling constructurn of parent class in child class "
   ]
  },
  {
   "cell_type": "markdown",
   "metadata": {},
   "source": [
    "@rayliegh7"
   ]
  },
  {
   "cell_type": "markdown",
   "metadata": {},
   "source": [
    "so basically my problem statment is  i dont want to decleare variable which are already declare in parent class in child class\n",
    "class pwskills:\n",
    "    def __init__(self,mentor,exper,*techanlogy):\n",
    "        self.mentor = mentor\n",
    "        self.experience = exper\n",
    "        self.tech = techanlogy\n",
    "    def show_info (self):\n",
    "        return f\"Hello techies my name {self.mentor} i have {self.experience } experience of {self.tech}\"\n",
    "class data_science (pwskills):\n",
    "    def __init__(self,mentor,batch_name,duration,subject):\n",
    "        self.mentor = mentor\n",
    "        self.batch_name = batch_name\n",
    "        self.duration = duration\n",
    "        self.subject = subject\n",
    "   \n",
    "\n",
    "\n",
    "\"\"\"as we see there are two class first is pwskills and second on is data science which is inherited by pwskills class there are some variable like mentore or tech or sub these are common alon them \n",
    "so we declaere them twice while craeting class so what is theuse of inheritance when we are  uable to inhritance properties or method of parent class into child class \"\n",
    "\n",
    "\"\"\"solution is given bellow \"\"\"\n",
    "    \n"
   ]
  },
  {
   "cell_type": "code",
   "execution_count": 44,
   "metadata": {},
   "outputs": [],
   "source": [
    "class pwskills:\n",
    "    def __init__(self,mentor,exper,*techanlogy):\n",
    "        self.mentor = mentor\n",
    "        self.experience = exper\n",
    "        self.tech = techanlogy\n",
    "    def show_info (self):\n",
    "        return f\"Hello techies my name {self.mentor} i have {self.experience } experience of {self.tech}\"\n",
    "class data_science (pwskills):\n",
    "    def __init__(self,name,mentor,batch_name,duration,subject):\n",
    "        #pwskills.__init__(mentor,0)\n",
    "        super().__init__(mentor)\n",
    "        self.name = name\n",
    "        self.batch_name = batch_name\n",
    "        self.duration = duration\n",
    "        self.subject = subject\n",
    "    def show_info(self):\n",
    "        return f\"Hello freinds my name {self.name} , i have enrolled in {self.batch_name} and our mentor is {self.mentor} \"\n",
    "    "
   ]
  },
  {
   "cell_type": "code",
   "execution_count": 45,
   "metadata": {},
   "outputs": [],
   "source": [
    "vicky = pwskills(\"vicky\",2,\"Python\",\"Ml\",\"Power Bi\")"
   ]
  },
  {
   "cell_type": "code",
   "execution_count": 46,
   "metadata": {},
   "outputs": [
    {
     "data": {
      "text/plain": [
       "\"Hello techies my name vicky i have 2 experience of ('Python', 'Ml', 'Power Bi')\""
      ]
     },
     "execution_count": 46,
     "metadata": {},
     "output_type": "execute_result"
    }
   ],
   "source": [
    "vicky.show_info()"
   ]
  },
  {
   "cell_type": "code",
   "execution_count": 47,
   "metadata": {},
   "outputs": [
    {
     "data": {
      "text/plain": [
       "('Python', 'Ml', 'Power Bi')"
      ]
     },
     "execution_count": 47,
     "metadata": {},
     "output_type": "execute_result"
    }
   ],
   "source": [
    "vicky.tech"
   ]
  },
  {
   "cell_type": "code",
   "execution_count": 43,
   "metadata": {},
   "outputs": [
    {
     "data": {
      "text/plain": [
       "'Hello freinds my name Vicky , i have enrolled in Full stack data science pro and our mentor is Yash '"
      ]
     },
     "execution_count": 43,
     "metadata": {},
     "output_type": "execute_result"
    }
   ],
   "source": [
    "fsdsp.show_info()"
   ]
  },
  {
   "cell_type": "code",
   "execution_count": 28,
   "metadata": {},
   "outputs": [
    {
     "name": "stdout",
     "output_type": "stream",
     "text": [
      "Hello friends, my name is John. I have enrolled in Data Science Batch A and our mentor is MentorY.\n"
     ]
    }
   ],
   "source": [
    "class PwSkills_:\n",
    "    def __init__(self, mentor, experience, *technology):\n",
    "        self.mentor = mentor\n",
    "        self.experience = experience\n",
    "        self.technology = technology\n",
    "\n",
    "    def show_info(self):\n",
    "        tech_str = \", \".join(self.technology)\n",
    "        return f\"Hello techies, my name is {self.mentor}. I have {self.experience} years of experience in {tech_str}.\"\n",
    "\n",
    "class DataScience_(PwSkills_):\n",
    "    def __init__(self, name, mentor, batch_name, duration, subject):\n",
    "        super().__init__(mentor, 0)  # Call the constructor of the parent class PwSkills\n",
    "        self.name = name\n",
    "        self.batch_name = batch_name\n",
    "        self.duration = duration\n",
    "        self.subject = subject\n",
    "\n",
    "    def show_info(self):\n",
    "        return f\"Hello friends, my name is {self.name}. I have enrolled in {self.batch_name} and our mentor is {self.mentor}.\"\n",
    "\n",
    "# Example usage:\n",
    "john = DataScience_(\"John\", \"MentorX\", \"Data Science Batch A\", 12, \"Machine Learning\")\n",
    "john.mentor = \"MentorY\"  # Changing mentor for John\n",
    "print(john.show_info())\n"
   ]
  },
  {
   "cell_type": "markdown",
   "metadata": {},
   "source": [
    "using super class\n"
   ]
  },
  {
   "cell_type": "code",
   "execution_count": 3,
   "metadata": {},
   "outputs": [],
   "source": [
    "class pwskills:\n",
    "    def __init__(self,mentor):\n",
    "        self.mentor = mentor\n",
    "    def get_mentor_name (self):\n",
    "        return self.mentor\n",
    "class data_science (pwskills): # as we see mentor already avilable in pwskills so we have to use that ww will do in next cell\n",
    "    def __init__(self,mentor,mentor_id):\n",
    "        self.mentor = mentor\n",
    "        self.mentor_id = mentor_id\n",
    "    def show(self):\n",
    "        return f\"{self.mentor} | {self.mentor_id}\"\n",
    "\n"
   ]
  },
  {
   "cell_type": "code",
   "execution_count": 4,
   "metadata": {},
   "outputs": [],
   "source": [
    "python_basic = pwskills(\"vicky\")"
   ]
  },
  {
   "cell_type": "code",
   "execution_count": 5,
   "metadata": {},
   "outputs": [
    {
     "data": {
      "text/plain": [
       "'vicky'"
      ]
     },
     "execution_count": 5,
     "metadata": {},
     "output_type": "execute_result"
    }
   ],
   "source": [
    "python_basic.get_mentor_name()"
   ]
  },
  {
   "cell_type": "code",
   "execution_count": 6,
   "metadata": {},
   "outputs": [
    {
     "data": {
      "text/plain": [
       "'now we are going to create object ob child class then we call the function or method of object class\\n'"
      ]
     },
     "execution_count": 6,
     "metadata": {},
     "output_type": "execute_result"
    }
   ],
   "source": [
    "\"\"\"now we are going to create object ob child class then we call the function or method of object class\n",
    "\"\"\""
   ]
  },
  {
   "cell_type": "code",
   "execution_count": 7,
   "metadata": {},
   "outputs": [],
   "source": [
    "python_basic_2 = data_science(\"vijay\",123)"
   ]
  },
  {
   "cell_type": "code",
   "execution_count": 8,
   "metadata": {},
   "outputs": [
    {
     "data": {
      "text/plain": [
       "'vijay'"
      ]
     },
     "execution_count": 8,
     "metadata": {},
     "output_type": "execute_result"
    }
   ],
   "source": [
    "python_basic_2.get_mentor_name()"
   ]
  },
  {
   "cell_type": "code",
   "execution_count": 9,
   "metadata": {},
   "outputs": [
    {
     "data": {
      "text/plain": [
       "'vijay | 123'"
      ]
     },
     "execution_count": 9,
     "metadata": {},
     "output_type": "execute_result"
    }
   ],
   "source": [
    "python_basic_2.show()"
   ]
  },
  {
   "cell_type": "code",
   "execution_count": 10,
   "metadata": {},
   "outputs": [
    {
     "data": {
      "text/plain": [
       "'vijay'"
      ]
     },
     "execution_count": 10,
     "metadata": {},
     "output_type": "execute_result"
    }
   ],
   "source": [
    "python_basic_2.mentor"
   ]
  },
  {
   "cell_type": "code",
   "execution_count": null,
   "metadata": {},
   "outputs": [],
   "source": [
    "\"\"\"whenever we have to do variable reassignment in child class that already avialble in parent class wecan\n",
    "use super() method\"\"\"\n",
    "\n",
    "# same above example "
   ]
  },
  {
   "cell_type": "code",
   "execution_count": 1,
   "metadata": {},
   "outputs": [],
   "source": [
    "class pwskills:\n",
    "    def __init__(self,mentor):\n",
    "        self.mentor = mentor\n",
    "    def get_mentor_name (self):\n",
    "        return self.mentor\n",
    "class data_science (pwskills): # as we see mentor already avilable in pwskills so we have to use that ww will do in next cell\n",
    "    def __init__(self,mentor,mentor_id):\n",
    "        super().__init__(mentor)\n",
    "        self.mentor_id = mentor_id\n",
    "    def show(self):\n",
    "        return f\"{self.mentor} | {self.mentor_id}\"\n",
    "\n"
   ]
  },
  {
   "cell_type": "code",
   "execution_count": 2,
   "metadata": {},
   "outputs": [],
   "source": [
    "python_basics = data_science(\"vijay\",123)"
   ]
  },
  {
   "cell_type": "code",
   "execution_count": 3,
   "metadata": {},
   "outputs": [
    {
     "data": {
      "text/plain": [
       "'vijay | 123'"
      ]
     },
     "execution_count": 3,
     "metadata": {},
     "output_type": "execute_result"
    }
   ],
   "source": [
    "python_basics.show()"
   ]
  },
  {
   "cell_type": "code",
   "execution_count": null,
   "metadata": {},
   "outputs": [],
   "source": []
  },
  {
   "cell_type": "code",
   "execution_count": 26,
   "metadata": {},
   "outputs": [],
   "source": [
    "class pwskills:\n",
    "    def __init__(self,mentor):\n",
    "        self.mentor = mentor\n",
    "    def get_mentor_name (self):\n",
    "        print(self.mentor)\n",
    "class data_science (pwskills): # as we see mentor already avilable in pwskills so we have to use that ww will do in next cell\n",
    "    def __init__(self,mentor,mentor_id):\n",
    "        super().__init__(mentor)\n",
    "        self.mentor_id = mentor_id\n",
    "    def show(self):\n",
    "        \n",
    "        super().get_mentor_name() # calling method of parent class in child class with the help of super method\n",
    "        self.get_mentor_name()\n",
    "        return f\"{self.mentor} | {self.mentor_id}\"\n",
    "    \n",
    "\n"
   ]
  },
  {
   "cell_type": "code",
   "execution_count": 27,
   "metadata": {},
   "outputs": [],
   "source": [
    "oops = data_science(\"Azad\",123)\n"
   ]
  },
  {
   "cell_type": "code",
   "execution_count": 28,
   "metadata": {},
   "outputs": [
    {
     "name": "stdout",
     "output_type": "stream",
     "text": [
      "Azad\n"
     ]
    }
   ],
   "source": [
    "oops.get_mentor_name()"
   ]
  },
  {
   "cell_type": "code",
   "execution_count": 29,
   "metadata": {},
   "outputs": [
    {
     "name": "stdout",
     "output_type": "stream",
     "text": [
      "Azad\n",
      "Azad\n"
     ]
    },
    {
     "data": {
      "text/plain": [
       "'Azad | 123'"
      ]
     },
     "execution_count": 29,
     "metadata": {},
     "output_type": "execute_result"
    }
   ],
   "source": [
    "oops.show()"
   ]
  },
  {
   "cell_type": "code",
   "execution_count": 4,
   "metadata": {},
   "outputs": [],
   "source": [
    "class human:\n",
    "    def __init__(self):\n",
    "        pass\n",
    "    def eat(self):\n",
    "        pass"
   ]
  },
  {
   "cell_type": "code",
   "execution_count": 5,
   "metadata": {},
   "outputs": [],
   "source": [
    "class male(human):\n",
    "    def __init__(self,name):\n",
    "        self.name = name\n",
    "    def eat(self):\n",
    "        print(self.name)"
   ]
  },
  {
   "cell_type": "code",
   "execution_count": 35,
   "metadata": {},
   "outputs": [
    {
     "name": "stdout",
     "output_type": "stream",
     "text": [
      "sudhanshu\n"
     ]
    }
   ],
   "source": [
    "sudh = male(\"sudhanshu\")\n",
    "sudh.eat() "
   ]
  },
  {
   "cell_type": "code",
   "execution_count": 36,
   "metadata": {},
   "outputs": [],
   "source": [
    "class human_2:\n",
    "    def __init__(self):\n",
    "        pass\n",
    "    def eat(self):\n",
    "        print(\"This eat method from human_2 class\")\n",
    "class male_2(human_2):\n",
    "    def __init__(self,name):\n",
    "        self.name = name\n",
    "    def eat(self):\n",
    "        print(self.name)"
   ]
  },
  {
   "cell_type": "code",
   "execution_count": null,
   "metadata": {},
   "outputs": [],
   "source": [
    "\"\"\"We have two method which are common in both class but i want to call method of parent class so h\n",
    "\"\"\""
   ]
  },
  {
   "cell_type": "code",
   "execution_count": 13,
   "metadata": {},
   "outputs": [],
   "source": [
    "## using super()\n",
    "class human_2:\n",
    "    def __init__(self):\n",
    "        pass\n",
    "    def eat(self):\n",
    "        print( \"This eat method from human_2 class\")\n",
    "class male_2(human_2):\n",
    "    def __init__(self,name):\n",
    "        self.name = name\n",
    "    def eat(self):\n",
    "        super().eat()\n",
    "        \n",
    "        print(self.name)"
   ]
  },
  {
   "cell_type": "code",
   "execution_count": 14,
   "metadata": {},
   "outputs": [],
   "source": [
    "vicky = male_2(\"vicky\")"
   ]
  },
  {
   "cell_type": "code",
   "execution_count": 15,
   "metadata": {},
   "outputs": [
    {
     "name": "stdout",
     "output_type": "stream",
     "text": [
      "This eat method from human_2 class\n",
      "vicky\n"
     ]
    }
   ],
   "source": [
    "vicky.eat()"
   ]
  },
  {
   "cell_type": "code",
   "execution_count": 16,
   "metadata": {},
   "outputs": [],
   "source": [
    "## destructor is called automatically like __init__ method \n",
    "class file_opener:\n",
    "    def __init__(self,fileName):\n",
    "        self.filename = fileName\n",
    "    def open_file(self):\n",
    "        print(\"This is will open file\",self.filename)\n",
    "    def __del__(self):\n",
    "        print(\"This is will close file\")"
   ]
  },
  {
   "cell_type": "code",
   "execution_count": 43,
   "metadata": {},
   "outputs": [],
   "source": [
    "f1 = file_opener(\"demo.txt\")"
   ]
  },
  {
   "cell_type": "code",
   "execution_count": 44,
   "metadata": {},
   "outputs": [
    {
     "name": "stdout",
     "output_type": "stream",
     "text": [
      "This is will open file demo.txt\n"
     ]
    }
   ],
   "source": [
    "f1.open_file()"
   ]
  },
  {
   "cell_type": "code",
   "execution_count": 29,
   "metadata": {},
   "outputs": [],
   "source": [
    "import time\n",
    "class timer:\n",
    "    def __init__(self) -> None:\n",
    "        self.start_time = time.time()\n",
    "    def task(self):\n",
    "        \n",
    "        self.time_spent = time.time() - self.start_time\n",
    "        \n",
    "    def __del__(self):\n",
    "        print(\"Under del block\")\n",
    "        \n"
   ]
  },
  {
   "cell_type": "code",
   "execution_count": 30,
   "metadata": {},
   "outputs": [],
   "source": [
    "s = timer()"
   ]
  },
  {
   "cell_type": "code",
   "execution_count": 31,
   "metadata": {},
   "outputs": [
    {
     "name": "stdout",
     "output_type": "stream",
     "text": [
      "Under del block\n"
     ]
    }
   ],
   "source": [
    "s.__del__() "
   ]
  },
  {
   "cell_type": "code",
   "execution_count": 5,
   "metadata": {},
   "outputs": [],
   "source": [
    "import time \n",
    "class timer:\n",
    "    def __init__(self):\n",
    "        self.start_time = time.time()\n",
    "        \n",
    "    def task(self):\n",
    "        time_spent = time.time() - self.start_time\n",
    "        print(time_spent)\n",
    "        \n",
    "    def __del__(self):\n",
    "        print(\"\")\n",
    "        \n",
    "    def __str__(self) :\n",
    "        return \"this is my class timer\"\n",
    "    \n",
    "    def __repr__(self) -> str:\n",
    "        return \"this is also class timer\""
   ]
  },
  {
   "cell_type": "code",
   "execution_count": 2,
   "metadata": {},
   "outputs": [],
   "source": [
    "v = timer()"
   ]
  },
  {
   "cell_type": "code",
   "execution_count": 6,
   "metadata": {},
   "outputs": [
    {
     "name": "stdout",
     "output_type": "stream",
     "text": [
      "45.9444682598114\n"
     ]
    }
   ],
   "source": [
    "v.task()"
   ]
  },
  {
   "cell_type": "code",
   "execution_count": 7,
   "metadata": {},
   "outputs": [
    {
     "name": "stdout",
     "output_type": "stream",
     "text": [
      "this is my class timer\n"
     ]
    }
   ],
   "source": [
    "print(v)"
   ]
  },
  {
   "cell_type": "code",
   "execution_count": 36,
   "metadata": {},
   "outputs": [],
   "source": [
    "def test(func):\n",
    "    def inner_test():\n",
    "        print(\"this is the start of my inner test\")\n",
    "        func()\n",
    "        print(\"this the end of my inner test\")\n",
    "        \n",
    "    return inner_test\n",
    "\n",
    "@test\n",
    "def test1():\n",
    "    print(\"This is function from test1\")"
   ]
  },
  {
   "cell_type": "code",
   "execution_count": 37,
   "metadata": {},
   "outputs": [
    {
     "name": "stdout",
     "output_type": "stream",
     "text": [
      "this is the start of my inner test\n",
      "This is function from test1\n",
      "this the end of my inner test\n"
     ]
    }
   ],
   "source": [
    "test1()"
   ]
  },
  {
   "cell_type": "markdown",
   "metadata": {},
   "source": [
    "A decorator is a design pattern in Python that allows a user to add new functionality to an existing object without modifying its structure.\n",
    "The most common use for decorators is to add logging or caching functionality to functions. For example, you could use a decorator to log the execution time of a function, or to cache the results of a function so that they don't have to be recalculated every time they are called."
   ]
  },
  {
   "cell_type": "code",
   "execution_count": 51,
   "metadata": {},
   "outputs": [],
   "source": [
    "import time\n",
    "\n",
    "def log_execution_time(func):\n",
    "    def wrapper(*args, **kwargs):\n",
    "        start = time.time()\n",
    "        result = func(*args, **kwargs)\n",
    "        end = time.time()\n",
    "        print(f\"Function {func.__name__} took {end - start} seconds to execute\")\n",
    "        return result\n",
    "    return wrapper"
   ]
  },
  {
   "cell_type": "code",
   "execution_count": 52,
   "metadata": {},
   "outputs": [
    {
     "name": "stdout",
     "output_type": "stream",
     "text": [
      "is my function\n",
      "is my function\n",
      "is my function\n",
      "is my function\n",
      "is my function\n",
      "Function my_function took 0.0010006427764892578 seconds to execute\n"
     ]
    }
   ],
   "source": [
    "@log_execution_time\n",
    "def my_function():\n",
    "    for i in range (5):\n",
    "        print(\"is my function\")\n",
    "\n",
    "my_function()"
   ]
  },
  {
   "cell_type": "code",
   "execution_count": null,
   "metadata": {},
   "outputs": [],
   "source": []
  },
  {
   "cell_type": "code",
   "execution_count": 70,
   "metadata": {},
   "outputs": [],
   "source": [
    "import time\n",
    "\n",
    "def fetch_execution_time (funcs):\n",
    "    def fetch():\n",
    "        start = time.time()\n",
    "        result = funcs()\n",
    "        end = time.time()\n",
    "        print(f\"this is function {funcs.__name__} {funcs.__name__} took {end - start} seconds to execute\")\n",
    "    return fetch_execution_time"
   ]
  },
  {
   "cell_type": "code",
   "execution_count": 71,
   "metadata": {},
   "outputs": [],
   "source": [
    "@fetch_execution_time\n",
    "def lists (n):\n",
    "    return [ n**1 for i in range (n)]"
   ]
  },
  {
   "cell_type": "code",
   "execution_count": 72,
   "metadata": {},
   "outputs": [
    {
     "name": "stdout",
     "output_type": "stream",
     "text": [
      "<function fetch_execution_time at 0x0000017F73661F80>\n"
     ]
    }
   ],
   "source": [
    "r = lists(5)\n",
    "print(r)"
   ]
  },
  {
   "cell_type": "code",
   "execution_count": 81,
   "metadata": {},
   "outputs": [],
   "source": [
    "import logging\n",
    "\n",
    "def log_fun(func):\n",
    "    def log_inner(*args, **kwargs):\n",
    "        logging.basicConfig(filename=\"decorator.log\", level=logging.INFO, format='%(asctime)s - %(name)s - %(levelname)s - %(message)s')\n",
    "        logging.info(\"This is the start of my func\")\n",
    "        result = func(*args, **kwargs)\n",
    "        logging.info(\"This is the end of my func\")\n",
    "        return result\n",
    "    return log_inner\n"
   ]
  },
  {
   "cell_type": "code",
   "execution_count": 86,
   "metadata": {},
   "outputs": [
    {
     "name": "stdout",
     "output_type": "stream",
     "text": [
      "1\n",
      "2\n",
      "3\n"
     ]
    }
   ],
   "source": [
    "import logging\n",
    "import time\n",
    "\n",
    "def log_execution_time(func):\n",
    "    def log_time_inner(*args, **kwargs):\n",
    "        start = time.time()\n",
    "        result = func(*args, **kwargs)\n",
    "        end = time.time()\n",
    "        logging.info(f\"{func.__name__} took {end - start} seconds to execute\")\n",
    "        return result\n",
    "    return log_time_inner\n",
    "\n",
    "def log_fun(func):\n",
    "    def log_inner(*args, **kwargs):\n",
    "        logging.basicConfig(filename=\"decorator.log\", level=logging.INFO, format='%(asctime)s - %(name)s - %(levelname)s - %(message)s')\n",
    "        logging.info(f\"This is the start of {func.__name__}\")\n",
    "        result = func(*args, **kwargs)\n",
    "        logging.info(f\"This is the end of {func.__name__} \")\n",
    "        return result\n",
    "    return log_inner\n",
    "\n",
    "@log_execution_time\n",
    "@log_fun\n",
    "def print_list(lst):\n",
    "    for i in lst:\n",
    "        print(i)\n",
    "\n",
    "# Example usage:\n",
    "print_list([1, 2, 3])\n"
   ]
  },
  {
   "cell_type": "code",
   "execution_count": 99,
   "metadata": {},
   "outputs": [],
   "source": [
    "class student:\n",
    "    def __init__ (self,subject,ids):\n",
    "        self.subject = subject\n",
    "        self._ids = ids\n",
    "        "
   ]
  },
  {
   "cell_type": "code",
   "execution_count": 100,
   "metadata": {},
   "outputs": [],
   "source": [
    "s1 = student(\"Data Science\",1)"
   ]
  },
  {
   "cell_type": "code",
   "execution_count": 102,
   "metadata": {},
   "outputs": [
    {
     "data": {
      "text/plain": [
       "1"
      ]
     },
     "execution_count": 102,
     "metadata": {},
     "output_type": "execute_result"
    }
   ],
   "source": [
    "s1._ids\n"
   ]
  },
  {
   "cell_type": "code",
   "execution_count": 114,
   "metadata": {},
   "outputs": [],
   "source": [
    "class sudh:\n",
    "    def __init__ (self,name):\n",
    "        self._name = name # this is will help to make variable private"
   ]
  },
  {
   "cell_type": "code",
   "execution_count": 109,
   "metadata": {},
   "outputs": [],
   "source": [
    "myobj = sudh(\"vijay\")"
   ]
  },
  {
   "cell_type": "code",
   "execution_count": 111,
   "metadata": {},
   "outputs": [
    {
     "ename": "AttributeError",
     "evalue": "'sudh' object has no attribute 'name'",
     "output_type": "error",
     "traceback": [
      "\u001b[1;31m---------------------------------------------------------------------------\u001b[0m",
      "\u001b[1;31mAttributeError\u001b[0m                            Traceback (most recent call last)",
      "\u001b[1;32md:\\Full-Stack-Data-Science-pro\\Resources\\14th_oct_2022_inheritance _2.ipynb Cell 61\u001b[0m line \u001b[0;36m1\n\u001b[1;32m----> <a href='vscode-notebook-cell:/d%3A/Full-Stack-Data-Science-pro/Resources/14th_oct_2022_inheritance%20_2.ipynb#Y126sZmlsZQ%3D%3D?line=0'>1</a>\u001b[0m myobj\u001b[39m.\u001b[39;49mname\n",
      "\u001b[1;31mAttributeError\u001b[0m: 'sudh' object has no attribute 'name'"
     ]
    }
   ],
   "source": [
    "myobj.name"
   ]
  },
  {
   "cell_type": "code",
   "execution_count": 112,
   "metadata": {},
   "outputs": [
    {
     "data": {
      "text/plain": [
       "'vijay'"
      ]
     },
     "execution_count": 112,
     "metadata": {},
     "output_type": "execute_result"
    }
   ],
   "source": [
    "myobj._name"
   ]
  },
  {
   "cell_type": "code",
   "execution_count": 115,
   "metadata": {},
   "outputs": [],
   "source": [
    "class sudh_2:\n",
    "    def __init__ (self,name):\n",
    "        self.__name = name # this is will  menas \"__\" help to make variable protected "
   ]
  },
  {
   "cell_type": "code",
   "execution_count": 116,
   "metadata": {},
   "outputs": [],
   "source": [
    "myobj2 = sudh_2(\"vijay\")"
   ]
  },
  {
   "cell_type": "code",
   "execution_count": 124,
   "metadata": {},
   "outputs": [
    {
     "data": {
      "text/plain": [
       "'vijay'"
      ]
     },
     "execution_count": 124,
     "metadata": {},
     "output_type": "execute_result"
    }
   ],
   "source": [
    "myobj2._sudh_2__name # to access protected variable we have to use  \n",
    "# we must use following sequences \n",
    "# object_name._classname__protected variable name"
   ]
  },
  {
   "cell_type": "code",
   "execution_count": 128,
   "metadata": {},
   "outputs": [],
   "source": [
    "# now we are going to item re assignment variable value from outside\n",
    "myobj2._sudh_2__name = \"hamilton to rule now\""
   ]
  },
  {
   "cell_type": "code",
   "execution_count": 129,
   "metadata": {},
   "outputs": [
    {
     "data": {
      "text/plain": [
       "'hamilton to rule now'"
      ]
     },
     "execution_count": 129,
     "metadata": {},
     "output_type": "execute_result"
    }
   ],
   "source": [
    "myobj2._sudh_2__name"
   ]
  },
  {
   "cell_type": "markdown",
   "metadata": {},
   "source": [
    "now @property decrater allow to do manipulate class properties"
   ]
  },
  {
   "cell_type": "code",
   "execution_count": 134,
   "metadata": {},
   "outputs": [],
   "source": [
    "class demo:\n",
    "    def __init__(self , subject):\n",
    "        self.__subject = subject\n",
    "        \n",
    "    @property\n",
    "    def subject1(self):\n",
    "        return self.__subject\n",
    "    \n",
    "    @subject1.setter\n",
    "    def subject1(self,subject):\n",
    "        self.__subject = subject\n",
    "    \n",
    "    @subject1.getter\n",
    "    def subject1(self):\n",
    "        return self.__subject"
   ]
  },
  {
   "cell_type": "code",
   "execution_count": 135,
   "metadata": {},
   "outputs": [],
   "source": [
    "d1 = demo(\"data analytics\")"
   ]
  },
  {
   "cell_type": "code",
   "execution_count": 137,
   "metadata": {},
   "outputs": [
    {
     "data": {
      "text/plain": [
       "'data analytics'"
      ]
     },
     "execution_count": 137,
     "metadata": {},
     "output_type": "execute_result"
    }
   ],
   "source": [
    "d1.subject1"
   ]
  }
 ],
 "metadata": {
  "kernelspec": {
   "display_name": "Python 3",
   "language": "python",
   "name": "python3"
  },
  "language_info": {
   "codemirror_mode": {
    "name": "ipython",
    "version": 3
   },
   "file_extension": ".py",
   "mimetype": "text/x-python",
   "name": "python",
   "nbconvert_exporter": "python",
   "pygments_lexer": "ipython3",
   "version": "3.11.0"
  }
 },
 "nbformat": 4,
 "nbformat_minor": 2
}
