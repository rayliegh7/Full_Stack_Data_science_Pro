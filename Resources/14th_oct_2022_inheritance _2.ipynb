{
 "cells": [
  {
   "cell_type": "markdown",
   "metadata": {},
   "source": [
    "today we are going to call constructor of parent class into chind class thats help to accesss variable of parent class into child class this task can be done by using 2 ways \n",
    "1) using super() method\n",
    "2) calling constructurn of parent class in child class "
   ]
  },
  {
   "cell_type": "markdown",
   "metadata": {},
   "source": [
    "so basically my problem statment is  i dont want to decleare variable which are already declare in parent class in child class\n",
    "class pwskills:\n",
    "    def __init__(self,mentor,exper,*techanlogy):\n",
    "        self.mentor = mentor\n",
    "        self.experience = exper\n",
    "        self.tech = techanlogy\n",
    "    def show_info (self):\n",
    "        return f\"Hello techies my name {self.mentor} i have {self.experience } experience of {self.tech}\"\n",
    "class data_science (pwskills):\n",
    "    def __init__(self,mentor,batch_name,duration,subject):\n",
    "        self.mentor = mentor\n",
    "        self.batch_name = batch_name\n",
    "        self.duration = duration\n",
    "        self.subject = subject\n",
    "   \n",
    "\n",
    "\n",
    "\"\"\"as we see there are two class first is pwskills and second on is data science which is inherited by pwskills class there are some variable like mentore or tech or sub these are common alon them \n",
    "so we declaere them twice while craeting class so what is theuse of inheritance when we are  uable to inhritance properties or method of parent class into child class \"\n",
    "\n",
    "\"\"\"solution is given bellow \"\"\"\n",
    "    \n"
   ]
  },
  {
   "cell_type": "code",
   "execution_count": 44,
   "metadata": {},
   "outputs": [],
   "source": [
    "class pwskills:\n",
    "    def __init__(self,mentor,exper,*techanlogy):\n",
    "        self.mentor = mentor\n",
    "        self.experience = exper\n",
    "        self.tech = techanlogy\n",
    "    def show_info (self):\n",
    "        return f\"Hello techies my name {self.mentor} i have {self.experience } experience of {self.tech}\"\n",
    "class data_science (pwskills):\n",
    "    def __init__(self,name,mentor,batch_name,duration,subject):\n",
    "        #pwskills.__init__(mentor,0)\n",
    "        super().__init__(mentor)\n",
    "        self.name = name\n",
    "        self.batch_name = batch_name\n",
    "        self.duration = duration\n",
    "        self.subject = subject\n",
    "    def show_info(self):\n",
    "        return f\"Hello freinds my name {self.name} , i have enrolled in {self.batch_name} and our mentor is {self.mentor} \"\n",
    "    "
   ]
  },
  {
   "cell_type": "code",
   "execution_count": 45,
   "metadata": {},
   "outputs": [],
   "source": [
    "vicky = pwskills(\"vicky\",2,\"Python\",\"Ml\",\"Power Bi\")"
   ]
  },
  {
   "cell_type": "code",
   "execution_count": 46,
   "metadata": {},
   "outputs": [
    {
     "data": {
      "text/plain": [
       "\"Hello techies my name vicky i have 2 experience of ('Python', 'Ml', 'Power Bi')\""
      ]
     },
     "execution_count": 46,
     "metadata": {},
     "output_type": "execute_result"
    }
   ],
   "source": [
    "vicky.show_info()"
   ]
  },
  {
   "cell_type": "code",
   "execution_count": 47,
   "metadata": {},
   "outputs": [
    {
     "data": {
      "text/plain": [
       "('Python', 'Ml', 'Power Bi')"
      ]
     },
     "execution_count": 47,
     "metadata": {},
     "output_type": "execute_result"
    }
   ],
   "source": [
    "vicky.tech"
   ]
  },
  {
   "cell_type": "code",
   "execution_count": 43,
   "metadata": {},
   "outputs": [
    {
     "data": {
      "text/plain": [
       "'Hello freinds my name Vicky , i have enrolled in Full stack data science pro and our mentor is Yash '"
      ]
     },
     "execution_count": 43,
     "metadata": {},
     "output_type": "execute_result"
    }
   ],
   "source": [
    "fsdsp.show_info()"
   ]
  },
  {
   "cell_type": "code",
   "execution_count": 28,
   "metadata": {},
   "outputs": [
    {
     "name": "stdout",
     "output_type": "stream",
     "text": [
      "Hello friends, my name is John. I have enrolled in Data Science Batch A and our mentor is MentorY.\n"
     ]
    }
   ],
   "source": [
    "class PwSkills_:\n",
    "    def __init__(self, mentor, experience, *technology):\n",
    "        self.mentor = mentor\n",
    "        self.experience = experience\n",
    "        self.technology = technology\n",
    "\n",
    "    def show_info(self):\n",
    "        tech_str = \", \".join(self.technology)\n",
    "        return f\"Hello techies, my name is {self.mentor}. I have {self.experience} years of experience in {tech_str}.\"\n",
    "\n",
    "class DataScience_(PwSkills_):\n",
    "    def __init__(self, name, mentor, batch_name, duration, subject):\n",
    "        super().__init__(mentor, 0)  # Call the constructor of the parent class PwSkills\n",
    "        self.name = name\n",
    "        self.batch_name = batch_name\n",
    "        self.duration = duration\n",
    "        self.subject = subject\n",
    "\n",
    "    def show_info(self):\n",
    "        return f\"Hello friends, my name is {self.name}. I have enrolled in {self.batch_name} and our mentor is {self.mentor}.\"\n",
    "\n",
    "# Example usage:\n",
    "john = DataScience_(\"John\", \"MentorX\", \"Data Science Batch A\", 12, \"Machine Learning\")\n",
    "john.mentor = \"MentorY\"  # Changing mentor for John\n",
    "print(john.show_info())\n"
   ]
  },
  {
   "cell_type": "markdown",
   "metadata": {},
   "source": [
    "using super class\n"
   ]
  },
  {
   "cell_type": "code",
   "execution_count": 3,
   "metadata": {},
   "outputs": [],
   "source": [
    "class pwskills:\n",
    "    def __init__(self,mentor):\n",
    "        self.mentor = mentor\n",
    "    def get_mentor_name (self):\n",
    "        return self.mentor\n",
    "class data_science (pwskills): # as we see mentor already avilable in pwskills so we have to use that ww will do in next cell\n",
    "    def __init__(self,mentor,mentor_id):\n",
    "        self.mentor = mentor\n",
    "        self.mentor_id = mentor_id\n",
    "    def show(self):\n",
    "        return f\"{self.mentor} | {self.mentor_id}\"\n",
    "\n"
   ]
  },
  {
   "cell_type": "code",
   "execution_count": 4,
   "metadata": {},
   "outputs": [],
   "source": [
    "python_basic = pwskills(\"vicky\")"
   ]
  },
  {
   "cell_type": "code",
   "execution_count": 5,
   "metadata": {},
   "outputs": [
    {
     "data": {
      "text/plain": [
       "'vicky'"
      ]
     },
     "execution_count": 5,
     "metadata": {},
     "output_type": "execute_result"
    }
   ],
   "source": [
    "python_basic.get_mentor_name()"
   ]
  },
  {
   "cell_type": "code",
   "execution_count": 6,
   "metadata": {},
   "outputs": [
    {
     "data": {
      "text/plain": [
       "'now we are going to create object ob child class then we call the function or method of object class\\n'"
      ]
     },
     "execution_count": 6,
     "metadata": {},
     "output_type": "execute_result"
    }
   ],
   "source": [
    "\"\"\"now we are going to create object ob child class then we call the function or method of object class\n",
    "\"\"\""
   ]
  },
  {
   "cell_type": "code",
   "execution_count": 7,
   "metadata": {},
   "outputs": [],
   "source": [
    "python_basic_2 = data_science(\"vijay\",123)"
   ]
  },
  {
   "cell_type": "code",
   "execution_count": 8,
   "metadata": {},
   "outputs": [
    {
     "data": {
      "text/plain": [
       "'vijay'"
      ]
     },
     "execution_count": 8,
     "metadata": {},
     "output_type": "execute_result"
    }
   ],
   "source": [
    "python_basic_2.get_mentor_name()"
   ]
  },
  {
   "cell_type": "code",
   "execution_count": 9,
   "metadata": {},
   "outputs": [
    {
     "data": {
      "text/plain": [
       "'vijay | 123'"
      ]
     },
     "execution_count": 9,
     "metadata": {},
     "output_type": "execute_result"
    }
   ],
   "source": [
    "python_basic_2.show()"
   ]
  },
  {
   "cell_type": "code",
   "execution_count": 10,
   "metadata": {},
   "outputs": [
    {
     "data": {
      "text/plain": [
       "'vijay'"
      ]
     },
     "execution_count": 10,
     "metadata": {},
     "output_type": "execute_result"
    }
   ],
   "source": [
    "python_basic_2.mentor"
   ]
  },
  {
   "cell_type": "code",
   "execution_count": null,
   "metadata": {},
   "outputs": [],
   "source": [
    "\"\"\"whenever we have to do variable reassignment in child class that already avialble in parent class wecan\n",
    "use super() method\"\"\"\n",
    "\n",
    "# same above example "
   ]
  },
  {
   "cell_type": "code",
   "execution_count": 11,
   "metadata": {},
   "outputs": [],
   "source": [
    "class pwskills:\n",
    "    def __init__(self,mentor):\n",
    "        self.mentor = mentor\n",
    "    def get_mentor_name (self):\n",
    "        return self.mentor\n",
    "class data_science (pwskills): # as we see mentor already avilable in pwskills so we have to use that ww will do in next cell\n",
    "    def __init__(self,mentor,mentor_id):\n",
    "        super().__init__(mentor)\n",
    "        self.mentor_id = mentor_id\n",
    "    def show(self):\n",
    "        return f\"{self.mentor} | {self.mentor_id}\"\n",
    "\n"
   ]
  },
  {
   "cell_type": "code",
   "execution_count": 12,
   "metadata": {},
   "outputs": [],
   "source": [
    "python_basics = data_science(\"vijay\",123)"
   ]
  },
  {
   "cell_type": "code",
   "execution_count": 13,
   "metadata": {},
   "outputs": [
    {
     "data": {
      "text/plain": [
       "'vijay | 123'"
      ]
     },
     "execution_count": 13,
     "metadata": {},
     "output_type": "execute_result"
    }
   ],
   "source": [
    "python_basics.show()"
   ]
  },
  {
   "cell_type": "code",
   "execution_count": 26,
   "metadata": {},
   "outputs": [],
   "source": [
    "class pwskills:\n",
    "    def __init__(self,mentor):\n",
    "        self.mentor = mentor\n",
    "    def get_mentor_name (self):\n",
    "        print(self.mentor)\n",
    "class data_science (pwskills): # as we see mentor already avilable in pwskills so we have to use that ww will do in next cell\n",
    "    def __init__(self,mentor,mentor_id):\n",
    "        super().__init__(mentor)\n",
    "        self.mentor_id = mentor_id\n",
    "    def show(self):\n",
    "        \n",
    "        super().get_mentor_name() # calling method of parent class in child class with the help of super method\n",
    "        self.get_mentor_name()\n",
    "        return f\"{self.mentor} | {self.mentor_id}\"\n",
    "    \n",
    "\n"
   ]
  },
  {
   "cell_type": "code",
   "execution_count": 27,
   "metadata": {},
   "outputs": [],
   "source": [
    "oops = data_science(\"Azad\",123)\n"
   ]
  },
  {
   "cell_type": "code",
   "execution_count": 28,
   "metadata": {},
   "outputs": [
    {
     "name": "stdout",
     "output_type": "stream",
     "text": [
      "Azad\n"
     ]
    }
   ],
   "source": [
    "oops.get_mentor_name()"
   ]
  },
  {
   "cell_type": "code",
   "execution_count": 29,
   "metadata": {},
   "outputs": [
    {
     "name": "stdout",
     "output_type": "stream",
     "text": [
      "Azad\n",
      "Azad\n"
     ]
    },
    {
     "data": {
      "text/plain": [
       "'Azad | 123'"
      ]
     },
     "execution_count": 29,
     "metadata": {},
     "output_type": "execute_result"
    }
   ],
   "source": [
    "oops.show()"
   ]
  },
  {
   "cell_type": "code",
   "execution_count": 33,
   "metadata": {},
   "outputs": [],
   "source": [
    "class human:\n",
    "    def __init__(self):\n",
    "        pass\n",
    "    def eat(self):\n",
    "        pass"
   ]
  },
  {
   "cell_type": "code",
   "execution_count": 34,
   "metadata": {},
   "outputs": [],
   "source": [
    "class male(human):\n",
    "    def __init__(self,name):\n",
    "        self.name = name\n",
    "    def eat(self):\n",
    "        print(self.name)"
   ]
  },
  {
   "cell_type": "code",
   "execution_count": 35,
   "metadata": {},
   "outputs": [
    {
     "name": "stdout",
     "output_type": "stream",
     "text": [
      "sudhanshu\n"
     ]
    }
   ],
   "source": [
    "sudh = male(\"sudhanshu\")\n",
    "sudh.eat()"
   ]
  },
  {
   "cell_type": "code",
   "execution_count": 36,
   "metadata": {},
   "outputs": [],
   "source": [
    "class human_2:\n",
    "    def __init__(self):\n",
    "        pass\n",
    "    def eat(self):\n",
    "        print(\"This eat method from human_2 class\")\n",
    "class male_2(human_2):\n",
    "    def __init__(self,name):\n",
    "        self.name = name\n",
    "    def eat(self):\n",
    "        print(self.name)"
   ]
  },
  {
   "cell_type": "code",
   "execution_count": null,
   "metadata": {},
   "outputs": [],
   "source": [
    "\"\"\"We have two method which are common in both class but i want to call method of parent class so h\n",
    "\"\"\""
   ]
  },
  {
   "cell_type": "code",
   "execution_count": 37,
   "metadata": {},
   "outputs": [],
   "source": [
    "## using super()\n",
    "class human_2:\n",
    "    def __init__(self):\n",
    "        pass\n",
    "    def eat(self):\n",
    "        print(\"This eat method from human_2 class\")\n",
    "class male_2(human_2):\n",
    "    def __init__(self,name):\n",
    "        self.name = name\n",
    "    def eat(self):\n",
    "        super().eat()\n",
    "        print(self.name)"
   ]
  },
  {
   "cell_type": "code",
   "execution_count": 38,
   "metadata": {},
   "outputs": [],
   "source": [
    "vicky = male_2(\"vicky\")"
   ]
  },
  {
   "cell_type": "code",
   "execution_count": 39,
   "metadata": {},
   "outputs": [
    {
     "name": "stdout",
     "output_type": "stream",
     "text": [
      "This eat method from human_2 class\n",
      "vicky\n"
     ]
    }
   ],
   "source": [
    "vicky.eat()"
   ]
  },
  {
   "cell_type": "code",
   "execution_count": 42,
   "metadata": {},
   "outputs": [],
   "source": [
    "## destructor is called automatically like __init__ method \n",
    "class file_opener:\n",
    "    def __init__(self,fileName):\n",
    "        self.filename = fileName\n",
    "    def open_file(self):\n",
    "        print(\"This is will open file\",self.filename)\n",
    "    def __del__(self):\n",
    "        print(\"This is will close file\")"
   ]
  },
  {
   "cell_type": "code",
   "execution_count": 43,
   "metadata": {},
   "outputs": [],
   "source": [
    "f1 = file_opener(\"demo.txt\")"
   ]
  },
  {
   "cell_type": "code",
   "execution_count": 44,
   "metadata": {},
   "outputs": [
    {
     "name": "stdout",
     "output_type": "stream",
     "text": [
      "This is will open file demo.txt\n"
     ]
    }
   ],
   "source": [
    "f1.open_file()"
   ]
  },
  {
   "cell_type": "code",
   "execution_count": 29,
   "metadata": {},
   "outputs": [],
   "source": [
    "import time\n",
    "class timer:\n",
    "    def __init__(self) -> None:\n",
    "        self.start_time = time.time()\n",
    "    def task(self):\n",
    "        \n",
    "        self.time_spent = time.time() - self.start_time\n",
    "        \n",
    "    def __del__(self):\n",
    "        print(\"Under del block\")\n",
    "        \n"
   ]
  },
  {
   "cell_type": "code",
   "execution_count": 30,
   "metadata": {},
   "outputs": [],
   "source": [
    "s = timer()"
   ]
  },
  {
   "cell_type": "code",
   "execution_count": 31,
   "metadata": {},
   "outputs": [
    {
     "name": "stdout",
     "output_type": "stream",
     "text": [
      "Under del block\n"
     ]
    }
   ],
   "source": [
    "s.__del__() "
   ]
  },
  {
   "cell_type": "code",
   "execution_count": 5,
   "metadata": {},
   "outputs": [],
   "source": [
    "import time \n",
    "class timer:\n",
    "    def __init__(self):\n",
    "        self.start_time = time.time()\n",
    "        \n",
    "    def task(self):\n",
    "        time_spent = time.time() - self.start_time\n",
    "        print(time_spent)\n",
    "        \n",
    "    def __del__(self):\n",
    "        print(\"\")\n",
    "        \n",
    "    def __str__(self) :\n",
    "        return \"this is my class timer\"\n",
    "    \n",
    "    def __repr__(self) -> str:\n",
    "        return \"this is also class timer\""
   ]
  },
  {
   "cell_type": "code",
   "execution_count": 2,
   "metadata": {},
   "outputs": [],
   "source": [
    "v = timer()"
   ]
  },
  {
   "cell_type": "code",
   "execution_count": 6,
   "metadata": {},
   "outputs": [
    {
     "name": "stdout",
     "output_type": "stream",
     "text": [
      "45.9444682598114\n"
     ]
    }
   ],
   "source": [
    "v.task()"
   ]
  },
  {
   "cell_type": "code",
   "execution_count": 7,
   "metadata": {},
   "outputs": [
    {
     "name": "stdout",
     "output_type": "stream",
     "text": [
      "this is my class timer\n"
     ]
    }
   ],
   "source": [
    "print(v)"
   ]
  },
  {
   "cell_type": "code",
   "execution_count": 14,
   "metadata": {},
   "outputs": [],
   "source": [
    "def inner_func (fun):\n",
    "    def outter_function ():\n",
    "        print( \"outter func\")\n",
    "        fun()\n",
    "    print (\"this is inner func\")"
   ]
  },
  {
   "cell_type": "code",
   "execution_count": 15,
   "metadata": {},
   "outputs": [
    {
     "name": "stdout",
     "output_type": "stream",
     "text": [
      "this is inner func\n"
     ]
    }
   ],
   "source": [
    "@inner_func\n",
    "def demo():\n",
    "    print(\"hello world\")"
   ]
  },
  {
   "cell_type": "code",
   "execution_count": null,
   "metadata": {},
   "outputs": [],
   "source": []
  }
 ],
 "metadata": {
  "kernelspec": {
   "display_name": "Python 3",
   "language": "python",
   "name": "python3"
  },
  "language_info": {
   "codemirror_mode": {
    "name": "ipython",
    "version": 3
   },
   "file_extension": ".py",
   "mimetype": "text/x-python",
   "name": "python",
   "nbconvert_exporter": "python",
   "pygments_lexer": "ipython3",
   "version": "3.11.0"
  }
 },
 "nbformat": 4,
 "nbformat_minor": 2
}
