{
 "cells": [
  {
   "cell_type": "markdown",
   "metadata": {},
   "source": [
    "<img src=\"skills_logo-removebg-preview.png\" height=\"70\">"
   ]
  },
  {
   "cell_type": "markdown",
   "metadata": {},
   "source": [
    "# Control Flow Assignment Questions"
   ]
  },
  {
   "cell_type": "markdown",
   "metadata": {},
   "source": [
    "## Basic If-Else Statements:"
   ]
  },
  {
   "cell_type": "code",
   "execution_count": 19,
   "metadata": {},
   "outputs": [],
   "source": [
    "def user_input(data_type, message):\n",
    "    try:\n",
    "        if data_type == int:\n",
    "            return int(input(f\"Enter {message}: \"))\n",
    "        elif data_type == float:\n",
    "            return float(input(f\"Enter {message}: \"))\n",
    "        elif data_type == str:\n",
    "            return input(f\"Enter {message}: \")\n",
    "        elif data_type == list:\n",
    "            size_of_list = int(input(f\"Enter the size of the list: \"))\n",
    "            user_list = [user_input(int,f\"elemrnt{i+1}\") for i in range(size_of_list)]\n",
    "            return user_list\n",
    "        else:\n",
    "            print(\"Unsupported data type.\")\n",
    "            return None\n",
    "    except ValueError:\n",
    "        print(f\"Invalid input. Please enter a valid {data_type.__name__}.\")\n"
   ]
  },
  {
   "cell_type": "markdown",
   "metadata": {},
   "source": [
    "### Assignment 1:\n",
    " Write a Python program to check if a given number is positive or negative."
   ]
  },
  {
   "cell_type": "markdown",
   "metadata": {},
   "source": [
    "### Answer 1:"
   ]
  },
  {
   "cell_type": "code",
   "execution_count": 3,
   "metadata": {},
   "outputs": [],
   "source": [
    "def check_number(n):\n",
    "    if n>0 :\n",
    "        return f\"{n} is positive\"\n",
    "    else:\n",
    "        return f\"{n} is negative\""
   ]
  },
  {
   "cell_type": "code",
   "execution_count": 47,
   "metadata": {},
   "outputs": [
    {
     "data": {
      "text/plain": [
       "'5 is positive'"
      ]
     },
     "execution_count": 47,
     "metadata": {},
     "output_type": "execute_result"
    }
   ],
   "source": [
    "number = user_input(int,' a number')\n",
    "check_number(number)"
   ]
  },
  {
   "cell_type": "markdown",
   "metadata": {},
   "source": [
    "### Question 2:\n",
    "Create a program that determines if a person is eligible to vote based on their age."
   ]
  },
  {
   "cell_type": "markdown",
   "metadata": {},
   "source": [
    "### Answer 2:\n"
   ]
  },
  {
   "cell_type": "code",
   "execution_count": 7,
   "metadata": {},
   "outputs": [],
   "source": [
    "def check_elgiable(age):\n",
    "    if age > 18:\n",
    "        return f\"yor are eligible to vote\"\n",
    "    else:\n",
    "        return f\"You are not eligible to vote please apply after {18-age} years\""
   ]
  },
  {
   "cell_type": "code",
   "execution_count": 18,
   "metadata": {},
   "outputs": [
    {
     "data": {
      "text/plain": [
       "'yor are eligible to vote'"
      ]
     },
     "execution_count": 18,
     "metadata": {},
     "output_type": "execute_result"
    }
   ],
   "source": [
    "age = user_input(int,'your age')\n",
    "check_elgiable(age)"
   ]
  },
  {
   "cell_type": "markdown",
   "metadata": {},
   "source": [
    "### Question 3:\n",
    " Develop a program to find the maximum of two numbers using if-else statements."
   ]
  },
  {
   "cell_type": "markdown",
   "metadata": {},
   "source": [
    "### Answer 3:"
   ]
  },
  {
   "cell_type": "code",
   "execution_count": 10,
   "metadata": {},
   "outputs": [],
   "source": [
    "def check_maximum(a,b):\n",
    "    if a >b:\n",
    "        return f\"{a} is maximum\"\n",
    "    else:\n",
    "        return f\"{b} is maximum\""
   ]
  },
  {
   "cell_type": "code",
   "execution_count": 11,
   "metadata": {},
   "outputs": [
    {
     "data": {
      "text/plain": [
       "'20 is maximum'"
      ]
     },
     "execution_count": 11,
     "metadata": {},
     "output_type": "execute_result"
    }
   ],
   "source": [
    "n1 =  user_input(int,'number 1')\n",
    "n2 = user_input(int,'number 2')\n",
    "check_maximum(n1,n2)"
   ]
  },
  {
   "cell_type": "markdown",
   "metadata": {},
   "source": [
    "### Question 4:\n",
    "Write a Python script to classify a given year as a leap year or not."
   ]
  },
  {
   "cell_type": "markdown",
   "metadata": {},
   "source": [
    "### Answer 4:"
   ]
  },
  {
   "cell_type": "code",
   "execution_count": 13,
   "metadata": {},
   "outputs": [],
   "source": [
    "def check_leap_year(year):\n",
    "    if (year % 4 == 0 and year % 100 != 0) or (year % 400 == 0):\n",
    "        return f\"{year} is a leap year\"\n",
    "    else:\n",
    "        return f\"{year} is not a leap year\"\n"
   ]
  },
  {
   "cell_type": "code",
   "execution_count": 15,
   "metadata": {},
   "outputs": [
    {
     "data": {
      "text/plain": [
       "'2002 is not a leap year'"
      ]
     },
     "execution_count": 15,
     "metadata": {},
     "output_type": "execute_result"
    }
   ],
   "source": [
    "year = user_input(int,\"a year\")\n",
    "check_leap_year(year)"
   ]
  },
  {
   "cell_type": "markdown",
   "metadata": {},
   "source": [
    "### Question 5:\n",
    "Create a program that checks whether a character is a vowel or a consonant."
   ]
  },
  {
   "cell_type": "markdown",
   "metadata": {},
   "source": [
    "### Answer 5:"
   ]
  },
  {
   "cell_type": "code",
   "execution_count": 38,
   "metadata": {},
   "outputs": [],
   "source": [
    "def check_vowel_consonant(char):\n",
    "    vowels = \"AEIOUaeiou\"\n",
    "    if char in vowels:\n",
    "        return f\"{char} is a vowel\"\n",
    "    else:\n",
    "        return f\"{char} is a consonant\""
   ]
  },
  {
   "cell_type": "code",
   "execution_count": 39,
   "metadata": {},
   "outputs": [],
   "source": [
    "def process_string(input_string):\n",
    "    result = [check_vowel_consonant(char) for char in input_string if char.isalpha()]\n",
    "    return result"
   ]
  },
  {
   "cell_type": "code",
   "execution_count": 48,
   "metadata": {},
   "outputs": [],
   "source": [
    "string = user_input(str,'a string')\n",
    "output=process_string (string)"
   ]
  },
  {
   "cell_type": "code",
   "execution_count": 43,
   "metadata": {},
   "outputs": [
    {
     "name": "stdout",
     "output_type": "stream",
     "text": [
      "P is a consonant\n",
      "w is a consonant\n",
      "s is a consonant\n",
      "k is a consonant\n",
      "i is a vowel\n",
      "l is a consonant\n",
      "l is a consonant\n",
      "s is a consonant\n"
     ]
    }
   ],
   "source": [
    "for item in output:\n",
    "    print(item)\n"
   ]
  },
  {
   "cell_type": "markdown",
   "metadata": {},
   "source": [
    "### Question 6:\n",
    "Implement a program to determine whether a given number is even or odd."
   ]
  },
  {
   "cell_type": "markdown",
   "metadata": {},
   "source": [
    "### Answer 6:"
   ]
  },
  {
   "cell_type": "code",
   "execution_count": 44,
   "metadata": {},
   "outputs": [],
   "source": [
    "def check_even_odd (n):\n",
    "    if n %2 == 0:\n",
    "        return f\"{n} is even\"\n",
    "    else:\n",
    "        return f\"{n} is odd\""
   ]
  },
  {
   "cell_type": "code",
   "execution_count": 58,
   "metadata": {},
   "outputs": [],
   "source": [
    "def processing(input_list):\n",
    "    result = [check_even_odd(num)  for num in input_list ]\n",
    "    return result\n"
   ]
  },
  {
   "cell_type": "code",
   "execution_count": 59,
   "metadata": {},
   "outputs": [],
   "source": [
    "list_1 = user_input(list,\"element 1\")"
   ]
  },
  {
   "cell_type": "code",
   "execution_count": 61,
   "metadata": {},
   "outputs": [
    {
     "name": "stdout",
     "output_type": "stream",
     "text": [
      "1 is odd\n",
      "2 is even\n",
      "3 is odd\n",
      "4 is even\n",
      "5 is odd\n"
     ]
    }
   ],
   "source": [
    "output_6=processing(list_1)\n",
    "for result in output_6:\n",
    "    print(result)"
   ]
  },
  {
   "cell_type": "markdown",
   "metadata": {},
   "source": [
    "### Question 7:\n",
    "Write a Python function to calculate the absolute value of a number without using the `abs()` function."
   ]
  },
  {
   "cell_type": "markdown",
   "metadata": {},
   "source": [
    "### Answer 7:\n"
   ]
  },
  {
   "cell_type": "code",
   "execution_count": 67,
   "metadata": {},
   "outputs": [],
   "source": [
    "def absolute(n:float)->float:\n",
    "    if n>0:\n",
    "        return n\n",
    "    else:\n",
    "        return -n"
   ]
  },
  {
   "cell_type": "code",
   "execution_count": 69,
   "metadata": {},
   "outputs": [
    {
     "data": {
      "text/plain": [
       "9"
      ]
     },
     "execution_count": 69,
     "metadata": {},
     "output_type": "execute_result"
    }
   ],
   "source": [
    "number_1 = user_input(int,'a number')\n",
    "absolute(number_1)"
   ]
  },
  {
   "cell_type": "markdown",
   "metadata": {},
   "source": [
    "### Question 8:\n",
    " Develop a program that determines the largest of three given numbers using if-else statements."
   ]
  },
  {
   "cell_type": "markdown",
   "metadata": {},
   "source": [
    "### Answer 8:"
   ]
  },
  {
   "cell_type": "code",
   "execution_count": 89,
   "metadata": {},
   "outputs": [],
   "source": [
    "def find_max_three(n1:float,n2:float,n3:float)->str:\n",
    "    if n1>n2 and n1>n3:\n",
    "        return n1\n",
    "    if n2>n1 and n2>n3:\n",
    "        return n2\n",
    "    else:\n",
    "        return n3"
   ]
  },
  {
   "cell_type": "code",
   "execution_count": 90,
   "metadata": {},
   "outputs": [
    {
     "data": {
      "text/plain": [
       "6.0"
      ]
     },
     "execution_count": 90,
     "metadata": {},
     "output_type": "execute_result"
    }
   ],
   "source": [
    "number1=user_input(float,'a number 1')\n",
    "number2= user_input(float,'a number 2')\n",
    "number3 = user_input(float,'a number 3')\n",
    "find_max_three(number1,number2,number3)"
   ]
  },
  {
   "cell_type": "code",
   "execution_count": 91,
   "metadata": {},
   "outputs": [
    {
     "name": "stdout",
     "output_type": "stream",
     "text": [
      "2.5 6.0 1.2\n"
     ]
    }
   ],
   "source": [
    "print(number1,number2,number3)"
   ]
  },
  {
   "cell_type": "markdown",
   "metadata": {},
   "source": [
    "### Question 9:\n",
    "Create a program that checks if a given string is a palindrome."
   ]
  },
  {
   "cell_type": "markdown",
   "metadata": {},
   "source": [
    "### Answer 9:"
   ]
  },
  {
   "cell_type": "code",
   "execution_count": 88,
   "metadata": {},
   "outputs": [],
   "source": [
    "def is_palindrome(string:str)->str:\n",
    "    if string.lower() == string.lower()[::-1]:\n",
    "        return f\"{string} is palindrome string\"\n",
    "    else:\n",
    "        return f\"{string} is not palindrome string\""
   ]
  },
  {
   "cell_type": "code",
   "execution_count": 85,
   "metadata": {},
   "outputs": [
    {
     "data": {
      "text/plain": [
       "'Level is palindrome string'"
      ]
     },
     "execution_count": 85,
     "metadata": {},
     "output_type": "execute_result"
    }
   ],
   "source": [
    "input_string = user_input(str,'a string')\n",
    "is_palindrome(input_string)"
   ]
  },
  {
   "cell_type": "markdown",
   "metadata": {},
   "source": [
    "### Question 10:\n",
    "Write a Python program to calculate the grade based on a student's score."
   ]
  },
  {
   "cell_type": "markdown",
   "metadata": {},
   "source": [
    "### Answer 10:"
   ]
  },
  {
   "cell_type": "code",
   "execution_count": 86,
   "metadata": {},
   "outputs": [],
   "source": [
    "def grade(score:int)->str:\n",
    "    if 90<= score<=100:\n",
    "        return 'A'\n",
    "    if 80<= score<=90:\n",
    "        return\"B\"\n",
    "    if 70<=score<=80:\n",
    "        return \"C\"\n",
    "    if 60<=score<=70:\n",
    "        return \"D\"\n",
    "    if 0<=score<=60:\n",
    "        return \"F\"\n",
    "    else:\n",
    "        return \"Invalid score\"\n",
    "    "
   ]
  },
  {
   "cell_type": "code",
   "execution_count": 87,
   "metadata": {},
   "outputs": [
    {
     "data": {
      "text/plain": [
       "'A'"
      ]
     },
     "execution_count": 87,
     "metadata": {},
     "output_type": "execute_result"
    }
   ],
   "source": [
    "score = user_input(float,'your score')\n",
    "grade(score)"
   ]
  },
  {
   "cell_type": "markdown",
   "metadata": {},
   "source": [
    "## Nested If-Else Statements:"
   ]
  },
  {
   "cell_type": "markdown",
   "metadata": {},
   "source": [
    "### Question 11:\n",
    " Write a program to find the largest among three numbers using nested if-else statements."
   ]
  },
  {
   "cell_type": "markdown",
   "metadata": {},
   "source": [
    "### Answer 11:"
   ]
  },
  {
   "cell_type": "code",
   "execution_count": 99,
   "metadata": {},
   "outputs": [],
   "source": [
    "def find_max(num1,num2,num3):\n",
    "    if num1 >= num2:\n",
    "        if num1 >= num3:\n",
    "            largest = num1\n",
    "        else:\n",
    "            largest = num3\n",
    "    else:\n",
    "        if num2 >= num3:\n",
    "            largest = num2\n",
    "        else:\n",
    "            largest = num3\n",
    "    return largest"
   ]
  },
  {
   "cell_type": "code",
   "execution_count": 104,
   "metadata": {},
   "outputs": [
    {
     "data": {
      "text/plain": [
       "29.0"
      ]
     },
     "execution_count": 104,
     "metadata": {},
     "output_type": "execute_result"
    }
   ],
   "source": [
    "number1=user_input(float,'a number 1')\n",
    "number2= user_input(float,'a number 2')\n",
    "number3 = user_input(float,'a number 3')\n",
    "find_max(number1,number2,number3)"
   ]
  },
  {
   "cell_type": "code",
   "execution_count": 105,
   "metadata": {},
   "outputs": [
    {
     "name": "stdout",
     "output_type": "stream",
     "text": [
      "24.0 29.0 1.0\n"
     ]
    }
   ],
   "source": [
    "print(number1,number2,number3)"
   ]
  },
  {
   "cell_type": "markdown",
   "metadata": {},
   "source": [
    "### Question 12:\n",
    " Implement a program to determine if a triangle is equilateral, isosceles, or scalene."
   ]
  },
  {
   "cell_type": "markdown",
   "metadata": {},
   "source": [
    "### Answer 12:"
   ]
  },
  {
   "cell_type": "code",
   "execution_count": 1,
   "metadata": {},
   "outputs": [],
   "source": [
    "def classify_triangle(side1, side2, side3):\n",
    "    if side1 == side2 == side3:\n",
    "        return \"Equilateral\"\n",
    "    elif side1 == side2 or side1 == side3 or side2 == side3:\n",
    "        return \"Isosceles\"\n",
    "    else:\n",
    "        return \"Scalene\""
   ]
  },
  {
   "cell_type": "code",
   "execution_count": 5,
   "metadata": {},
   "outputs": [
    {
     "name": "stdout",
     "output_type": "stream",
     "text": [
      "The triangle is Equilateral.\n"
     ]
    }
   ],
   "source": [
    "\n",
    "side1 = user_input(float,'The length of first side')\n",
    "side2 = user_input(float,'The length of second side')\n",
    "side3 = user_input(float,'The length of third side')\n",
    "\n",
    "\n",
    "triangle_type = classify_triangle(side1,side2,side3)\n",
    "\n",
    "\n",
    "print(f\"The triangle is {triangle_type}.\")"
   ]
  },
  {
   "cell_type": "markdown",
   "metadata": {},
   "source": [
    "### Question 13:\n",
    " Develop a program that checks if a year is a leap year and also if it is a century year."
   ]
  },
  {
   "cell_type": "markdown",
   "metadata": {},
   "source": [
    "### Answer 13:"
   ]
  },
  {
   "cell_type": "code",
   "execution_count": 11,
   "metadata": {},
   "outputs": [],
   "source": [
    "def is_leap_year(year):\n",
    "    if (year % 100 !=0 and year % 4 ==0) or (year % 400 == 0):\n",
    "        return True\n",
    "    else:\n",
    "        return False\n",
    "\n",
    "###################### is century year ######################\n",
    "\n",
    "def is_century_year(year):\n",
    "    if year % 100 == 0:\n",
    "        return True\n",
    "    else:\n",
    "        return False"
   ]
  },
  {
   "cell_type": "code",
   "execution_count": 17,
   "metadata": {},
   "outputs": [
    {
     "name": "stdout",
     "output_type": "stream",
     "text": [
      "2004 is leap year\n",
      "2004 is not century year\n"
     ]
    }
   ],
   "source": [
    "year = user_input(int,\"the year\")\n",
    "result = is_leap_year(year)\n",
    "result2 = is_century_year(year)\n",
    "######################765\n",
    "if result:\n",
    "    print(f\"{year} is leap year\")\n",
    "else:\n",
    "    print(f\"{year} is not leap year\")\n",
    "######################\n",
    "if result2:\n",
    "    print(f\"{year} is century year\")\n",
    "else:\n",
    "    print(f\"{year} is not century year\")"
   ]
  },
  {
   "cell_type": "markdown",
   "metadata": {},
   "source": [
    "### Question 14:\n",
    "Write a Python script to determine if a number is positive, negative, or zero."
   ]
  },
  {
   "cell_type": "markdown",
   "metadata": {},
   "source": [
    "### Answer 14:"
   ]
  },
  {
   "cell_type": "code",
   "execution_count": 22,
   "metadata": {},
   "outputs": [],
   "source": [
    "def classify_numbers(n):\n",
    "    if n>0:\n",
    "        return f\"{n} is positive number\"\n",
    "    elif n<0:\n",
    "        return f\"{n} is negative number\"\n",
    "    else:\n",
    "        return f\"{n} is zero\""
   ]
  },
  {
   "cell_type": "code",
   "execution_count": 21,
   "metadata": {},
   "outputs": [
    {
     "data": {
      "text/plain": [
       "'0 is zero'"
      ]
     },
     "execution_count": 21,
     "metadata": {},
     "output_type": "execute_result"
    }
   ],
   "source": [
    "num = user_input(int,\"The number\")\n",
    "classify_numbers(num)"
   ]
  },
  {
   "cell_type": "markdown",
   "metadata": {},
   "source": [
    "### Question 15:\n",
    "Create a program to check if a person is a teenager (between 13 and 19 years old)."
   ]
  },
  {
   "cell_type": "markdown",
   "metadata": {},
   "source": [
    "### Answer 15:"
   ]
  },
  {
   "cell_type": "code",
   "execution_count": 24,
   "metadata": {},
   "outputs": [],
   "source": [
    "def  is_teenager(age):\n",
    "    return  13<=age<=19"
   ]
  },
  {
   "cell_type": "code",
   "execution_count": 26,
   "metadata": {},
   "outputs": [
    {
     "name": "stdout",
     "output_type": "stream",
     "text": [
      "You are not teenager\n"
     ]
    }
   ],
   "source": [
    "age = user_input(float,'your age')\n",
    "result = is_teenager(age)\n",
    "if result:\n",
    "    print(\"Your are teenager\")\n",
    "else:\n",
    "    print(\"You are not teenager\")"
   ]
  },
  {
   "cell_type": "markdown",
   "metadata": {},
   "source": [
    "### Question 16:\n",
    "Develop a program that determines the type of angle based on its measure (acute, obtuse, or right)."
   ]
  },
  {
   "cell_type": "markdown",
   "metadata": {},
   "source": [
    "### Answer 16:"
   ]
  },
  {
   "cell_type": "code",
   "execution_count": 27,
   "metadata": {},
   "outputs": [],
   "source": [
    "def classify_angle(angle):\n",
    "    if angle > 0 and angle < 90:\n",
    "        return \"Acute Angle\"\n",
    "    if angle == 90:\n",
    "        return \"Right Angle\"\n",
    "    if angle > 90 and angle < 180:\n",
    "        return \"Obtuse Angle\"\n",
    "    else:\n",
    "        return \"Invalid Angle\""
   ]
  },
  {
   "cell_type": "code",
   "execution_count": 28,
   "metadata": {},
   "outputs": [
    {
     "data": {
      "text/plain": [
       "'Acute Angle'"
      ]
     },
     "execution_count": 28,
     "metadata": {},
     "output_type": "execute_result"
    }
   ],
   "source": [
    "angle = user_input(float,\"the angle measure\")\n",
    "classify_angle(angle)"
   ]
  },
  {
   "cell_type": "markdown",
   "metadata": {},
   "source": [
    "### Question 17:\n",
    " Write a Python program to calculate the roots of a quadratic equation."
   ]
  },
  {
   "cell_type": "markdown",
   "metadata": {},
   "source": [
    "### Answer 17:"
   ]
  },
  {
   "cell_type": "code",
   "execution_count": 29,
   "metadata": {},
   "outputs": [],
   "source": [
    "import math\n",
    "def find_roots (a,b,c):\n",
    "    discriminant = b**2 - 4*a*c\n",
    "    if discriminant >0:\n",
    "        root1 = (-b + math.sqrt(discriminant)) / (2*a)\n",
    "        root2 = (-b - math.sqrt(discriminant)) / (2*a)\n",
    "        return (\"Two real and distinct roots:\", root1, root2)\n",
    "    elif discriminant == 0:\n",
    "        root = -b / (2*a)\n",
    "        return (\"One real root:\", root)\n",
    "    else:\n",
    "        real_part = -b / (2*a)\n",
    "        imaginary_part = math.sqrt(abs(discriminant)) / (2*a)\n",
    "        return (\"Two complex roots:\", real_part + imaginary_part * 1j, real_part - imaginary_part * 1j)\n"
   ]
  },
  {
   "cell_type": "code",
   "execution_count": 30,
   "metadata": {},
   "outputs": [
    {
     "name": "stdout",
     "output_type": "stream",
     "text": [
      "('Two complex roots:', (-1.0869565217391306+1.1946636229594858j), (-1.0869565217391306-1.1946636229594858j))\n"
     ]
    }
   ],
   "source": [
    "a = user_input(float,\"the value of a\")\n",
    "b = user_input(float,\"the value of b\")\n",
    "c = user_input(float,\"the value of c\")\n",
    "roots = find_roots(a,b,c)\n",
    "print(roots)"
   ]
  },
  {
   "cell_type": "markdown",
   "metadata": {},
   "source": [
    "### Question 18:\n",
    " Implement a program to determine the day of the week based on a user-provided number (1 for Monday, 2\n",
    "for Tuesday, etc.)."
   ]
  },
  {
   "cell_type": "markdown",
   "metadata": {},
   "source": [
    "### Answer 18:"
   ]
  },
  {
   "cell_type": "code",
   "execution_count": 3,
   "metadata": {},
   "outputs": [],
   "source": [
    "def find_day(n):\n",
    "    if n >= 1 and n <= 7:\n",
    "        if n == 1:\n",
    "            return \"Monday\"\n",
    "        elif n == 2:\n",
    "            return \"Tuesday\"\n",
    "        elif n == 3:\n",
    "            return \"Wednesday\"\n",
    "        elif n == 4:\n",
    "            return \"Thursday\"\n",
    "        elif n == 5:\n",
    "            return \"Friday\"\n",
    "        elif n == 6:\n",
    "            return \"Saturday\"\n",
    "        else:\n",
    "            return \"Sunday\"\n",
    "    else:\n",
    "        return \"Invalid day number\"\n",
    "\n",
    "\n"
   ]
  },
  {
   "cell_type": "code",
   "execution_count": 7,
   "metadata": {},
   "outputs": [
    {
     "name": "stdout",
     "output_type": "stream",
     "text": [
      "The day of the week is: Thursday\n"
     ]
    }
   ],
   "source": [
    "day_number = user_input(int, \"a day number (1-7): \")\n",
    "day_of_week = find_day(day_number)\n",
    "print(f\"The day of the week is: {day_of_week}\")"
   ]
  },
  {
   "cell_type": "markdown",
   "metadata": {},
   "source": [
    "### Question 19:\n",
    "Create a program that determines if a year is a leap year and also if it is evenly divisible by 400."
   ]
  },
  {
   "cell_type": "markdown",
   "metadata": {},
   "source": [
    "### Answer 19:"
   ]
  },
  {
   "cell_type": "code",
   "execution_count": 8,
   "metadata": {},
   "outputs": [],
   "source": [
    "def is_leap_year(year):\n",
    "    if (year % 4 == 0 and year % 100 != 0) or (year % 400 == 0):\n",
    "        return True\n",
    "    else:\n",
    "        return False"
   ]
  },
  {
   "cell_type": "code",
   "execution_count": 10,
   "metadata": {},
   "outputs": [
    {
     "name": "stdout",
     "output_type": "stream",
     "text": [
      "2024 is a leap year and evenly divisible by 400.\n"
     ]
    }
   ],
   "source": [
    "year = user_input(int,\"a year\")\n",
    "result = is_leap_year (year)\n",
    "if result:\n",
    "    print(f\"{year} is a leap year and evenly divisible by 400.\")\n",
    "else:\n",
    "    print(f\"{year} is not  leap year or not evenly divisible by 400.\")"
   ]
  },
  {
   "cell_type": "markdown",
   "metadata": {},
   "source": [
    "### Question 20:\n",
    "Develop a program that checks if a given number is prime or not using nested if-else statements."
   ]
  },
  {
   "cell_type": "markdown",
   "metadata": {},
   "source": [
    "### Answer 20"
   ]
  },
  {
   "cell_type": "code",
   "execution_count": 15,
   "metadata": {},
   "outputs": [],
   "source": [
    "def is_prime(n):\n",
    "    if n<=1:\n",
    "        return False\n",
    "    elif n<=3:\n",
    "        return True\n",
    "    elif n %2 ==0 or n%3==0:\n",
    "        return False\n",
    "    i=5\n",
    "    while i * i <= n:\n",
    "        if n % i == 0 or n % (i + 2) == 0:\n",
    "            return False  \n",
    "        i += 6  \n",
    "    return True\n",
    "\n"
   ]
  },
  {
   "cell_type": "code",
   "execution_count": 17,
   "metadata": {},
   "outputs": [
    {
     "name": "stdout",
     "output_type": "stream",
     "text": [
      "25 is not prime number\n"
     ]
    }
   ],
   "source": [
    "number = user_input(int,\"a number\")\n",
    "primes = is_prime(number)\n",
    "if primes:\n",
    "    print(f\"{number} is prime number\")\n",
    "else:\n",
    "    print(f\"{number} is not prime number\")"
   ]
  },
  {
   "cell_type": "markdown",
   "metadata": {},
   "source": [
    "## Elif Statements:"
   ]
  },
  {
   "cell_type": "markdown",
   "metadata": {},
   "source": [
    "### Question 21:\n",
    " Write a Python program to assign grades based on different ranges of scores using elif statements."
   ]
  },
  {
   "cell_type": "markdown",
   "metadata": {},
   "source": [
    "### Answer 21:\n"
   ]
  },
  {
   "cell_type": "code",
   "execution_count": 18,
   "metadata": {},
   "outputs": [],
   "source": [
    "def grade(score:int)->str:\n",
    "    if 90<= score<=100:\n",
    "        return 'A'\n",
    "    elif 80<= score<=90:\n",
    "        return\"B\"\n",
    "    elif 70<=score<=80:\n",
    "        return \"C\"\n",
    "    elif 60<=score<=70:\n",
    "        return \"D\"\n",
    "    elif 0<=score<=60:\n",
    "        return \"F\"\n",
    "    else:\n",
    "        return \"Invalid score\"\n",
    "    "
   ]
  },
  {
   "cell_type": "code",
   "execution_count": 20,
   "metadata": {},
   "outputs": [
    {
     "data": {
      "text/plain": [
       "'Invalid score'"
      ]
     },
     "execution_count": 20,
     "metadata": {},
     "output_type": "execute_result"
    }
   ],
   "source": [
    "score = user_input(float,'your score')\n",
    "grade(score)"
   ]
  },
  {
   "cell_type": "markdown",
   "metadata": {},
   "source": [
    "### Question 22:\n",
    "Implement a program to determine the type of a triangle based on its angles."
   ]
  },
  {
   "cell_type": "markdown",
   "metadata": {},
   "source": [
    "### Answer 22:"
   ]
  },
  {
   "cell_type": "code",
   "execution_count": 22,
   "metadata": {},
   "outputs": [],
   "source": [
    "def classify_angle(angle):\n",
    "    if angle > 0 and angle < 90:\n",
    "        return \"Acute Angle\"\n",
    "    elif angle == 90:\n",
    "        return \"Right Angle\"\n",
    "    elif angle > 90 and angle < 180:\n",
    "        return \"Obtuse Angle\"\n",
    "    else:\n",
    "        return \"Invalid Angle\""
   ]
  },
  {
   "cell_type": "code",
   "execution_count": 23,
   "metadata": {},
   "outputs": [
    {
     "data": {
      "text/plain": [
       "'Acute Angle'"
      ]
     },
     "execution_count": 23,
     "metadata": {},
     "output_type": "execute_result"
    }
   ],
   "source": [
    "angle = user_input(float,\"the angle measure\")\n",
    "classify_angle(angle)"
   ]
  },
  {
   "cell_type": "markdown",
   "metadata": {},
   "source": [
    "### Question 23:\n",
    "Develop a program to categorize a given person's BMI into underweight, normal, overweight, or obese using\n",
    "elif statements."
   ]
  },
  {
   "cell_type": "markdown",
   "metadata": {},
   "source": [
    "### Answer 23:\n"
   ]
  },
  {
   "cell_type": "code",
   "execution_count": 24,
   "metadata": {},
   "outputs": [],
   "source": [
    "def categorize_bmi(weight_kg, height_m):\n",
    "    bmi = weight_kg / (height_m ** 2)\n",
    "\n",
    "    if bmi < 18.5:\n",
    "        return \"Underweight\"\n",
    "    elif 18.5 <= bmi < 24.9:\n",
    "        return \"Normal\"\n",
    "    elif 24.9 <= bmi < 29.9:\n",
    "        return \"Overweight\"\n",
    "    else:\n",
    "        return \"Obese\""
   ]
  },
  {
   "cell_type": "code",
   "execution_count": 25,
   "metadata": {},
   "outputs": [
    {
     "name": "stdout",
     "output_type": "stream",
     "text": [
      "Your BMI category is: Underweight\n"
     ]
    }
   ],
   "source": [
    "weight_kg = user_input(float,\"your weight in kilograms: \")\n",
    "height_m = user_input(float,\"your height in meters: \")\n",
    "bmi_category = categorize_bmi(weight_kg, height_m)\n",
    "print(f\"Your BMI category is: {bmi_category}\")"
   ]
  },
  {
   "cell_type": "markdown",
   "metadata": {},
   "source": [
    "### Question 24:\n",
    " Create a program that determines whether a given number is positive, negative, or zero using elif\n",
    "statements."
   ]
  },
  {
   "cell_type": "markdown",
   "metadata": {},
   "source": [
    "### Answer 24:"
   ]
  },
  {
   "cell_type": "code",
   "execution_count": 26,
   "metadata": {},
   "outputs": [],
   "source": [
    "def classify_number(num):\n",
    "    if num > 0:\n",
    "        return \"Positive\"\n",
    "    elif num < 0:\n",
    "        return \"Negative\"\n",
    "    else:\n",
    "        return \"Zero\""
   ]
  },
  {
   "cell_type": "code",
   "execution_count": 28,
   "metadata": {},
   "outputs": [
    {
     "data": {
      "text/plain": [
       "'Positive'"
      ]
     },
     "execution_count": 28,
     "metadata": {},
     "output_type": "execute_result"
    }
   ],
   "source": [
    "num = user_input(float,\"a number\")\n",
    "classify_number(num)"
   ]
  },
  {
   "cell_type": "markdown",
   "metadata": {},
   "source": [
    "### Question 25:\n",
    " Write a Python script to determine the type of a character (uppercase, lowercase, or special) using elif\n",
    "statements."
   ]
  },
  {
   "cell_type": "markdown",
   "metadata": {},
   "source": [
    "### Answer 25:"
   ]
  },
  {
   "cell_type": "code",
   "execution_count": 29,
   "metadata": {},
   "outputs": [],
   "source": [
    "import re\n",
    "def classify_character(char):\n",
    "    if re.match(r'[A-Z]', char):\n",
    "        return \"Uppercase\"\n",
    "    elif re.match(r'[a-z]', char):\n",
    "        return \"Lowercase\"\n",
    "    elif re.match(r'[!@#$%^&*]', char):\n",
    "        return \"Special Character\"\n",
    "    else:\n",
    "        return \"Other\"\n",
    "    "
   ]
  },
  {
   "cell_type": "code",
   "execution_count": 31,
   "metadata": {},
   "outputs": [
    {
     "name": "stdout",
     "output_type": "stream",
     "text": [
      "The character 'A' is classified as: Uppercase\n"
     ]
    }
   ],
   "source": [
    "char = user_input(str,\" a character: \")\n",
    "classification = classify_character(char)\n",
    "print(f\"The character '{char}' is classified as: {classification}\")"
   ]
  },
  {
   "cell_type": "markdown",
   "metadata": {},
   "source": [
    "### Question 26:\n",
    " Implement a program to calculate the discounted price based on different purchase amounts using elif\n",
    "statements."
   ]
  },
  {
   "cell_type": "markdown",
   "metadata": {},
   "source": [
    "### Answer 26:"
   ]
  },
  {
   "cell_type": "code",
   "execution_count": 32,
   "metadata": {},
   "outputs": [],
   "source": [
    "def calculate_discounted_price(amount):\n",
    "    if amount >= 1000:\n",
    "        discount_percentage = 10\n",
    "    elif amount >= 500:\n",
    "        discount_percentage = 5\n",
    "    else:\n",
    "        discount_percentage = 0\n",
    "\n",
    "    discount = (discount_percentage / 100) * amount\n",
    "    discounted_price = amount - discount\n",
    "    return discounted_price"
   ]
  },
  {
   "cell_type": "code",
   "execution_count": 33,
   "metadata": {},
   "outputs": [
    {
     "name": "stdout",
     "output_type": "stream",
     "text": [
      "The discounted price is: 4500.90RS\n"
     ]
    }
   ],
   "source": [
    "purchase_amount = user_input(float,'The purchase amount')\n",
    "discounted_price = calculate_discounted_price(purchase_amount)\n",
    "print(f\"The discounted price is: {discounted_price:.2f}RS\")"
   ]
  },
  {
   "cell_type": "markdown",
   "metadata": {},
   "source": [
    "### Question 27:\n",
    " Develop a program to calculate the electricity bill based on different consumption slabs using elif\n",
    "statements."
   ]
  },
  {
   "cell_type": "markdown",
   "metadata": {},
   "source": [
    "### Answer 27:"
   ]
  },
  {
   "cell_type": "code",
   "execution_count": 34,
   "metadata": {},
   "outputs": [],
   "source": [
    "def calculate_electricity_bill(units):\n",
    "    if units <= 100:\n",
    "        bill = units * 2.50\n",
    "    elif units <= 200:\n",
    "        bill = 100 * 2.50 + (units - 100) * 3.00\n",
    "    elif units <= 300:\n",
    "        bill = 100 * 2.50 + 100 * 3.00 + (units - 200) * 3.50\n",
    "    else:\n",
    "        bill = 100 * 2.50 + 100 * 3.00 + 100 * 3.50 + (units - 300) * 4.00\n",
    "    return bill\n",
    "\n"
   ]
  },
  {
   "cell_type": "code",
   "execution_count": 35,
   "metadata": {},
   "outputs": [
    {
     "name": "stdout",
     "output_type": "stream",
     "text": [
      "The electricity bill is: 50.00Rs\n"
     ]
    }
   ],
   "source": [
    "units = user_input(float,\"the electricity consumption in units: \")\n",
    "electricity_bill = calculate_electricity_bill(units)\n",
    "print(f\"The electricity bill is: {electricity_bill:.2f}Rs\")"
   ]
  },
  {
   "cell_type": "markdown",
   "metadata": {},
   "source": [
    "### Question 28:\n",
    "Create a program to determine the type of quadrilateral based on its angles and sides using elif\n",
    "statements."
   ]
  },
  {
   "cell_type": "markdown",
   "metadata": {},
   "source": [
    "### Answer 28:"
   ]
  },
  {
   "cell_type": "code",
   "execution_count": 12,
   "metadata": {},
   "outputs": [],
   "source": [
    "def classify_quadrilateral(a,b,c,d):\n",
    "   \n",
    "  if a == b == c == d:\n",
    "    return \"square\"\n",
    "  elif a == b and c == d and a != c:\n",
    "    return \"rectangle\"\n",
    "  elif a == c and b == d:\n",
    "    return \"parallelogram\"\n",
    "  elif a == b and c == d and a == b:\n",
    "    return \"rhombus\"\n",
    "  elif (a + b <= c + d) or (a + c <= b + d) or (a + d <= b + c):\n",
    "    return \"trapezoid\"\n",
    "  else:\n",
    "    return \"quadrilateral\""
   ]
  },
  {
   "cell_type": "code",
   "execution_count": 13,
   "metadata": {},
   "outputs": [
    {
     "data": {
      "text/plain": [
       "'square'"
      ]
     },
     "execution_count": 13,
     "metadata": {},
     "output_type": "execute_result"
    }
   ],
   "source": [
    "a=user_input(float,\"the length of first side\")\n",
    "b=user_input(float,\"the lenght of second sides\")\n",
    "c=user_input(float,\"the lenght of Third sides\")\n",
    "d=user_input(float,\"the lenght of fourth sides\")\n",
    "classify_quadrilateral(a,b,c,d)"
   ]
  },
  {
   "cell_type": "markdown",
   "metadata": {},
   "source": [
    "### Question 29:\n",
    "Write a Python script to determine the season based on a user-provided month using elif statements."
   ]
  },
  {
   "cell_type": "markdown",
   "metadata": {},
   "source": [
    "### Answer 29:"
   ]
  },
  {
   "cell_type": "code",
   "execution_count": 17,
   "metadata": {},
   "outputs": [],
   "source": [
    "def determine_season(month):\n",
    "    if month in (\"January\", \"February\", \"December\") :\n",
    "        return \"Winter Season\"\n",
    "    elif month in (\"March\", \"April\", \"May\") :\n",
    "        return \"Summer Season\"\n",
    "    elif month in (\"June\", \"July\", \"August\", \"September\") :\n",
    "        return \"Monsoon Season\"\n",
    "    elif month in (\"October\", \"November\") :\n",
    "        return \"Autumn Season\"\n",
    "    else:\n",
    "        return \"Invalid input\""
   ]
  },
  {
   "cell_type": "code",
   "execution_count": 18,
   "metadata": {},
   "outputs": [
    {
     "name": "stdout",
     "output_type": "stream",
     "text": [
      "The season for December  is Winter Season.\n"
     ]
    }
   ],
   "source": [
    "month = input(\"Enter the month name: \")\n",
    "month = month.title()\n",
    "\n",
    "if month in (\"January\", \"February\", \"March\", \"April\", \"May\",\"June\", \"July\", \"August\", \"September\", \"October\", \"November\",\"December\"):\n",
    "    season = determine_season(month)\n",
    "    if season != \"Invalid input\":\n",
    "        print(f\"The season for {month}  is {season}.\")\n",
    "    else:\n",
    "        print(\"Invalid input. Please enter a valid month name.\")\n",
    "else:\n",
    "    print(\"Invalid input\")"
   ]
  },
  {
   "cell_type": "markdown",
   "metadata": {},
   "source": [
    "### Question 30:\n",
    " Implement a program to determine the type of a year (leap or common) and month (30 or 31 days) using\n",
    "elif statements."
   ]
  },
  {
   "cell_type": "markdown",
   "metadata": {},
   "source": [
    "### Answer 30:"
   ]
  },
  {
   "cell_type": "code",
   "execution_count": 19,
   "metadata": {},
   "outputs": [],
   "source": [
    "def is_leap_year(year):\n",
    "    return year % 4 == 0 and (year % 100 != 0 or year % 400 == 0)"
   ]
  },
  {
   "cell_type": "code",
   "execution_count": 20,
   "metadata": {},
   "outputs": [],
   "source": [
    "def get_number_of_days_in_month(month, year):\n",
    "    if month == 2:\n",
    "        if is_leap_year(year):\n",
    "            return 29\n",
    "        else:\n",
    "            return 28\n",
    "    elif month in (1, 3, 5, 7, 8, 10, 12):\n",
    "        return 31\n",
    "    else:\n",
    "        return 30"
   ]
  },
  {
   "cell_type": "code",
   "execution_count": 22,
   "metadata": {},
   "outputs": [
    {
     "name": "stdout",
     "output_type": "stream",
     "text": [
      "The year is a leap year.\n",
      "The month has 29 days.\n"
     ]
    }
   ],
   "source": [
    "year = user_input(int,\"a yaer\")\n",
    "month = user_input(int,\"a month\")\n",
    "if is_leap_year(year):\n",
    "    print(\"The year is a leap year.\")\n",
    "else:\n",
    "    print(\"The year is a common year.\")\n",
    "\n",
    "print(\"The month has\", get_number_of_days_in_month(month, year), \"days.\")"
   ]
  },
  {
   "cell_type": "markdown",
   "metadata": {},
   "source": [
    "### Basic Level:"
   ]
  },
  {
   "cell_type": "markdown",
   "metadata": {},
   "source": [
    "### Question 1: \n",
    " Write a Python program that checks if a given number is positive, negative, or zero."
   ]
  },
  {
   "cell_type": "markdown",
   "metadata": {},
   "source": [
    "### Answer 1:"
   ]
  },
  {
   "cell_type": "code",
   "execution_count": 23,
   "metadata": {},
   "outputs": [],
   "source": [
    "def classify_number(num):\n",
    "    if num > 0:\n",
    "        return \"Positive\"\n",
    "    elif num < 0:\n",
    "        return \"Negative\"\n",
    "    else:\n",
    "        return \"Zero\""
   ]
  },
  {
   "cell_type": "code",
   "execution_count": 24,
   "metadata": {},
   "outputs": [
    {
     "data": {
      "text/plain": [
       "'Negative'"
      ]
     },
     "execution_count": 24,
     "metadata": {},
     "output_type": "execute_result"
    }
   ],
   "source": [
    "num = user_input(float,\"a number\")\n",
    "classify_number(num)"
   ]
  },
  {
   "cell_type": "markdown",
   "metadata": {},
   "source": [
    "### Question 2:\n",
    " Create a program to determine if a person is eligible to vote based on their age."
   ]
  },
  {
   "cell_type": "markdown",
   "metadata": {},
   "source": [
    "### Answer 2:"
   ]
  },
  {
   "cell_type": "code",
   "execution_count": 25,
   "metadata": {},
   "outputs": [],
   "source": [
    "def check_elgiable(age):\n",
    "    if age > 18:\n",
    "        return f\"yor are eligible to vote\"\n",
    "    else:\n",
    "        return f\"You are not eligible to vote please apply after {18-age} years\""
   ]
  },
  {
   "cell_type": "code",
   "execution_count": 26,
   "metadata": {},
   "outputs": [
    {
     "data": {
      "text/plain": [
       "'yor are eligible to vote'"
      ]
     },
     "execution_count": 26,
     "metadata": {},
     "output_type": "execute_result"
    }
   ],
   "source": [
    "age = user_input(int,'your age')\n",
    "check_elgiable(age)"
   ]
  },
  {
   "cell_type": "markdown",
   "metadata": {},
   "source": [
    "### Question 3:\n",
    " Write a program to find the maximum of two given numbers using conditional statements."
   ]
  },
  {
   "cell_type": "markdown",
   "metadata": {},
   "source": [
    "### Answer 3:"
   ]
  },
  {
   "cell_type": "code",
   "execution_count": 29,
   "metadata": {},
   "outputs": [],
   "source": [
    "def check_maximum (n1,n2):\n",
    "    if n1>n2:\n",
    "        return f\"{n1} is maximum\"\n",
    "    elif n2>n1:\n",
    "        return f\"{n2} is maximum\"\n",
    "    else:\n",
    "        return \"Both are equal\""
   ]
  },
  {
   "cell_type": "code",
   "execution_count": 31,
   "metadata": {},
   "outputs": [
    {
     "data": {
      "text/plain": [
       "'5 is maximum'"
      ]
     },
     "execution_count": 31,
     "metadata": {},
     "output_type": "execute_result"
    }
   ],
   "source": [
    "n1 = user_input(int,\"a number1\")\n",
    "n2 = user_input(int,\"a number2\")\n",
    "check_maximum(n1,n2)"
   ]
  },
  {
   "cell_type": "markdown",
   "metadata": {},
   "source": [
    "### Question 4:\n",
    " Develop a program that calculates the grade of a student based on their exam score. "
   ]
  },
  {
   "cell_type": "markdown",
   "metadata": {},
   "source": [
    "### Answer 4:"
   ]
  },
  {
   "cell_type": "code",
   "execution_count": 33,
   "metadata": {},
   "outputs": [],
   "source": [
    "def grade(score:int)->str:\n",
    "    if 90<= score<=100:\n",
    "        return 'A'\n",
    "    if 80<= score<=90:\n",
    "        return\"B\"\n",
    "    if 70<=score<=80:\n",
    "        return \"C\"\n",
    "    if 60<=score<=70:\n",
    "        return \"D\"\n",
    "    if 0<=score<=60:\n",
    "        return \"F\"\n",
    "    else:\n",
    "        return \"Invalid score\"\n",
    "    "
   ]
  },
  {
   "cell_type": "code",
   "execution_count": 34,
   "metadata": {},
   "outputs": [
    {
     "data": {
      "text/plain": [
       "'F'"
      ]
     },
     "execution_count": 34,
     "metadata": {},
     "output_type": "execute_result"
    }
   ],
   "source": [
    "score = user_input(float,'your score')\n",
    "grade(score)"
   ]
  },
  {
   "cell_type": "markdown",
   "metadata": {},
   "source": [
    "### Question 5:\n",
    "Create a program that checks if a year is a leap year or not."
   ]
  },
  {
   "cell_type": "markdown",
   "metadata": {},
   "source": [
    "### Answer 5:"
   ]
  },
  {
   "cell_type": "code",
   "execution_count": 35,
   "metadata": {},
   "outputs": [],
   "source": [
    "def is_leap_year(year):\n",
    "    return year % 4 == 0 and (year % 100 != 0 or year % 400 == 0)"
   ]
  },
  {
   "cell_type": "code",
   "execution_count": 38,
   "metadata": {},
   "outputs": [
    {
     "name": "stdout",
     "output_type": "stream",
     "text": [
      "is not a leap year\n"
     ]
    }
   ],
   "source": [
    "year = user_input(int,\"A year\")\n",
    "res = is_leap_year(year)\n",
    "if res:\n",
    "    print(f\"{year }is a lepa year\")\n",
    "else:\n",
    "    print(\"is not a leap year\")"
   ]
  },
  {
   "cell_type": "markdown",
   "metadata": {},
   "source": [
    "### Question 6:\n",
    "Write a program to classify a triangle based on its sides' lengths."
   ]
  },
  {
   "cell_type": "markdown",
   "metadata": {},
   "source": [
    "### Answer 6:"
   ]
  },
  {
   "cell_type": "code",
   "execution_count": 39,
   "metadata": {},
   "outputs": [],
   "source": [
    "def classify_triangle(side1, side2, side3):\n",
    "    if side1 <= 0 or side2 <= 0 or side3 <= 0:\n",
    "        return \"Invalid triangle\"\n",
    "    if side1 + side2 <= side3 or side1 + side3 <= side2 or side2 + side3 <= side1:\n",
    "        return \"Not a triangle\"\n",
    "    if side1 == side2 == side3:\n",
    "        return \"Equilateral\"\n",
    "    elif side1 == side2 or side1 == side3 or side2 == side3:\n",
    "        return \"Isosceles\"\n",
    "    else:\n",
    "        return \"Scalene\"\n"
   ]
  },
  {
   "cell_type": "code",
   "execution_count": 41,
   "metadata": {},
   "outputs": [
    {
     "name": "stdout",
     "output_type": "stream",
     "text": [
      "Equilateral\n"
     ]
    }
   ],
   "source": [
    "side1 = float(input(\"Enter the length of side 1: \"))\n",
    "side2 = float(input(\"Enter the length of side 2: \"))\n",
    "side3 = float(input(\"Enter the length of side 3: \"))\n",
    "\n",
    "print(classify_triangle(side1, side2, side3))"
   ]
  },
  {
   "cell_type": "markdown",
   "metadata": {},
   "source": [
    "### Question 7:\n",
    " Build a program that determines the largest of three given numbers."
   ]
  },
  {
   "cell_type": "markdown",
   "metadata": {},
   "source": [
    "### Answer 7:\n"
   ]
  },
  {
   "cell_type": "code",
   "execution_count": 42,
   "metadata": {},
   "outputs": [],
   "source": [
    "def find_large_three(num1,num2,num3):\n",
    "    if num1>num2 and num>num3:\n",
    "        return num1\n",
    "    elif num2>num1 and num2>num3:\n",
    "        return num2\n",
    "    elif num3>num1 and num3>num2:\n",
    "        return num3\n",
    "    else:\n",
    "        return \"all are same\"\n"
   ]
  },
  {
   "cell_type": "code",
   "execution_count": 43,
   "metadata": {},
   "outputs": [
    {
     "data": {
      "text/plain": [
       "9"
      ]
     },
     "execution_count": 43,
     "metadata": {},
     "output_type": "execute_result"
    }
   ],
   "source": [
    "find_large_three(2,6,9)"
   ]
  },
  {
   "cell_type": "markdown",
   "metadata": {},
   "source": [
    "### Question  8:\n",
    "Develop a program that checks whether a character is a vowel or a consonant."
   ]
  },
  {
   "cell_type": "markdown",
   "metadata": {},
   "source": [
    "### Answer 8:"
   ]
  },
  {
   "cell_type": "code",
   "execution_count": 50,
   "metadata": {},
   "outputs": [],
   "source": [
    "def check_vowels(strings):\n",
    "    if strings in \"AEIOUaeiou\":\n",
    "        return \"Vowels\"\n",
    "    else:\n",
    "        return \"consonant\""
   ]
  },
  {
   "cell_type": "code",
   "execution_count": 51,
   "metadata": {},
   "outputs": [],
   "source": [
    "def preprocessing (string):\n",
    "    return [check_vowels(char )for char in string if string.isalpha()]"
   ]
  },
  {
   "cell_type": "code",
   "execution_count": 56,
   "metadata": {},
   "outputs": [
    {
     "name": "stdout",
     "output_type": "stream",
     "text": [
      "v consonant\n",
      "i Vowels\n",
      "c consonant\n",
      "k consonant\n",
      "y consonant\n"
     ]
    }
   ],
   "source": [
    "input_string = user_input(str,\"a string\")\n",
    "res = preprocessing(input_string)\n",
    "for i,res in enumerate(res):\n",
    "    print(input_string[i],res)\n"
   ]
  },
  {
   "cell_type": "markdown",
   "metadata": {},
   "source": [
    "### Question 9:\n",
    "Create a program to calculate the total cost of a shopping cart based on discounts."
   ]
  },
  {
   "cell_type": "markdown",
   "metadata": {},
   "source": [
    "### Answer 9"
   ]
  },
  {
   "cell_type": "code",
   "execution_count": 57,
   "metadata": {},
   "outputs": [],
   "source": [
    "def calculate_total_cost (items,discounts):\n",
    "   total_cost = 0\n",
    "   for item in items:\n",
    "    price = item[\"price\"]\n",
    "    if item[\"name\"] in discounts:\n",
    "       discount = discounts[item[\"name\"]]\n",
    "       price = price * (1 - discount / 100)\n",
    "    total_cost += price\n",
    "    return total_cost"
   ]
  },
  {
   "cell_type": "code",
   "execution_count": 59,
   "metadata": {},
   "outputs": [
    {
     "name": "stdout",
     "output_type": "stream",
     "text": [
      "The total cost is: 9.0Rs\n"
     ]
    }
   ],
   "source": [
    "items =[{\"name\": \"apple\", \"price\": 10},\n",
    "        {\"name\": \"banana\", \"price\": 20},\n",
    "        {\"name\": \"orange\", \"price\": 30},]\n",
    "discounts = {\n",
    "    \"apple\": 10,\n",
    "  }\n",
    "total_cost = calculate_total_cost(items, discounts)\n",
    "\n",
    "print(\"The total cost is: {}Rs\".format(total_cost))"
   ]
  },
  {
   "cell_type": "markdown",
   "metadata": {},
   "source": [
    "### Question 10:\n",
    "Write a program that checks if a given number is even or odd."
   ]
  },
  {
   "cell_type": "markdown",
   "metadata": {},
   "source": [
    "### Answer 10:"
   ]
  },
  {
   "cell_type": "code",
   "execution_count": 2,
   "metadata": {},
   "outputs": [],
   "source": [
    "def check_type_number(n):\n",
    "    return n%2==0"
   ]
  },
  {
   "cell_type": "code",
   "execution_count": 4,
   "metadata": {},
   "outputs": [
    {
     "name": "stdout",
     "output_type": "stream",
     "text": [
      "odd\n"
     ]
    }
   ],
   "source": [
    "num = user_input(int,\"a number\")\n",
    "res = check_type_number(num)\n",
    "if res:\n",
    "    print(\"Even\")\n",
    "else:\n",
    "    print(\"odd\")"
   ]
  },
  {
   "cell_type": "markdown",
   "metadata": {},
   "source": [
    "# Intermediate Level:"
   ]
  },
  {
   "cell_type": "markdown",
   "metadata": {},
   "source": [
    "### Question 11:\n",
    " Write a program that calculates the roots of a quadratic equation ."
   ]
  },
  {
   "cell_type": "markdown",
   "metadata": {},
   "source": [
    "### Answer 11:"
   ]
  },
  {
   "cell_type": "code",
   "execution_count": 5,
   "metadata": {},
   "outputs": [],
   "source": [
    "import math\n",
    "def find_roots_2 (a,b,c):\n",
    "    discriminant = b**2 - 4*a*c\n",
    "    if discriminant >0:\n",
    "        root1 = (-b + math.sqrt(discriminant)) / (2*a)\n",
    "        root2 = (-b - math.sqrt(discriminant)) / (2*a)\n",
    "        return (\"Two real and distinct roots:\", root1, root2)\n",
    "    elif discriminant == 0:\n",
    "        root = -b / (2*a)\n",
    "        return (\"One real root:\", root)\n",
    "    else:\n",
    "        real_part = -b / (2*a)\n",
    "        imaginary_part = math.sqrt(abs(discriminant)) / (2*a)\n",
    "        return (\"Two complex roots:\", real_part + imaginary_part * 1j, real_part - imaginary_part * 1j)\n"
   ]
  },
  {
   "cell_type": "code",
   "execution_count": 6,
   "metadata": {},
   "outputs": [
    {
     "name": "stdout",
     "output_type": "stream",
     "text": [
      "('Two complex roots:', (-0.5833333333333334+0.8122328620674136j), (-0.5833333333333334-0.8122328620674136j))\n"
     ]
    }
   ],
   "source": [
    "a = user_input(float,\"the value of a\")\n",
    "b = user_input(float,\"the value of b\")\n",
    "c = user_input(float,\"the value of c\")\n",
    "roots = find_roots_2(a,b,c)\n",
    "print(roots)"
   ]
  },
  {
   "cell_type": "markdown",
   "metadata": {},
   "source": [
    "### Question 12:\n",
    "Create a program that determines the day of the week based on the day number (1-7)."
   ]
  },
  {
   "cell_type": "markdown",
   "metadata": {},
   "source": [
    "### Answer 12:"
   ]
  },
  {
   "cell_type": "code",
   "execution_count": 7,
   "metadata": {},
   "outputs": [],
   "source": [
    "def determine_day_of_week(day_number):\n",
    "    days_of_week = {\n",
    "        1: \"Monday\",\n",
    "        2: \"Tuesday\",\n",
    "        3: \"Wednesday\",\n",
    "        4: \"Thursday\",\n",
    "        5: \"Friday\",\n",
    "        6: \"Saturday\",\n",
    "        7: \"Sunday\"\n",
    "    }\n",
    "\n",
    "    return days_of_week.get(day_number, \"Invalid day number\")\n"
   ]
  },
  {
   "cell_type": "code",
   "execution_count": 18,
   "metadata": {},
   "outputs": [
    {
     "name": "stdout",
     "output_type": "stream",
     "text": [
      "The day of the week for day number 5 is: Friday\n"
     ]
    }
   ],
   "source": [
    "while True:\n",
    "    day_number = user_input(int,\" the day number (1-7): \")\n",
    "    if 1<=day_number<=7:\n",
    "        day_of_week = determine_day_of_week(day_number)\n",
    "        print(f\"The day of the week for day number {day_number} is: {day_of_week}\")\n",
    "        break\n",
    "    else:\n",
    "        print(\"ivalid input.Please enter a day number between 1 and 7.\")"
   ]
  },
  {
   "cell_type": "markdown",
   "metadata": {},
   "source": [
    "### Question 13:\n",
    " Develop a program that calculates the factorial of a given number using recursion."
   ]
  },
  {
   "cell_type": "markdown",
   "metadata": {},
   "source": [
    "### Answer 13:"
   ]
  },
  {
   "cell_type": "code",
   "execution_count": 15,
   "metadata": {},
   "outputs": [],
   "source": [
    "def factorial(n):\n",
    "    if n == 0 or n == 1:\n",
    "        return 1\n",
    "    else:\n",
    "        return n * factorial(n - 1)\n"
   ]
  },
  {
   "cell_type": "code",
   "execution_count": 16,
   "metadata": {},
   "outputs": [
    {
     "name": "stdout",
     "output_type": "stream",
     "text": [
      "The factorial of 5 is: 120\n"
     ]
    }
   ],
   "source": [
    "num = user_input(int,\" a non-negative integer: \")\n",
    "\n",
    "if num < 0:\n",
    "    print(\"Factorial is not defined for negative numbers.\")\n",
    "else:\n",
    "    result = factorial(num)\n",
    "    print(f\"The factorial of {num} is: {result}\")"
   ]
  },
  {
   "cell_type": "markdown",
   "metadata": {},
   "source": [
    "### Question 14:\n",
    " Write a program to find the largest among three numbers without using the `max()` function."
   ]
  },
  {
   "cell_type": "markdown",
   "metadata": {},
   "source": [
    "### Answer 14:"
   ]
  },
  {
   "cell_type": "code",
   "execution_count": 19,
   "metadata": {},
   "outputs": [],
   "source": [
    "def find_largest(num1, num2, num3):\n",
    "    largest = num1\n",
    "\n",
    "    if num2 > largest:\n",
    "        largest = num2\n",
    "\n",
    "    if num3 > largest:\n",
    "        largest = num3\n",
    "\n",
    "    return largest\n",
    "\n",
    "\n"
   ]
  },
  {
   "cell_type": "code",
   "execution_count": 21,
   "metadata": {},
   "outputs": [
    {
     "name": "stdout",
     "output_type": "stream",
     "text": [
      "The largest number among 20.0, 21.0, and 25.0 is: 25.0\n"
     ]
    }
   ],
   "source": [
    "num1 = user_input(float,\" the first number: \")\n",
    "num2 = user_input(float,\" the second number: \")\n",
    "num3 = user_input(float,\" the third number: \")\n",
    "\n",
    "largest = find_largest(num1, num2, num3)\n",
    "\n",
    "print(f\"The largest number among {num1}, {num2}, and {num3} is: {largest}\")"
   ]
  },
  {
   "cell_type": "markdown",
   "metadata": {},
   "source": [
    "### Question 15:\n",
    " Create a program that simulates a basic ATM transaction menu."
   ]
  },
  {
   "cell_type": "markdown",
   "metadata": {},
   "source": [
    "### Answer 15:"
   ]
  },
  {
   "cell_type": "code",
   "execution_count": 23,
   "metadata": {},
   "outputs": [
    {
     "name": "stdout",
     "output_type": "stream",
     "text": [
      "ATM Menu:\n",
      "1. Check Balance\n",
      "2. Deposit\n",
      "3. Withdraw\n",
      "4. Exit\n",
      "Invalid choice. Please select a valid option (1-4).\n",
      "ATM Menu:\n",
      "1. Check Balance\n",
      "2. Deposit\n",
      "3. Withdraw\n",
      "4. Exit\n",
      "Your balance is ₹10000\n",
      "ATM Menu:\n",
      "1. Check Balance\n",
      "2. Deposit\n",
      "3. Withdraw\n",
      "4. Exit\n",
      "Thank you for using the ATM. Goodbye!\n"
     ]
    }
   ],
   "source": [
    "balance = 10000  \n",
    "\n",
    "while True:\n",
    "    print(\"ATM Menu:\")\n",
    "    print(\"1. Check Balance\")\n",
    "    print(\"2. Deposit\")\n",
    "    print(\"3. Withdraw\")\n",
    "    print(\"4. Exit\")\n",
    "\n",
    "    choice = int(input(\"Enter your choice (1-4): \"))\n",
    "\n",
    "    if 1<=choice<=4:\n",
    "\n",
    "        if choice == 1:\n",
    "            print(\"Your balance is ₹\" + str(balance))\n",
    "        elif choice == 2:\n",
    "            deposit_amount = float(input(\"Enter deposit amount: ₹\"))\n",
    "            balance += deposit_amount\n",
    "            print(\"₹{:.2f} deposited. Your updated balance is ₹{:.2f}\".format(deposit_amount, balance))\n",
    "        elif choice == 3:\n",
    "            withdrawal_amount = float(input(\"Enter withdrawal amount: ₹\"))\n",
    "            if withdrawal_amount <= balance:\n",
    "                balance -= withdrawal_amount\n",
    "                print(\"₹{:.2f} withdrawn. Your updated balance is ₹{:.2f}\".format(withdrawal_amount, balance))\n",
    "            else:\n",
    "                print(\"Insufficient funds. Withdrawal not possible.\")\n",
    "        elif choice == 4:\n",
    "            print(\"Thank you for using the ATM. Goodbye!\")\n",
    "            break\n",
    "    else:\n",
    "        print(\"Invalid choice. Please select a valid option (1-4).\")\n"
   ]
  },
  {
   "cell_type": "markdown",
   "metadata": {},
   "source": [
    "### Question 16:\n",
    "Check if a String is a Palindrome"
   ]
  },
  {
   "cell_type": "markdown",
   "metadata": {},
   "source": [
    "### Answer 16:"
   ]
  },
  {
   "cell_type": "code",
   "execution_count": 24,
   "metadata": {},
   "outputs": [],
   "source": [
    "def is_palindrome(s):\n",
    "    s = s.lower().replace(\" \", \"\")  # Convert to lowercase and remove spaces\n",
    "    return s == s[::-1]"
   ]
  },
  {
   "cell_type": "code",
   "execution_count": 25,
   "metadata": {},
   "outputs": [
    {
     "name": "stdout",
     "output_type": "stream",
     "text": [
      "\"radar\" is a palindrome.\n"
     ]
    }
   ],
   "source": [
    "string_to_check = user_input(str,\" a string: \")\n",
    "if is_palindrome(string_to_check):\n",
    "    print(f'\"{string_to_check}\" is a palindrome.')\n",
    "else:\n",
    "    print(f'\"{string_to_check}\" is not a palindrome.')"
   ]
  },
  {
   "cell_type": "markdown",
   "metadata": {},
   "source": [
    "### Question 17:\n",
    " Calculate the Average of a List (Excluding Smallest and Largest Values)"
   ]
  },
  {
   "cell_type": "markdown",
   "metadata": {},
   "source": [
    "### Answer 17:"
   ]
  },
  {
   "cell_type": "code",
   "execution_count": 2,
   "metadata": {},
   "outputs": [],
   "source": [
    "def calculate_average_excluding_extremes(numbers):\n",
    "    if len(numbers) < 3:\n",
    "        return \"List should have at least 3 numbers.\"\n",
    "\n",
    "    \n",
    "    total_sum = sum(numbers) - min(numbers) - max(numbers)\n",
    "    average = total_sum / (len(numbers) - 2)\n",
    "    return average\n",
    "\n",
    "\n"
   ]
  },
  {
   "cell_type": "code",
   "execution_count": 3,
   "metadata": {},
   "outputs": [
    {
     "name": "stdout",
     "output_type": "stream",
     "text": [
      "The average of the list excluding extremes is: 30.0\n"
     ]
    }
   ],
   "source": [
    "numbers_list = [10, 20, 30, 40, 50]\n",
    "average = calculate_average_excluding_extremes(numbers_list)\n",
    "print(f\"The average of the list excluding extremes is: {average}\")"
   ]
  },
  {
   "cell_type": "markdown",
   "metadata": {},
   "source": [
    "### Question 18:\n",
    " Convert Temperature from Celsius to Fahrenheit"
   ]
  },
  {
   "cell_type": "markdown",
   "metadata": {},
   "source": [
    "### Answer 18:"
   ]
  },
  {
   "cell_type": "code",
   "execution_count": 4,
   "metadata": {},
   "outputs": [],
   "source": [
    "def celsius_to_fahrenheit(celsius):\n",
    "    return (celsius * 9/5) + 32"
   ]
  },
  {
   "cell_type": "code",
   "execution_count": 6,
   "metadata": {},
   "outputs": [
    {
     "name": "stdout",
     "output_type": "stream",
     "text": [
      "5.0 degrees Celsius is equal to 41.00 degrees Fahrenheit\n"
     ]
    }
   ],
   "source": [
    "celsius_temperature = user_input(float,\" temperature in Celsius: \")\n",
    "fahrenheit_temperature = celsius_to_fahrenheit(celsius_temperature)\n",
    "print(f\"{celsius_temperature} degrees Celsius is equal to {fahrenheit_temperature:.2f} degrees Fahrenheit\")"
   ]
  },
  {
   "cell_type": "markdown",
   "metadata": {},
   "source": [
    "### Question 19:\n",
    " Basic Calculator for Addition, Subtraction, Multiplication, and Division"
   ]
  },
  {
   "cell_type": "markdown",
   "metadata": {},
   "source": [
    "### Answer 19:"
   ]
  },
  {
   "cell_type": "code",
   "execution_count": 7,
   "metadata": {},
   "outputs": [],
   "source": [
    "def add(x, y):\n",
    "    return x + y\n",
    "\n",
    "def subtract(x, y):\n",
    "    return x - y\n",
    "\n",
    "def multiply(x, y):\n",
    "    return x * y\n",
    "\n",
    "def divide(x, y):\n",
    "    if y != 0:\n",
    "        return x / y\n",
    "    else:\n",
    "        return \"Cannot divide by zero.\""
   ]
  },
  {
   "cell_type": "code",
   "execution_count": 8,
   "metadata": {},
   "outputs": [
    {
     "name": "stdout",
     "output_type": "stream",
     "text": [
      "Select operation:\n",
      "1. Add\n",
      "2. Subtract\n",
      "3. Multiply\n",
      "4. Divide\n",
      "The result of addition is: 7.0\n"
     ]
    }
   ],
   "source": [
    "num1 = user_input(float,\" first number: \")\n",
    "num2 = user_input(float,\" second number: \")\n",
    "\n",
    "print(\"Select operation:\")\n",
    "print(\"1. Add\")\n",
    "print(\"2. Subtract\")\n",
    "print(\"3. Multiply\")\n",
    "print(\"4. Divide\")\n",
    "\n",
    "choice = input(\"Enter choice (1/2/3/4): \")\n",
    "\n",
    "if choice in ('1', '2', '3', '4'):\n",
    "    if choice == '1':\n",
    "        print(f\"The result of addition is: {add(num1, num2)}\")\n",
    "    elif choice == '2':\n",
    "        print(f\"The result of subtraction is: {subtract(num1, num2)}\")\n",
    "    elif choice == '3':\n",
    "        print(f\"The result of multiplication is: {multiply(num1, num2)}\")\n",
    "    elif choice == '4':\n",
    "        print(f\"The result of division is: {divide(num1, num2)}\")\n",
    "else:\n",
    "    print(\"Invalid input\")"
   ]
  },
  {
   "cell_type": "markdown",
   "metadata": {},
   "source": [
    "### Question 20:\n",
    " Write a program that determines the roots of a cubic equation using the Cardano formula."
   ]
  },
  {
   "cell_type": "markdown",
   "metadata": {},
   "source": [
    "### Answer 20:"
   ]
  },
  {
   "cell_type": "code",
   "execution_count": 2,
   "metadata": {},
   "outputs": [],
   "source": [
    "import cmath\n",
    "\n",
    "def cardano_formula(a, b, c, d):\n",
    " \n",
    "\n",
    "\n",
    "  discriminant = b**2 - 4 * a * c + 12 * a * d\n",
    "\n",
    "  \n",
    "  if discriminant == 0:\n",
    "    return [-b / (3 * a)]\n",
    "\n",
    "  elif discriminant > 0:\n",
    "    p = (b**3 - 9 * a * b * c + 27 * a**2 * d) / (2 * a**3 * cmath.sqrt(discriminant))\n",
    "    q = (2 * b**3 - 9 * a * b * c + 27 * a**2 * d) / (2 * a**3 * cmath.sqrt(discriminant))\n",
    "\n",
    "    r1 = -b / (3 * a) + p + q\n",
    "    r2 = -b / (3 * a) - p / 2 - q / 2 + cmath.sqrt(3) * (p - q) / 2\n",
    "    r3 = -b / (3 * a) - p / 2 - q / 2 - cmath.sqrt(3) * (p - q) / 2\n",
    "\n",
    "    return [r1, r2, r3]\n",
    "\n",
    "  \n",
    "  else:\n",
    "    p = (b**3 - 9 * a * b * c + 27 * a**2 * d) / (2 * a**3 * cmath.sqrt(-discriminant))\n",
    "\n",
    "    r1 = -b / (3 * a) + p\n",
    "    r2 = -b / (3 * a) - p / 2 + cmath.sqrt(3) * p / 2\n",
    "    r3 = -b / (3 * a) - p / 2 - cmath.sqrt(3) * p / 2\n",
    "\n",
    "    return [r1, r2, r3]\n",
    "\n",
    "\n",
    "def main():\n",
    "  # Get the coefficients of the cubic equation from the user.\n",
    "  a = float(input(\"Enter the coefficient of the x^3 term: \"))\n",
    "  b = float(input(\"Enter the coefficient of the x^2 term: \"))\n",
    "  c = float(input(\"Enter the coefficient of the x term: \"))\n",
    "  d = float(input(\"Enter the constant term: \"))\n",
    "\n",
    "  # Solve the cubic equation using the Cardano formula.\n",
    "  roots = cardano_formula(a, b, c, d)\n",
    "\n",
    "  # Print the roots of the cubic equation.\n",
    "  if roots:\n",
    "    print(\"The roots of the cubic equation are:\", roots)\n",
    "  else:\n",
    "    print(\"The cubic equation has no real roots.\")\n",
    "\n",
    "\n"
   ]
  },
  {
   "cell_type": "code",
   "execution_count": 5,
   "metadata": {},
   "outputs": [
    {
     "name": "stdout",
     "output_type": "stream",
     "text": [
      "The roots of the cubic equation are: [(1.2379950894495848+0j), (-0.719289274707788+0j), (-0.7187058147417965+0j)]\n"
     ]
    }
   ],
   "source": [
    "a = user_input( float,\"the coefficient of the x^3 term: \")\n",
    "b = user_input( float,\"the coefficient of the x^2 term: \")\n",
    "c = user_input(float,\"the coefficient of the x term: \")\n",
    "d = user_input(float,\" the constant term: \")\n",
    "\n",
    " \n",
    "roots = cardano_formula(a, b, c, d)\n",
    "\n",
    " \n",
    "if roots:\n",
    "    print(\"The roots of the cubic equation are:\", roots)\n",
    "else:\n",
    "    print(\"The cubic equation has no real roots.\")"
   ]
  },
  {
   "cell_type": "markdown",
   "metadata": {},
   "source": [
    "# Advanced Level"
   ]
  },
  {
   "cell_type": "markdown",
   "metadata": {},
   "source": [
    "### Question 21:\n",
    " Create a program that calculates the income tax based on the user's income and tax brackets."
   ]
  },
  {
   "cell_type": "markdown",
   "metadata": {},
   "source": [
    "### Answer 21:"
   ]
  },
  {
   "cell_type": "code",
   "execution_count": 6,
   "metadata": {},
   "outputs": [],
   "source": [
    "def calculate_income_tax(income, tax_brackets):\n",
    " \n",
    "\n",
    "  tax = 0\n",
    "  for income_threshold, tax_rate in tax_brackets:\n",
    "    if income > income_threshold:\n",
    "      tax += (income - income_threshold) * tax_rate\n",
    "    else:\n",
    "      break\n",
    "  return tax\n"
   ]
  },
  {
   "cell_type": "code",
   "execution_count": 7,
   "metadata": {},
   "outputs": [
    {
     "name": "stdout",
     "output_type": "stream",
     "text": [
      "7000.0\n"
     ]
    }
   ],
   "source": [
    "\n",
    "\n",
    "tax_brackets = [\n",
    "  (0, 0),\n",
    "  (10000, 0.1),\n",
    "  (20000, 0.2),\n",
    "  (30000, 0.3),\n",
    "  (40000, 0.4),\n",
    "  (50000, 0.5),\n",
    "]\n",
    "\n",
    "income = 35000\n",
    "\n",
    "tax = calculate_income_tax(income, tax_brackets)\n",
    "\n",
    "print(tax)"
   ]
  },
  {
   "cell_type": "markdown",
   "metadata": {},
   "source": [
    "### Question 22:\n",
    " Write a program that simulates a rock-paper-scissors game against the computer."
   ]
  },
  {
   "cell_type": "markdown",
   "metadata": {},
   "source": [
    "### Answer 22:"
   ]
  },
  {
   "cell_type": "code",
   "execution_count": 1,
   "metadata": {},
   "outputs": [],
   "source": [
    "import random\n",
    "\n",
    "def rock_paper_scissors():\n",
    "  \n",
    "  user_choice = input(\"Enter rock, paper, or scissors: \")\n",
    "\n",
    "  \n",
    "  computer_choice = random.choice([\"rock\", \"paper\", \"scissors\"])\n",
    "\n",
    "  # Determine the winner.\n",
    "  if user_choice == computer_choice:\n",
    "    print(\"Tie!\")\n",
    "  elif user_choice == \"rock\" and computer_choice == \"scissors\":\n",
    "    print(\"You win!\")\n",
    "  elif user_choice == \"paper\" and computer_choice == \"rock\":\n",
    "    print(\"You win!\")\n",
    "  elif user_choice == \"scissors\" and computer_choice == \"paper\":\n",
    "    print(\"You win!\")\n",
    "  else:\n",
    "    print(\"You lose!\")\n",
    "\n",
    "\n"
   ]
  },
  {
   "cell_type": "code",
   "execution_count": 2,
   "metadata": {},
   "outputs": [
    {
     "name": "stdout",
     "output_type": "stream",
     "text": [
      "You win!\n"
     ]
    }
   ],
   "source": [
    "rock_paper_scissors()"
   ]
  },
  {
   "cell_type": "markdown",
   "metadata": {},
   "source": [
    "### Question 23:\n",
    " Develop a program that generates a random password based on user preferences (length, complexity)."
   ]
  },
  {
   "cell_type": "markdown",
   "metadata": {},
   "source": [
    "### Answer 23:"
   ]
  },
  {
   "cell_type": "code",
   "execution_count": 3,
   "metadata": {},
   "outputs": [],
   "source": [
    "import random\n",
    "\n",
    "def generate_random_password(length, complexity):\n",
    " \n",
    "\n",
    "  \n",
    "  characters = []\n",
    "  if complexity == \"low\":\n",
    "    characters = [chr(x) for x in range(97, 123)]  # lowercase letters\n",
    "  elif complexity == \"medium\":\n",
    "    characters = [chr(x) for x in range(97, 123)] + [chr(x) for x in range(65, 91)]  # lowercase and uppercase letters\n",
    "  elif complexity == \"high\":\n",
    "    characters = [chr(x) for x in range(97, 123)] + [chr(x) for x in range(65, 91)] + [str(x) for x in range(10)] + [\"!\", \"@\", \"#\", \"$\", \"%\", \"^\", \"&\", \"*\", \"(\", \")\", \"-\", \"_\", \"+\", \"=\"]  # lowercase, uppercase, digits, and special characters\n",
    "\n",
    "  # Generate a random password.\n",
    "  password = \"\"\n",
    "  for i in range(length):\n",
    "    password += random.choice(characters)\n",
    "\n",
    "  return password\n",
    "\n",
    "\n"
   ]
  },
  {
   "cell_type": "code",
   "execution_count": 9,
   "metadata": {},
   "outputs": [
    {
     "name": "stdout",
     "output_type": "stream",
     "text": [
      "EK=e1yAAUnbE\n"
     ]
    }
   ],
   "source": [
    "\n",
    "\n",
    "length = 12\n",
    "complexity = \"high\"\n",
    "\n",
    "password = generate_random_password(length, complexity)\n",
    "\n",
    "print(password)"
   ]
  },
  {
   "cell_type": "markdown",
   "metadata": {},
   "source": [
    "### Question 24:\n",
    " Create a program that implements a simple text-based adventure game with branching scenarios."
   ]
  },
  {
   "cell_type": "markdown",
   "metadata": {},
   "source": [
    "### Answer 24:"
   ]
  },
  {
   "cell_type": "code",
   "execution_count": 1,
   "metadata": {},
   "outputs": [
    {
     "name": "stdout",
     "output_type": "stream",
     "text": [
      "Welcome to the Adventure Game!\n",
      "You are on a quest to find the hidden treasure.\n",
      "\n",
      "Scenario 1:\n",
      "You find yourself standing in front of a cave.\n",
      "Do you want to enter the cave? (yes or no)\n",
      "You enter the cave and discover a hidden treasure!\n",
      "\n",
      "Scenario 2:\n",
      "You come across a bridge guarded by a troll.\n",
      "Do you want to try to cross the bridge? (yes or no)\n",
      "You try to cross the bridge but the troll stops you.\n",
      "The troll demands a toll of 10 gold coins.\n",
      "\n",
      "Thank you for playing!\n"
     ]
    }
   ],
   "source": [
    "def scenario_1():\n",
    "    print(\"You find yourself standing in front of a cave.\")\n",
    "    print(\"Do you want to enter the cave? (yes or no)\")\n",
    "    choice = input().lower()\n",
    "    \n",
    "    if choice == \"yes\":\n",
    "        print(\"You enter the cave and discover a hidden treasure!\")\n",
    "    elif choice == \"no\":\n",
    "        print(\"You decide not to enter the cave and continue your journey.\")\n",
    "    else:\n",
    "        print(\"Invalid choice. Please try again.\")\n",
    "\n",
    "def scenario_2():\n",
    "    print(\"You come across a bridge guarded by a troll.\")\n",
    "    print(\"Do you want to try to cross the bridge? (yes or no)\")\n",
    "    choice = input().lower()\n",
    "    \n",
    "    if choice == \"yes\":\n",
    "        print(\"You try to cross the bridge but the troll stops you.\")\n",
    "        print(\"The troll demands a toll of 10 gold coins.\")\n",
    "    elif choice == \"no\":\n",
    "        print(\"You decide not to cross the bridge and find another path.\")\n",
    "    else:\n",
    "        print(\"Invalid choice. Please try again.\")\n",
    "\n",
    "# Main game loop\n",
    "def play_game():\n",
    "    print(\"Welcome to the Adventure Game!\")\n",
    "    print(\"You are on a quest to find the hidden treasure.\")\n",
    "    \n",
    "    print(\"\\nScenario 1:\")\n",
    "    scenario_1()\n",
    "    \n",
    "    print(\"\\nScenario 2:\")\n",
    "    scenario_2()\n",
    "    \n",
    "    print(\"\\nThank you for playing!\")\n",
    "\n",
    "if __name__ == \"__main__\":\n",
    "    play_game()\n"
   ]
  },
  {
   "cell_type": "markdown",
   "metadata": {},
   "source": [
    "### Question 25:\n",
    " Build a program that solves a linear equation for x, considering different cases."
   ]
  },
  {
   "cell_type": "markdown",
   "metadata": {},
   "source": [
    "### Answer 25:"
   ]
  },
  {
   "cell_type": "markdown",
   "metadata": {},
   "source": [
    "### "
   ]
  },
  {
   "cell_type": "code",
   "execution_count": 2,
   "metadata": {},
   "outputs": [],
   "source": [
    "def solve_linear_equation(a, b, c):\n",
    "  \"\"\"Solves a linear equation for x.\n",
    "\n",
    "  Args:\n",
    "    a: The coefficient of the x term.\n",
    "    b: The coefficient of the constant term.\n",
    "    c: The constant term.\n",
    "\n",
    "  Returns:\n",
    "    The solution to the linear equation, or None if there is no solution.\n",
    "  \"\"\"\n",
    "\n",
    "  if a == 0:\n",
    "    if b == 0:\n",
    "      \n",
    "      return None\n",
    "    else:\n",
    "      \n",
    "      return None\n",
    "  else:\n",
    "    \n",
    "    return (c - b) / a\n",
    "\n",
    "\n"
   ]
  },
  {
   "cell_type": "code",
   "execution_count": 3,
   "metadata": {},
   "outputs": [
    {
     "name": "stdout",
     "output_type": "stream",
     "text": [
      "1.0\n"
     ]
    }
   ],
   "source": [
    "a = user_input(int,\"The coefficient of the x term:\")\n",
    "b = user_input(int,\"The coefficient of the constant term:\")\n",
    "c = user_input(int,\"The constant term:\")\n",
    "print(solve_linear_equation(a ,b , c))"
   ]
  },
  {
   "cell_type": "markdown",
   "metadata": {},
   "source": [
    "### Question 26:\n",
    " Write a program that simulates a basic quiz game with multiple-choice questions and scoring."
   ]
  },
  {
   "cell_type": "markdown",
   "metadata": {},
   "source": [
    "### Answer 26:"
   ]
  },
  {
   "cell_type": "code",
   "execution_count": 4,
   "metadata": {},
   "outputs": [],
   "source": [
    "import random\n",
    "\n",
    "questions = [\n",
    "    (\"What is the capital of France?\", [\"Paris\", \"London\", \"Berlin\", \"Rome\"], \"A\"),\n",
    "    (\"What is the largest ocean in the world?\", [\"Pacific Ocean\", \"Atlantic Ocean\", \"Indian Ocean\", \"Arctic Ocean\"], \"A\"),\n",
    "    (\"What is the square root of 16?\", [\"4\", \"2\", \"8\", \"1\"], \"A\"),\n",
    "]\n",
    "\n",
    "def ask_question(question):\n",
    "  \"\"\"Asks a quiz question to the user.\n",
    "\n",
    "  Args:\n",
    "    question: A tuple containing the question text, answer choices, and correct answer.\n",
    "\n",
    "  Returns:\n",
    "    True if the user answered the question correctly, False otherwise.\n",
    "  \"\"\"\n",
    "\n",
    "  print(question[0])\n",
    "  for i in range(len(question[1])):\n",
    "    print(f\"{i + 1}. {question[1][i]}\")\n",
    "\n",
    "  answer = input(\"Enter your answer (A, B, C, or D): \").upper()\n",
    "\n",
    "  if answer == question[2]:\n",
    "    return True\n",
    "  else:\n",
    "    return False\n"
   ]
  },
  {
   "cell_type": "code",
   "execution_count": 18,
   "metadata": {},
   "outputs": [
    {
     "name": "stdout",
     "output_type": "stream",
     "text": [
      "What is the capital of France?\n",
      "1. Paris\n",
      "2. London\n",
      "3. Berlin\n",
      "4. Rome\n",
      "What is the largest ocean in the world?\n",
      "1. Pacific Ocean\n",
      "2. Atlantic Ocean\n",
      "3. Indian Ocean\n",
      "4. Arctic Ocean\n",
      "What is the square root of 16?\n",
      "1. 4\n",
      "2. 2\n",
      "3. 8\n",
      "4. 1\n",
      "Your score is 0 out of 3.\n"
     ]
    }
   ],
   "source": [
    "def main():\n",
    "  \"\"\"Simulates a basic quiz game.\"\"\"\n",
    "\n",
    "  score = 0\n",
    "  for question in questions:\n",
    "    if ask_question(question):\n",
    "      score += 1\n",
    "\n",
    "  print(f\"Your score is {score} out of {len(questions)}.\")\n",
    "\n",
    "if __name__ == \"__main__\":\n",
    "  main()\n"
   ]
  },
  {
   "cell_type": "markdown",
   "metadata": {},
   "source": [
    "### Question 27:\n",
    "Develop a program that determines whether a given year is a prime number or not."
   ]
  },
  {
   "cell_type": "markdown",
   "metadata": {},
   "source": [
    "### Answer 27:"
   ]
  },
  {
   "cell_type": "code",
   "execution_count": 12,
   "metadata": {},
   "outputs": [],
   "source": [
    "def is_prime_year(year):\n",
    "  \"\"\"Returns True if year is a prime number, False otherwise.\"\"\"\n",
    "\n",
    "  if year <= 1:\n",
    "    return False\n",
    "\n",
    "  for i in range(2, int(year**0.5) + 1):\n",
    "    if year % i == 0:\n",
    "      return False\n",
    "\n",
    "  return True\n"
   ]
  },
  {
   "cell_type": "code",
   "execution_count": 17,
   "metadata": {},
   "outputs": [
    {
     "name": "stdout",
     "output_type": "stream",
     "text": [
      "2003 is a prime year.\n"
     ]
    }
   ],
   "source": [
    "\n",
    "year = user_input(int,\"a year\")\n",
    "\n",
    "if is_prime_year(year):\n",
    "    print(f\"{year} is a prime year.\")\n",
    "else:\n",
    "    print(f\"{year} is not a prime year.\")\n"
   ]
  },
  {
   "cell_type": "markdown",
   "metadata": {},
   "source": [
    "### Question 28:\n",
    " Create a program that sorts three numbers in ascending order using conditional statements."
   ]
  },
  {
   "cell_type": "markdown",
   "metadata": {},
   "source": [
    "### Answer 28:"
   ]
  },
  {
   "cell_type": "code",
   "execution_count": 19,
   "metadata": {},
   "outputs": [],
   "source": [
    "def sort_three_numbers(a, b, c):\n",
    "  \"\"\"Sorts three numbers in ascending order using conditional statements.\n",
    "\n",
    "  Args:\n",
    "    a: The first number.\n",
    "    b: The second number.\n",
    "    c: The third number.\n",
    "\n",
    "  Returns:\n",
    "    A tuple containing the three numbers in ascending order.\n",
    "  \"\"\"\n",
    "\n",
    "  \n",
    "  if a > b:\n",
    "    a, b = b, a\n",
    "\n",
    "  \n",
    "  if b > c:\n",
    "    b, c = c, b\n",
    "\n",
    "  \n",
    "  if a > b:\n",
    "    a, b = b, a\n",
    "\n",
    "  return a, b, c\n",
    "\n",
    "\n"
   ]
  },
  {
   "cell_type": "code",
   "execution_count": 20,
   "metadata": {},
   "outputs": [
    {
     "name": "stdout",
     "output_type": "stream",
     "text": [
      "(2.0, 5.0, 10.0)\n"
     ]
    }
   ],
   "source": [
    "num1 = user_input(float,\"number 1\")\n",
    "num2 = user_input(float,\"number 2\")\n",
    "num3 = user_input(float,\"number 3\")\n",
    "print(sort_three_numbers(num1,num2,num3))"
   ]
  },
  {
   "cell_type": "markdown",
   "metadata": {},
   "source": [
    "### Question 29:\n",
    " Build a program that determines the roots of a quartic equation using numerical methods."
   ]
  },
  {
   "cell_type": "markdown",
   "metadata": {},
   "source": [
    "### Answer 29:"
   ]
  },
  {
   "cell_type": "code",
   "execution_count": 27,
   "metadata": {},
   "outputs": [],
   "source": [
    "import cmath\n",
    "\n",
    "def bairstow_method(a, b, c, d):\n",
    "  \"\"\"Determines the roots of a quartic equation using Bairstow's method.\n",
    "\n",
    "  Args:\n",
    "    a: The coefficient of the x4 term.\n",
    "    b: The coefficient of the x3 term.\n",
    "    c: The coefficient of the x2 term.\n",
    "    d: The coefficient of the x term.\n",
    "\n",
    "  Returns:\n",
    "    A list containing the four roots of the quartic equation, or an empty list\n",
    "    if there are no real roots.\n",
    "  \"\"\"\n",
    "\n",
    "  \n",
    "  r1 = 1\n",
    "  r2 = 1\n",
    "\n",
    "  \n",
    "  while True:\n",
    "\n",
    "    new_r1 = r1 - (a * r1**4 + b * r1**3 + c * r1**2 + d * r1) / (4 * a * r1**3 + 3 * b * r1**2 + 2 * c * r1 + d)\n",
    "    new_r2 = r2 - (a * r2**4 + b * r2**3 + c * r2**2 + d * r2) / (4 * a * r2**3 + 3 * b * r2**2 + 2 * c * r2 + d)\n",
    "\n",
    "    \n",
    "    if abs(new_r1 - r1) < 1e-6 and abs(new_r2 - r2) < 1e-6:\n",
    "      break\n",
    "\n",
    "\n",
    "    r1 = new_r1\n",
    "    r2 = new_r2\n",
    "\n",
    "  \n",
    "  q = cmath.sqrt(b**2 - 4 * a * c)\n",
    "  r3 = (-b - q) / (2 * a)\n",
    "  r4 = (-b + q) / (2 * a)\n",
    "\n",
    "  \n",
    "  return [r1, r2, r3, r4]\n",
    "\n",
    "\n"
   ]
  },
  {
   "cell_type": "code",
   "execution_count": 28,
   "metadata": {},
   "outputs": [
    {
     "name": "stdout",
     "output_type": "stream",
     "text": [
      "[-1.1758810821106875e-12, -1.1758810821106875e-12, (5-3.1622776601683795j), (5+3.1622776601683795j)]\n"
     ]
    }
   ],
   "source": [
    "# Example usage:\n",
    "num1 = user_input(int,\"number 1\")\n",
    "num2 = user_input(int,\"number 2\")\n",
    "num3 = user_input(int,\"number 3\")\n",
    "num4 = user_input(int,\"number 4\")\n",
    "print(bairstow_method(num1, num2, num3, num4))  # [1.0, 2.0, -1.0, -2.0]"
   ]
  },
  {
   "cell_type": "markdown",
   "metadata": {},
   "source": [
    "### Question 30:\n",
    " Write a program that calculates the BMI (Body Mass Index) and provides health recommendations based\n",
    "on the user's input."
   ]
  },
  {
   "cell_type": "markdown",
   "metadata": {},
   "source": [
    "### Answer 30:"
   ]
  },
  {
   "cell_type": "code",
   "execution_count": 29,
   "metadata": {},
   "outputs": [],
   "source": [
    "def calculate_bmi(weight, height):\n",
    "  \"\"\"Calculates the BMI of a person.\n",
    "\n",
    "  Args:\n",
    "    weight: The person's weight in kilograms.\n",
    "    height: The person's height in meters.\n",
    "\n",
    "  Returns:\n",
    "    The person's BMI.\n",
    "  \"\"\"\n",
    "\n",
    "  bmi = weight / (height ** 2)\n",
    "  return bmi\n"
   ]
  },
  {
   "cell_type": "code",
   "execution_count": 30,
   "metadata": {},
   "outputs": [],
   "source": [
    "def get_health_recommendation(bmi):\n",
    "  \"\"\"Provides a health recommendation based on the user's BMI.\n",
    "\n",
    "  Args:\n",
    "    bmi: The user's BMI.\n",
    "\n",
    "  Returns:\n",
    "    A health recommendation.\n",
    "  \"\"\"\n",
    "\n",
    "  if bmi < 18.5:\n",
    "    recommendation = \"You are underweight. You should consider gaining weight.\"\n",
    "  elif bmi >= 18.5 and bmi < 25:\n",
    "    recommendation = \"You are at a healthy weight. Keep up the good work!\"\n",
    "  elif bmi >= 25 and bmi < 30:\n",
    "    recommendation = \"You are overweight. You should consider losing weight.\"\n",
    "  elif bmi >= 30:\n",
    "    recommendation = \"You are obese. You should talk to your doctor about a weight loss plan.\"\n",
    "\n",
    "  return recommendation"
   ]
  },
  {
   "cell_type": "code",
   "execution_count": 32,
   "metadata": {},
   "outputs": [
    {
     "name": "stdout",
     "output_type": "stream",
     "text": [
      "Your BMI is 0.008.\n",
      "You are underweight. You should consider gaining weight.\n"
     ]
    }
   ],
   "source": [
    "weight = user_input(float,\" your weight in kilograms\")\n",
    "height = user_input(float,\" your height in meters: \")\n",
    "\n",
    "bmi = calculate_bmi(weight, height)\n",
    "health_recommendation = get_health_recommendation(bmi)\n",
    "\n",
    "print(f\"Your BMI is {bmi}.\")\n",
    "print(health_recommendation)\n",
    "\n"
   ]
  },
  {
   "cell_type": "markdown",
   "metadata": {},
   "source": [
    "# Challenge Level:"
   ]
  },
  {
   "cell_type": "markdown",
   "metadata": {},
   "source": [
    "### Question 31:\n",
    "Create a program that validates a password based on complexity rules (length, characters, etc.)."
   ]
  },
  {
   "cell_type": "markdown",
   "metadata": {},
   "source": [
    "### Answer 31:"
   ]
  },
  {
   "cell_type": "code",
   "execution_count": 1,
   "metadata": {},
   "outputs": [],
   "source": [
    "import re\n",
    "\n",
    "def validate_password(password):\n",
    "  \"\"\"Validates a password based on complexity rules.\n",
    "\n",
    "  Args:\n",
    "    password: The password to validate.\n",
    "\n",
    "  Returns:\n",
    "    True if the password is valid, False otherwise.\n",
    "  \"\"\"\n",
    "\n",
    "  # Check if the password is at least 8 characters long.\n",
    "  if len(password) < 8:\n",
    "    return False\n",
    "\n",
    "  # Check if the password contains at least one uppercase letter.\n",
    "  if not re.search('[A-Z]', password):\n",
    "    return False\n",
    "\n",
    "  # Check if the password contains at least one lowercase letter.\n",
    "  if not re.search('[a-z]', password):\n",
    "    return False\n",
    "\n",
    "  # Check if the password contains at least one number.\n",
    "  if not re.search('[0-9]', password):\n",
    "    return False\n",
    "\n",
    "  # Check if the password contains at least one special character.\n",
    "  if not re.search('[^a-zA-Z0-9]', password):\n",
    "    return False\n",
    "\n",
    "  # The password is valid.\n",
    "  return True\n"
   ]
  },
  {
   "cell_type": "code",
   "execution_count": 5,
   "metadata": {},
   "outputs": [
    {
     "name": "stdout",
     "output_type": "stream",
     "text": [
      "The password is valid.\n"
     ]
    }
   ],
   "source": [
    "password = user_input(str,\"a password\")\n",
    "if validate_password(password):\n",
    "  print(\"The password is valid.\")\n",
    "else:\n",
    "  print(\"The password is not valid.\")"
   ]
  },
  {
   "cell_type": "markdown",
   "metadata": {},
   "source": [
    "### Question 32:\n",
    " Develop a program that performs matrix addition and subtraction based on user input."
   ]
  },
  {
   "cell_type": "markdown",
   "metadata": {},
   "source": [
    "### Answer 32:\n"
   ]
  },
  {
   "cell_type": "code",
   "execution_count": 6,
   "metadata": {},
   "outputs": [],
   "source": [
    "def get_matrix_dimensions():\n",
    "  \"\"\"Prompts the user to enter the dimensions of the matrix.\"\"\"\n",
    "\n",
    "  rows = int(input(\"Enter the number of rows in the matrix: \"))\n",
    "  columns = int(input(\"Enter the number of columns in the matrix: \"))\n",
    "\n",
    "  return rows, columns\n"
   ]
  },
  {
   "cell_type": "code",
   "execution_count": 8,
   "metadata": {},
   "outputs": [],
   "source": [
    "def get_matrix_elements(rows, columns):\n",
    "  \"\"\"Prompts the user to enter the elements of the matrix.\"\"\"\n",
    "\n",
    "  matrix = []\n",
    "  for i in range(rows):\n",
    "    row = []\n",
    "    for j in range(columns):\n",
    "      element = float(input(f\"Enter element ({i}, {j}): \"))\n",
    "      row.append(element)\n",
    "    matrix.append(row)\n",
    "\n",
    "  return matrix\n"
   ]
  },
  {
   "cell_type": "code",
   "execution_count": 9,
   "metadata": {},
   "outputs": [],
   "source": [
    "def print_matrix(matrix):\n",
    "  \"\"\"Prints the matrix to the console.\"\"\"\n",
    "\n",
    "  for row in matrix:\n",
    "    print(\" \".join([str(element) for element in row]))"
   ]
  },
  {
   "cell_type": "code",
   "execution_count": 9,
   "metadata": {},
   "outputs": [],
   "source": [
    "def add_matrices(matrix_1, matrix_2):\n",
    "  \"\"\"Adds two matrices together.\n",
    "\n",
    "  Args:\n",
    "    matrix_1: A list of lists representing the first matrix.\n",
    "    matrix_2: A list of lists representing the second matrix.\n",
    "\n",
    "  Returns:\n",
    "    A list of lists representing the sum of the two matrices.\n",
    "  \"\"\"\n",
    "\n",
    "  if len(matrix_1) != len(matrix_2) or len(matrix_1[0]) != len(matrix_2[0]):\n",
    "    raise ValueError(\"The matrices must have the same dimensions.\")\n",
    "\n",
    "  sum_matrix = []\n",
    "  for i in range(len(matrix_1)):\n",
    "    row = []\n",
    "    for j in range(len(matrix_1[0])):\n",
    "      sum_element = matrix_1[i][j] + matrix_2[i][j]\n",
    "      row.append(sum_element)\n",
    "    sum_matrix.append(row)\n",
    "\n",
    "  return sum_matrix"
   ]
  },
  {
   "cell_type": "code",
   "execution_count": 10,
   "metadata": {},
   "outputs": [],
   "source": [
    "def subtract_matrices(matrix_1, matrix_2):\n",
    "  \"\"\"Subtracts two matrices from each other.\n",
    "\n",
    "  Args:\n",
    "    matrix_1: A list of lists representing the first matrix.\n",
    "    matrix_2: A list of lists representing the second matrix.\n",
    "\n",
    "  Returns:\n",
    "    A list of lists representing the difference of the two matrices.\n",
    "  \"\"\"\n",
    "\n",
    "  if len(matrix_1) != len(matrix_2) or len(matrix_1[0]) != len(matrix_2[0]):\n",
    "    raise ValueError(\"The matrices must have the same dimensions.\")\n",
    "\n",
    "  difference_matrix = []\n",
    "  for i in range(len(matrix_1)):\n",
    "    row = []\n",
    "    for j in range(len(matrix_1[0])):\n",
    "      difference_element = matrix_1[i][j] - matrix_2[i][j]\n",
    "      row.append(difference_element)\n",
    "    difference_matrix.append(row)\n",
    "\n",
    "  return difference_matrix"
   ]
  },
  {
   "cell_type": "code",
   "execution_count": 13,
   "metadata": {},
   "outputs": [
    {
     "name": "stdout",
     "output_type": "stream",
     "text": [
      "The matrix 1 is :\n",
      "1.0 2.0\n",
      "3.0 4.0\n",
      "5.0 6.0\n",
      "The matrix 2 is :\n",
      "7.0 8.0\n",
      "9.0 10.0\n",
      "11.0 12.0\n",
      "The result of the operation is:\n",
      "8.0 10.0\n",
      "12.0 14.0\n",
      "16.0 18.0\n"
     ]
    }
   ],
   "source": [
    "\n",
    "def main():\n",
    "  \"\"\"Performs matrix addition and subtraction based on user input.\"\"\"\n",
    "\n",
    "  rows, columns = get_matrix_dimensions()\n",
    "\n",
    "  matrix_1 = get_matrix_elements(rows, columns)\n",
    "\n",
    "  print(\"The matrix 1 is :\")\n",
    "  \n",
    "  print_matrix(matrix_1)\n",
    "\n",
    "  matrix_2 = get_matrix_elements(rows, columns)\n",
    "\n",
    "  print(\"The matrix 2 is :\")\n",
    "\n",
    "  print_matrix(matrix_2)\n",
    "\n",
    "  operation = input(\"Enter the operation you want to perform (add or subtract): \")\n",
    "\n",
    " \n",
    "  if operation == \"add\" or \"+\":\n",
    "    result_matrix = add_matrices(matrix_1, matrix_2)\n",
    "  elif operation == \"subtract\" or \"-\":\n",
    "    result_matrix = subtract_matrices(matrix_1, matrix_2)\n",
    "  else:\n",
    "    raise ValueError(\"Invalid operation.\")\n",
    "\n",
    "  print(\"The result of the operation is:\")\n",
    "  print_matrix(result_matrix)\n",
    "\n",
    "if __name__ == \"__main__\":\n",
    "  main()\n"
   ]
  },
  {
   "cell_type": "markdown",
   "metadata": {},
   "source": [
    "### Question 33:\n",
    "Write a program that calculates the greatest common divisor (GCD) of two numbers using the Euclidean algorithm."
   ]
  },
  {
   "cell_type": "markdown",
   "metadata": {},
   "source": [
    "### Answer 33:"
   ]
  },
  {
   "cell_type": "code",
   "execution_count": 2,
   "metadata": {},
   "outputs": [],
   "source": [
    "def gcd(a, b):\n",
    "  \"\"\"Calculates the greatest common divisor of two numbers using the Euclidean algorithm.\n",
    "\n",
    "  Args:\n",
    "    a: The first number.\n",
    "    b: The second number.\n",
    "\n",
    "  Returns:\n",
    "    The greatest common divisor of a and b.\n",
    "  \"\"\"\n",
    "\n",
    "  if a == 0:\n",
    "    return b\n",
    "  elif b == 0:\n",
    "    return a\n",
    "  else:\n",
    "    return gcd(b % a, a)\n",
    "\n",
    "\n",
    "\n"
   ]
  },
  {
   "cell_type": "code",
   "execution_count": 4,
   "metadata": {},
   "outputs": [
    {
     "name": "stdout",
     "output_type": "stream",
     "text": [
      "GCD of 24 and 5 is 1\n"
     ]
    }
   ],
   "source": [
    "# Driver code\n",
    "a = user_input(int,\"a number1\")\n",
    "b = user_input(int,\"a number2\")\n",
    "print(\"GCD of\", a, \"and\", b, \"is\", gcd(a, b))"
   ]
  },
  {
   "cell_type": "markdown",
   "metadata": {},
   "source": [
    "### Question 34:\n",
    " Build a program that performs matrix multiplication using nested loops and conditional statements."
   ]
  },
  {
   "cell_type": "markdown",
   "metadata": {},
   "source": [
    "### Answer 34:\n"
   ]
  },
  {
   "cell_type": "code",
   "execution_count": 5,
   "metadata": {},
   "outputs": [],
   "source": [
    "def matrix_multiplication(matrix_a, matrix_b):\n",
    "  \"\"\"Performs matrix multiplication using nested loops and conditional statements.\n",
    "\n",
    "  Args:\n",
    "    matrix_a: A 2D list representing the first matrix.\n",
    "    matrix_b: A 2D list representing the second matrix.\n",
    "\n",
    "  Returns:\n",
    "    A 2D list representing the product of matrix_a and matrix_b.\n",
    "  \"\"\"\n",
    "\n",
    " \n",
    "  if len(matrix_a) != len(matrix_b) or len(matrix_a[0]) != len(matrix_b[0]):\n",
    "    raise ValueError(\"The two matrices must have the same dimensions.\")\n",
    "\n",
    "  \n",
    "  product_matrix = [[0 for i in range(len(matrix_b[0]))] for j in range(len(matrix_a))]\n",
    "\n",
    "  \n",
    "  for i in range(len(matrix_a)):\n",
    "    \n",
    "    for j in range(len(matrix_b[0])):\n",
    "      \n",
    "      for k in range(len(matrix_a[0])):\n",
    "        product_matrix[i][j] += matrix_a[i][k] * matrix_b[k][j]\n",
    "\n",
    "  return product_matrix"
   ]
  },
  {
   "cell_type": "code",
   "execution_count": 11,
   "metadata": {},
   "outputs": [
    {
     "name": "stdout",
     "output_type": "stream",
     "text": [
      "matrix a is : \n",
      "\n",
      "1.0 2.0 34.0 45.0 52.0\n",
      "52.0 25.0 12.0 23.0 52.0\n",
      "25.0 46.0 12.0 13.0 11.0\n",
      "10.0 15.0 1.0 5.0 2.0\n",
      "6.0 1.0 46.0 85.0 47.0\n",
      "matrix b is : \n",
      "\n",
      "46.0 98.0 55.0 25.0 26.0\n",
      "24.0 21.0 22.0 23.0 32.0\n",
      "34.0 15.0 16.0 12.0 21.0\n",
      "22.0 32.0 221.0 114.0 125.0\n",
      "12.0 25.0 56.0 12.0 23.0\n"
     ]
    },
    {
     "data": {
      "text/plain": [
       "[[1717.0, 2343.0, 2903.0, 5178.0, 3064.0],\n",
       " [2194.0, 1678.0, 4627.0, 7606.0, 6626.0],\n",
       " [2913.0, 1958.0, 2065.0, 3339.0, 4367.0],\n",
       " [877.0, 518.0, 629.0, 1003.0, 1415.0],\n",
       " [2340.0, 3475.0, 3015.0, 5311.0, 3249.0]]"
      ]
     },
     "execution_count": 11,
     "metadata": {},
     "output_type": "execute_result"
    }
   ],
   "source": [
    "rows1,columns1 = get_matrix_dimensions()\n",
    "rows2,columns2 = get_matrix_dimensions()\n",
    "\n",
    "matrix_a = get_matrix_elements(rows1,columns1)\n",
    "matrix_b  = get_matrix_elements(rows2,columns2)\n",
    "\n",
    "print(\"matrix a is :\",\"\\n\")\n",
    "\n",
    "print_matrix(matrix_a)\n",
    "\n",
    "\n",
    "print(\"matrix b is :\",\"\\n\")\n",
    "print_matrix(matrix_b)\n",
    "\n",
    "\n",
    "print(\"matrix multiplication is:\",\"\\n\")\n",
    "matrix_multiplication(matrix_a,matrix_a)"
   ]
  },
  {
   "cell_type": "markdown",
   "metadata": {},
   "source": [
    "### Question 35:\n",
    " Create a program that simulates a basic text-based tic-tac-toe game against the computer."
   ]
  },
  {
   "cell_type": "markdown",
   "metadata": {},
   "source": [
    "### Answer 35:"
   ]
  },
  {
   "cell_type": "code",
   "execution_count": 11,
   "metadata": {},
   "outputs": [],
   "source": [
    "import random\n",
    "\n",
    "def print_board(board):\n",
    "    for row in board:\n",
    "        print(' | '.join(row))\n",
    "        print('-' * 9)"
   ]
  },
  {
   "cell_type": "code",
   "execution_count": 13,
   "metadata": {},
   "outputs": [],
   "source": [
    "def is_winner(board, player):\n",
    "    for row in board:\n",
    "        if all(cell == player for cell in row):\n",
    "            return True\n",
    "\n",
    "    for col in range(3):\n",
    "        if all(row[col] == player for row in board):\n",
    "            return True\n",
    "\n",
    "    if all(board[i][i] == player for i in range(3)) or all(board[i][2 - i] == player for i in range(3)):\n",
    "        return True\n",
    "\n",
    "    return False"
   ]
  },
  {
   "cell_type": "code",
   "execution_count": 14,
   "metadata": {},
   "outputs": [],
   "source": [
    "def is_board_full(board):\n",
    "    return all(all(cell != '-' for cell in row) for row in board)\n",
    "\n",
    "\n"
   ]
  },
  {
   "cell_type": "code",
   "execution_count": 15,
   "metadata": {},
   "outputs": [],
   "source": [
    "def get_empty_cells(board):\n",
    "    return [(i, j) for i in range(3) for j in range(3) if board[i][j] == '-']"
   ]
  },
  {
   "cell_type": "code",
   "execution_count": 16,
   "metadata": {},
   "outputs": [
    {
     "name": "stdout",
     "output_type": "stream",
     "text": [
      "- | - | -\n",
      "---------\n",
      "- | - | -\n",
      "---------\n",
      "- | - | -\n",
      "---------\n",
      "Your turn:\n",
      "X | - | -\n",
      "---------\n",
      "- | - | -\n",
      "---------\n",
      "- | - | -\n",
      "---------\n",
      "Computer's turn:\n",
      "Computer chose row 0, column 2\n",
      "X | - | O\n",
      "---------\n",
      "- | - | -\n",
      "---------\n",
      "- | - | -\n",
      "---------\n",
      "Your turn:\n",
      "X | - | O\n",
      "---------\n",
      "- | X | -\n",
      "---------\n",
      "- | - | -\n",
      "---------\n",
      "Computer's turn:\n",
      "Computer chose row 2, column 0\n",
      "X | - | O\n",
      "---------\n",
      "- | X | -\n",
      "---------\n",
      "O | - | -\n",
      "---------\n",
      "Your turn:\n",
      "X | - | O\n",
      "---------\n",
      "- | X | X\n",
      "---------\n",
      "O | - | -\n",
      "---------\n",
      "Computer's turn:\n",
      "Computer chose row 2, column 1\n",
      "X | - | O\n",
      "---------\n",
      "- | X | X\n",
      "---------\n",
      "O | O | -\n",
      "---------\n",
      "Your turn:\n",
      "X | - | O\n",
      "---------\n",
      "- | X | X\n",
      "---------\n",
      "O | O | X\n",
      "---------\n",
      "X wins!\n"
     ]
    }
   ],
   "source": [
    "def play_game():\n",
    "    board = [['-' for _ in range(3)] for _ in range(3)]\n",
    "    current_player = 'X'\n",
    "    computer = 'O'\n",
    "\n",
    "    while True:\n",
    "        print_board(board)\n",
    "\n",
    "        if is_board_full(board):\n",
    "            print(\"It's a tie!\")\n",
    "            break\n",
    "\n",
    "        if current_player == computer:\n",
    "            print(\"Computer's turn:\")\n",
    "            empty_cells = get_empty_cells(board)\n",
    "            row, col = random.choice(empty_cells)\n",
    "            print(f\"Computer chose row {row}, column {col}\")\n",
    "        else:\n",
    "            print(\"Your turn:\")\n",
    "            while True:\n",
    "                row = int(input(\"Enter row (0, 1, or 2): \"))\n",
    "                col = int(input(\"Enter column (0, 1, or 2): \"))\n",
    "                if (0 <= row < 3) and (0 <= col < 3) and (board[row][col] == '-'):\n",
    "                    break\n",
    "                else:\n",
    "                    print(\"Invalid move. Try again.\")\n",
    "\n",
    "        board[row][col] = current_player\n",
    "\n",
    "        if is_winner(board, current_player):\n",
    "            print_board(board)\n",
    "            print(f\"{current_player} wins!\")\n",
    "            break\n",
    "\n",
    "        current_player = 'O' if current_player == 'X' else 'X'\n",
    "\n",
    "if __name__ == \"__main__\":\n",
    "    play_game()\n"
   ]
  },
  {
   "cell_type": "markdown",
   "metadata": {},
   "source": [
    "### Question 36:\n",
    " Write a program that generates Fibonacci numbers up to a specified term using iterative methods."
   ]
  },
  {
   "cell_type": "markdown",
   "metadata": {},
   "source": [
    "### Answer 36:"
   ]
  },
  {
   "cell_type": "code",
   "execution_count": 17,
   "metadata": {},
   "outputs": [],
   "source": [
    "def fibonacci(n):\n",
    "    \"\"\"Generates the Fibonacci sequence up to the specified term using iterative methods.\n",
    "\n",
    "    Args:\n",
    "        n (int): The term to generate up to.\n",
    "    \n",
    "    Returns:\n",
    "        list: The Fibonacci sequence up to the specified term.\n",
    "    \"\"\"\n",
    "    if n <= 0:\n",
    "        return []\n",
    "    \n",
    "    fibonacci_sequence = [0, 1]\n",
    "\n",
    "    for i in range(2, n):\n",
    "        next_fibonacci = fibonacci_sequence[i - 1] + fibonacci_sequence[i - 2]\n",
    "        fibonacci_sequence.append(next_fibonacci)\n",
    "    \n",
    "    return fibonacci_sequence\n"
   ]
  },
  {
   "cell_type": "code",
   "execution_count": 20,
   "metadata": {},
   "outputs": [
    {
     "name": "stdout",
     "output_type": "stream",
     "text": [
      "Fibonacci sequence up to 5 terms:\n",
      "[0, 1, 1, 2, 3]\n"
     ]
    }
   ],
   "source": [
    "term = user_input(int,\" the number of terms for the Fibonacci sequence \")\n",
    "\n",
    "fibonacci_sequence = fibonacci(term)\n",
    "\n",
    "print(\"Fibonacci sequence up to\", term, \"terms:\")\n",
    "print(fibonacci_sequence)"
   ]
  },
  {
   "cell_type": "markdown",
   "metadata": {},
   "source": [
    "### Question 37:\n",
    " Develop a program that calculates the nth term of the Fibonacci sequence using memoization."
   ]
  },
  {
   "cell_type": "markdown",
   "metadata": {},
   "source": [
    "### Answer 37:"
   ]
  },
  {
   "cell_type": "code",
   "execution_count": 21,
   "metadata": {},
   "outputs": [],
   "source": [
    "def fibonacci_memoization(n, memo={}):\n",
    "    \"\"\"Calculates the nth term of the Fibonacci sequence using memoization.\n",
    "\n",
    "    Args:\n",
    "        n (int): The term to calculate.\n",
    "        memo (dict): Dictionary to store already computed values (used for memoization).\n",
    "\n",
    "    Returns:\n",
    "        int: The nth Fibonacci number.\n",
    "    \"\"\"\n",
    "    if n <= 1:\n",
    "        return n\n",
    "\n",
    "    if n not in memo:\n",
    "        memo[n] = fibonacci_memoization(n - 1, memo) + fibonacci_memoization(n - 2, memo)\n",
    "\n",
    "    return memo[n]\n",
    "\n",
    "\n"
   ]
  },
  {
   "cell_type": "code",
   "execution_count": 22,
   "metadata": {},
   "outputs": [
    {
     "name": "stdout",
     "output_type": "stream",
     "text": [
      "The 10th Fibonacci number is: 55\n"
     ]
    }
   ],
   "source": [
    "# Example usage\n",
    "n = user_input(int,\"the number of terms for the Fibonacci sequence \")\n",
    "result = fibonacci_memoization(n)\n",
    "print(f\"The {n}th Fibonacci number is: {result}\")"
   ]
  },
  {
   "cell_type": "markdown",
   "metadata": {},
   "source": [
    "### Question 38:\n",
    " Create a program that generates a calendar for a given month and year using conditional statements."
   ]
  },
  {
   "cell_type": "markdown",
   "metadata": {},
   "source": [
    "### Answer 38:"
   ]
  },
  {
   "cell_type": "code",
   "execution_count": 30,
   "metadata": {},
   "outputs": [],
   "source": [
    "import datetime\n",
    "import calendar\n",
    "\n",
    "def generate_calendar(month, year):\n",
    "    \"\"\"Generates a simple calendar for a given month and year.\n",
    "\n",
    "    Args:\n",
    "        month (int): The month to generate the calendar for (1 to 12).\n",
    "        year (int): The year to generate the calendar for.\n",
    "\n",
    "    Returns:\n",
    "        str: The formatted calendar for the specified month and year.\n",
    "    \"\"\"\n",
    "    # Get the first day of the week and the number of days in the month\n",
    "    first_day = datetime.datetime(year, month, 1).weekday()\n",
    "    num_days = calendar.monthrange(year, month)[1]\n",
    "\n",
    "    # Create a list to store the calendar\n",
    "    calendar_output = []\n",
    "    day_counter = 1\n",
    "\n",
    "    # Add spaces for the first day of the week\n",
    "    calendar_output.append(' ' * 3 * first_day)\n",
    "\n",
    "    # Generate the calendar\n",
    "    for day in range(1, num_days + 1):\n",
    "        calendar_output.append(f'{day:2d}')\n",
    "        calendar_output.append(' ')\n",
    "\n",
    "        # If the day is at the end of the week, start a new line\n",
    "        if (day + first_day) % 7 == 0:\n",
    "            calendar_output.append('\\n')\n",
    "\n",
    "    return ''.join(calendar_output)\n"
   ]
  },
  {
   "cell_type": "code",
   "execution_count": 50,
   "metadata": {},
   "outputs": [
    {
     "name": "stdout",
     "output_type": "stream",
     "text": [
      " month October and year 2023\n",
      "                   1 \n",
      " 2  3  4  5  6  7  8 \n",
      " 9 10 11 12 13 14 15 \n",
      "16 17 18 19 20 21 22 \n",
      "23 24 25 26 27 28 29 \n",
      "30 31 \n"
     ]
    }
   ],
   "source": [
    "def main():\n",
    "\n",
    "  month, year = int(input('Month: ')), int(input('Year: '))\n",
    "\n",
    "  dict_of_month = {\n",
    "    1: \"January\",\n",
    "    2: \"February\",\n",
    "    3: \"March\",\n",
    "    4: \"April\",\n",
    "    5: \"May\",\n",
    "    6: \"June\",\n",
    "    7: \"July\",\n",
    "    8: \"August\",\n",
    "    9: \"September\",\n",
    "    10: \"October\",\n",
    "    11: \"November\",\n",
    "    12: \"December\"\n",
    "}\n",
    "  print(f\" month {dict_of_month.get(month)} and year {year}\")\n",
    "\n",
    "\n",
    "\n",
    "  calendar = generate_calendar(month, year)\n",
    "  print(calendar)\n",
    "\n",
    "\n",
    "if __name__ == '__main__':\n",
    "  main()\n"
   ]
  },
  {
   "cell_type": "markdown",
   "metadata": {},
   "source": [
    "### Question 39:\n",
    " Build a program that simulates a basic text-based blackjack game against the computer."
   ]
  },
  {
   "cell_type": "markdown",
   "metadata": {},
   "source": [
    "### Answer 39:"
   ]
  },
  {
   "cell_type": "code",
   "execution_count": 59,
   "metadata": {},
   "outputs": [
    {
     "name": "stdout",
     "output_type": "stream",
     "text": [
      "Your hand: [('Seven', 'Clubs'), ('Two', 'Spades')]\n",
      "Computer's hand: [('King', 'Diamonds'), ('Unknown Card', 'Unknown Suit')]\n",
      "Your hand: [('Seven', 'Clubs'), ('Two', 'Spades'), ('Queen', 'Hearts')]\n",
      "Computer's hand: [('King', 'Diamonds'), ('Unknown Card', 'Unknown Suit')]\n",
      "Your hand: [('Seven', 'Clubs'), ('Two', 'Spades'), ('Queen', 'Hearts'), ('Eight', 'Diamonds')]\n",
      "Computer's hand: [('King', 'Diamonds'), ('Four', 'Clubs'), ('Ten', 'Clubs')]\n",
      "Computer wins!\n"
     ]
    }
   ],
   "source": [
    "import random\n",
    "\n",
    "# Cards deck\n",
    "suits = ['Hearts', 'Diamonds', 'Clubs', 'Spades']\n",
    "ranks = ['Two', 'Three', 'Four', 'Five', 'Six', 'Seven', 'Eight', 'Nine', 'Ten', 'Jack', 'Queen', 'King', 'Ace']\n",
    "deck = [(rank, suit) for suit in suits for rank in ranks]\n",
    "\n",
    "# Card values\n",
    "card_values = {'Two': 2, 'Three': 3, 'Four': 4, 'Five': 5, 'Six': 6, 'Seven': 7, 'Eight': 8, 'Nine': 9, 'Ten': 10,\n",
    "               'Jack': 10, 'Queen': 10, 'King': 10, 'Ace': 11}\n",
    "\n",
    "def calculate_hand_value(hand):\n",
    "    \"\"\"Calculate the value of a hand.\"\"\"\n",
    "    total_value = sum(card_values[card[0]] for card in hand)\n",
    "    num_aces = sum(1 for card in hand if card[0] == 'Ace')\n",
    "\n",
    "    # Adjust Ace value if necessary\n",
    "    while total_value > 21 and num_aces:\n",
    "        total_value -= 10\n",
    "        num_aces -= 1\n",
    "\n",
    "    return total_value\n",
    "\n",
    "def blackjack_game():\n",
    "    \"\"\"Simulate a basic text-based blackjack game against the computer.\"\"\"\n",
    "    player_hand = []\n",
    "    computer_hand = []\n",
    "\n",
    "    # Deal initial cards\n",
    "    for _ in range(2):\n",
    "        player_hand.append(deck.pop(random.randint(0, len(deck) - 1)))\n",
    "        computer_hand.append(deck.pop(random.randint(0, len(deck) - 1)))\n",
    "\n",
    "    while calculate_hand_value(player_hand) < 21:\n",
    "        print(\"Your hand:\", player_hand)\n",
    "        print(\"Computer's hand:\", [computer_hand[0], ('Unknown Card', 'Unknown Suit')])\n",
    "        action = input(\"Do you want to hit or stand? (h/s): \").lower()\n",
    "\n",
    "        if action == 'h':\n",
    "            player_hand.append(deck.pop(random.randint(0, len(deck) - 1)))\n",
    "        elif action == 's':\n",
    "            break\n",
    "        else:\n",
    "            print(\"Invalid input. Please enter 'h' to hit or 's' to stand.\")\n",
    "\n",
    "    # Computer's turn\n",
    "    while calculate_hand_value(computer_hand) < 17:\n",
    "        computer_hand.append(deck.pop(random.randint(0, len(deck) - 1)))\n",
    "\n",
    "    # Display final hands\n",
    "    print(\"Your hand:\", player_hand)\n",
    "    print(\"Computer's hand:\", computer_hand)\n",
    "\n",
    "    # Determine the winner\n",
    "    player_value = calculate_hand_value(player_hand)\n",
    "    computer_value = calculate_hand_value(computer_hand)\n",
    "\n",
    "    if player_value > 21 or (computer_value <= 21 and computer_value >= player_value):\n",
    "        print(\"Computer wins!\")\n",
    "    else:\n",
    "        print(\"You win!\")\n",
    "\n",
    "if __name__ == \"__main__\":\n",
    "    blackjack_game()\n"
   ]
  },
  {
   "cell_type": "markdown",
   "metadata": {},
   "source": [
    "### Question 40:\n",
    " Write a program that generates the prime factors of a given number using trial division."
   ]
  },
  {
   "cell_type": "markdown",
   "metadata": {},
   "source": [
    "### Answer 40:"
   ]
  },
  {
   "cell_type": "code",
   "execution_count": 60,
   "metadata": {},
   "outputs": [],
   "source": [
    "def prime_factors(n):\n",
    "    \"\"\"Generates the prime factors of a given number using trial division.\n",
    "\n",
    "    Args:\n",
    "        n (int): The number to find prime factors for.\n",
    "\n",
    "    Returns:\n",
    "        list: A list of prime factors of the given number.\n",
    "    \"\"\"\n",
    "    factors = []\n",
    "    divisor = 2\n",
    "\n",
    "    while n > 1:\n",
    "        if n % divisor == 0:\n",
    "            factors.append(divisor)\n",
    "            n //= divisor\n",
    "        else:\n",
    "            divisor += 1\n",
    "\n",
    "    return factors\n",
    "\n",
    "\n"
   ]
  },
  {
   "cell_type": "code",
   "execution_count": 61,
   "metadata": {},
   "outputs": [
    {
     "data": {
      "text/plain": [
       "[2, 5]"
      ]
     },
     "execution_count": 61,
     "metadata": {},
     "output_type": "execute_result"
    }
   ],
   "source": [
    "n = user_input(int,\"a number:\")\n",
    "prime_factors(n)"
   ]
  }
 ],
 "metadata": {
  "kernelspec": {
   "display_name": "Python 3",
   "language": "python",
   "name": "python3"
  },
  "language_info": {
   "codemirror_mode": {
    "name": "ipython",
    "version": 3
   },
   "file_extension": ".py",
   "mimetype": "text/x-python",
   "name": "python",
   "nbconvert_exporter": "python",
   "pygments_lexer": "ipython3",
   "version": "3.11.0"
  },
  "orig_nbformat": 4
 },
 "nbformat": 4,
 "nbformat_minor": 2
}
