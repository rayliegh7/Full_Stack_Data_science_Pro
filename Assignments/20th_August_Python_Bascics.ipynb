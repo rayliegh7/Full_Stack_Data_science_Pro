{
 "cells": [
  {
   "cell_type": "markdown",
   "id": "e931a452-886b-4617-ae89-986835a8d89c",
   "metadata": {},
   "source": [
    "<img src=\"skills_logo-removebg-preview.png\" height=\"70\">"
   ]
  },
  {
   "cell_type": "markdown",
   "id": "127964e4-6296-43f6-b554-9c9f3560c061",
   "metadata": {},
   "source": [
    "# TOPIC: String Based Assignment Problem"
   ]
  },
  {
   "cell_type": "markdown",
   "id": "c8701df2-16c9-44f4-bf13-ffb57856f5d3",
   "metadata": {},
   "source": [
    "### Question 1 :\n",
    "Write a program to reverse a string."
   ]
  },
  {
   "cell_type": "markdown",
   "id": "dcc9a000-02c0-4090-90f1-fb4f1c4880c0",
   "metadata": {},
   "source": [
    "### Answer 1:"
   ]
  },
  {
   "cell_type": "code",
   "execution_count": 2,
   "id": "4f6fe83a-ffa8-4db8-905f-1f657590c85d",
   "metadata": {},
   "outputs": [
    {
     "name": "stdout",
     "output_type": "stream",
     "text": [
      "Your reverse string is : orp ecneics atad kcats lluF\n"
     ]
    }
   ],
   "source": [
    "# using slicing\n",
    "string = input(\"Enter your name:\")\n",
    "print(\"Your reverse string is :\",string[::-1])"
   ]
  },
  {
   "cell_type": "code",
   "execution_count": 3,
   "id": "e7cbe464-062d-42fa-8cac-508955c9a8a8",
   "metadata": {},
   "outputs": [
    {
     "name": "stdout",
     "output_type": "stream",
     "text": [
      "orp ecneics atad kcats lluF"
     ]
    }
   ],
   "source": [
    "# using for loop\n",
    "for i in range (len(string)-1,-1,-1):\n",
    "    print(string[i],end=\"\")"
   ]
  },
  {
   "cell_type": "code",
   "execution_count": 4,
   "id": "f3b5e849-8d9f-4e32-b369-888373d98ecd",
   "metadata": {},
   "outputs": [
    {
     "name": "stdout",
     "output_type": "stream",
     "text": [
      "orp ecneics atad kcats lluF\n"
     ]
    }
   ],
   "source": [
    "# using while loop\n",
    "reverse_string=\"\"\n",
    "length_of_string=len(string)-1\n",
    "while length_of_string>=0:\n",
    "    reverse_string +=string[length_of_string]\n",
    "    length_of_string-=1\n",
    "print(reverse_string)"
   ]
  },
  {
   "cell_type": "markdown",
   "id": "40ff7e57-a97e-4e10-b525-6d4d6677576a",
   "metadata": {
    "tags": []
   },
   "source": [
    "### Question 2:\n",
    "Check if a string is a palindrome."
   ]
  },
  {
   "cell_type": "markdown",
   "id": "a9ee3c2a-6022-43a5-b4bc-289ebc4299c4",
   "metadata": {
    "tags": []
   },
   "source": [
    "### Answer 2:"
   ]
  },
  {
   "cell_type": "code",
   "execution_count": 5,
   "id": "701c7afc-9416-4a5c-b4fe-a1a3523b7190",
   "metadata": {},
   "outputs": [
    {
     "name": "stdout",
     "output_type": "stream",
     "text": [
      "is palindrome string\n"
     ]
    }
   ],
   "source": [
    "# using conditions statment\n",
    "string2 = input(\"Enter a string:\")\n",
    "if string2.lower() == string2[::-1].lower(): # here we have use lower method beacuse python is case sensitive language\n",
    "    print(\"is palindrome string\")\n",
    "else:\n",
    "    print(\"is not palindrome string\")"
   ]
  },
  {
   "cell_type": "markdown",
   "id": "e7de3d19-41e2-4687-8918-530dcef91875",
   "metadata": {},
   "source": [
    "### Question 3:\n",
    "Convert a string to uppercase"
   ]
  },
  {
   "cell_type": "markdown",
   "id": "f8f61c70-e735-47e7-8cc9-481a36a29837",
   "metadata": {},
   "source": [
    "### Answer 3 :"
   ]
  },
  {
   "cell_type": "code",
   "execution_count": 6,
   "id": "8bc41f40-88d0-4331-bc99-bcea3a6fc0de",
   "metadata": {},
   "outputs": [
    {
     "name": "stdout",
     "output_type": "stream",
     "text": [
      " The upper case string should be look like this: HELLO\n"
     ]
    }
   ],
   "source": [
    "string3 = input(\"Enter a string:\")\n",
    "print(\" The upper case string should be look like this:\",string3.upper())"
   ]
  },
  {
   "cell_type": "markdown",
   "id": "c1d7839b-71f2-42eb-bc0a-7db5f437a0cd",
   "metadata": {},
   "source": [
    "### Question 4:\n",
    "Convert a string to lowercase"
   ]
  },
  {
   "cell_type": "markdown",
   "id": "cba10a12-1a7d-4d84-baa2-f60d416b3a91",
   "metadata": {
    "tags": []
   },
   "source": [
    "### Answer 4:"
   ]
  },
  {
   "cell_type": "code",
   "execution_count": 7,
   "id": "f115bcac-e338-4129-8b8a-4127ad5fe7b1",
   "metadata": {},
   "outputs": [
    {
     "name": "stdout",
     "output_type": "stream",
     "text": [
      " The upper case string should be look like this: hello techies\n"
     ]
    }
   ],
   "source": [
    "string4 = input(\"Enter a string:\")\n",
    "print(\" The upper case string should be look like this:\",string4.lower())"
   ]
  },
  {
   "cell_type": "markdown",
   "id": "721f6d80-433a-409b-ba9b-7fa64a44354f",
   "metadata": {
    "tags": []
   },
   "source": [
    "### Question 5:\n",
    "Count the number of vowels in a string"
   ]
  },
  {
   "cell_type": "markdown",
   "id": "68be6cec-ee9a-409f-861c-a509d6986dec",
   "metadata": {
    "tags": []
   },
   "source": [
    "### Answer 5:"
   ]
  },
  {
   "cell_type": "code",
   "execution_count": 8,
   "id": "7dc9424c-b7b9-4452-9713-2c6aa7715d1a",
   "metadata": {},
   "outputs": [
    {
     "name": "stdout",
     "output_type": "stream",
     "text": [
      "there are total 6 vowels are present in given 'error are goods' string \n"
     ]
    }
   ],
   "source": [
    "string4 = input(\"Enter a string:\")\n",
    "count=0\n",
    "for st in string4:\n",
    "    if st in \"aAeEiIoOuU\":\n",
    "        count=count+1\n",
    "print(f\"there are total {count} vowels are present in given '{string4}' string \")"
   ]
  },
  {
   "cell_type": "markdown",
   "id": "d4da1306-d596-4ee0-ac2a-0fffcfe16f93",
   "metadata": {
    "tags": []
   },
   "source": [
    "### Question 6:\n",
    "Count the number of consonants in a string"
   ]
  },
  {
   "cell_type": "markdown",
   "id": "ababbaf5-a82d-4151-85c3-44d96e2b32bc",
   "metadata": {},
   "source": [
    "### Answer 6"
   ]
  },
  {
   "cell_type": "code",
   "execution_count": 9,
   "id": "5b4f8b23-2f8d-426c-9933-0a691dc18ead",
   "metadata": {},
   "outputs": [
    {
     "name": "stdout",
     "output_type": "stream",
     "text": [
      "there are total 9 consonants are present in given 'python is awsome' string \n"
     ]
    }
   ],
   "source": [
    "string5 = input(\"Enter a string:\")\n",
    "count=0\n",
    "for st in string4:\n",
    "    if st not in \"aAeEiIoOuU\":\n",
    "        count=count+1\n",
    "print(f\"there are total {count} consonants are present in given '{string5}' string \")"
   ]
  },
  {
   "cell_type": "markdown",
   "id": "a1e6757c-b9e0-4d32-b0cb-0659472f9699",
   "metadata": {},
   "source": [
    "### Question 7 :\n",
    "Remove all whitespaces from a string"
   ]
  },
  {
   "cell_type": "markdown",
   "id": "4154d445-fc87-4a06-b559-bac0f30a5ce2",
   "metadata": {},
   "source": [
    "### Answer 7:"
   ]
  },
  {
   "cell_type": "code",
   "execution_count": 1,
   "id": "8f779898-2a17-44e7-af5a-afc1d39f4bb6",
   "metadata": {},
   "outputs": [
    {
     "name": "stdout",
     "output_type": "stream",
     "text": [
      "TheTRUTHhurtsonlyoncebutaLIEhurtseverytimeyourememberit"
     ]
    }
   ],
   "source": [
    "string5 = input(\"Enter a string:\")\n",
    "for i in string5.split():\n",
    "    print(i,end=\"\")"
   ]
  },
  {
   "cell_type": "code",
   "execution_count": 2,
   "id": "568cc823",
   "metadata": {},
   "outputs": [
    {
     "data": {
      "text/plain": [
       "'TheTRUTHhurtsonlyoncebutaLIEhurtseverytimeyourememberit'"
      ]
     },
     "execution_count": 2,
     "metadata": {},
     "output_type": "execute_result"
    }
   ],
   "source": [
    "# using repalce method\n",
    "string5.replace(\" \",\"\")"
   ]
  },
  {
   "cell_type": "markdown",
   "id": "5b466024-100e-4b1d-b3fc-c87060e1aaec",
   "metadata": {},
   "source": [
    "### Question 8:\n",
    "Find the length of a string without using the `len()` function."
   ]
  },
  {
   "cell_type": "markdown",
   "id": "1decec1b-fc81-4fce-9fb0-173014554846",
   "metadata": {},
   "source": [
    "### Answer 8:"
   ]
  },
  {
   "cell_type": "code",
   "execution_count": 11,
   "id": "71e274cd-af68-4dad-a4e4-d053a96ad72a",
   "metadata": {},
   "outputs": [
    {
     "name": "stdout",
     "output_type": "stream",
     "text": [
      "the total leng ot the string is  '12' \n"
     ]
    }
   ],
   "source": [
    "string6 = input(\"Enter a string:\")\n",
    "count=0\n",
    "for st in string6:\n",
    "    count+=1\n",
    "print(f\"the total leng ot the string is  '{count}' \") "
   ]
  },
  {
   "cell_type": "markdown",
   "id": "b33f391b-5a36-4bb0-a966-0eac700d08c4",
   "metadata": {},
   "source": [
    "### Question 9:\n",
    "Check if a string contains a specific word."
   ]
  },
  {
   "cell_type": "markdown",
   "id": "7fe88baa-054e-447b-beaa-97aa00d51ed9",
   "metadata": {},
   "source": [
    "### Answer 9:"
   ]
  },
  {
   "cell_type": "code",
   "execution_count": 4,
   "id": "1eb16960-a336-44dd-a9a4-81bd5971c792",
   "metadata": {},
   "outputs": [
    {
     "name": "stdout",
     "output_type": "stream",
     "text": [
      "in suryakant ufound at 1 index \n"
     ]
    }
   ],
   "source": [
    "string_7 = input(\"Enter a string:\").lower()\n",
    "search_string = input(\"enter your words here:\").lower()\n",
    "index = string_7.find(search_string)\n",
    "if index==-1:\n",
    "    print(\"not found\")\n",
    "else:\n",
    "    print(f\"in {string_7} {search_string} found at {index} index \")"
   ]
  },
  {
   "cell_type": "markdown",
   "id": "e5a58a8c-f19a-4566-bfa9-ec09b7a66b57",
   "metadata": {},
   "source": [
    "### Question 10:\n",
    "Replace a word in a string with another word"
   ]
  },
  {
   "cell_type": "markdown",
   "id": "9359cda8-58e7-4499-bc20-5680a8914832",
   "metadata": {},
   "source": [
    "### Answer 10:"
   ]
  },
  {
   "cell_type": "code",
   "execution_count": 13,
   "id": "2fb5d84f-0e30-4cad-8c90-34cbd7e69450",
   "metadata": {},
   "outputs": [
    {
     "name": "stdout",
     "output_type": "stream",
     "text": [
      "Old string:  Don’t comment bad code\n",
      "New string:  Don’t comment g code\n"
     ]
    }
   ],
   "source": [
    "## using predefined method\n",
    "string_8 = input(\"Enter a string:\")\n",
    "old_word = input(\"Enter a word you want to replace:\")\n",
    "new_word = input(\"Enter a new word:\")\n",
    "new = string_8.replace(old_word,new_word)\n",
    "print(\"Old string:\",string_8)\n",
    "print(\"New string:\",new)"
   ]
  },
  {
   "cell_type": "markdown",
   "id": "f18d88cb",
   "metadata": {},
   "source": [
    "### Question 11:\n",
    "Count the occurrences of a word in a string."
   ]
  },
  {
   "cell_type": "markdown",
   "id": "c326cb3e",
   "metadata": {},
   "source": [
    "### Answer :"
   ]
  },
  {
   "cell_type": "code",
   "execution_count": 14,
   "id": "4fd22f3a",
   "metadata": {},
   "outputs": [
    {
     "name": "stdout",
     "output_type": "stream",
     "text": [
      "in your string ' don’t comment bad code – rewrite it' 'a' found '1' times\n"
     ]
    }
   ],
   "source": [
    "string_9 = input(\"Enter a string:\").lower()\n",
    "count_word = input(\"Enter the string you want to count:\").lower()\n",
    "count = 0\n",
    "for i in string_9:\n",
    "    if count_word in i :\n",
    "        count+=1\n",
    "print(f\"in your string '{string_9}' '{count_word}' found '{count}' times\")"
   ]
  },
  {
   "cell_type": "markdown",
   "id": "f3571776",
   "metadata": {},
   "source": [
    "### Question 12:\n",
    "Find the first occurrence of a word in a string."
   ]
  },
  {
   "cell_type": "markdown",
   "id": "08e3e82b",
   "metadata": {},
   "source": [
    "### Answer "
   ]
  },
  {
   "cell_type": "code",
   "execution_count": 3,
   "id": "43062cf8",
   "metadata": {},
   "outputs": [
    {
     "name": "stdout",
     "output_type": "stream",
     "text": [
      "found at index  7\n"
     ]
    }
   ],
   "source": [
    "string_10 = input(\"Enter a string:\").lower()\n",
    "search = input (\"Enter a search string\").lower()\n",
    "output = string_10.find(search)\n",
    "if  output == -1:\n",
    "    print(\"not found\")\n",
    "else:\n",
    "    print (f\"found at index  {output}\")"
   ]
  },
  {
   "cell_type": "markdown",
   "id": "a7c1ea9e",
   "metadata": {},
   "source": [
    "### Question 13:\n",
    "Find the last occurrence of a word in a string."
   ]
  },
  {
   "cell_type": "markdown",
   "id": "ca0cde58",
   "metadata": {},
   "source": [
    "### Answer 13:"
   ]
  },
  {
   "cell_type": "code",
   "execution_count": 10,
   "id": "3f20ec94",
   "metadata": {},
   "outputs": [
    {
     "name": "stdout",
     "output_type": "stream",
     "text": [
      "a found at index 96\n"
     ]
    }
   ],
   "source": [
    "string_13 = input(\"Enter a string\").lower()\n",
    "search_13 = input(\"Enter a search string\").lower()\n",
    "output_13 = string_13.rfind(search_13)\n",
    "if output_13 == -1:\n",
    "    print(\"not found\")\n",
    "else:\n",
    "    print(f\"{search_13} found at index {output_13}\")\n"
   ]
  },
  {
   "cell_type": "markdown",
   "id": "2a80d0fb",
   "metadata": {},
   "source": [
    "### Question 14:\n",
    "Split a string into a list of words."
   ]
  },
  {
   "cell_type": "markdown",
   "id": "9a4174a9",
   "metadata": {},
   "source": [
    "### Answer 14:"
   ]
  },
  {
   "cell_type": "code",
   "execution_count": 9,
   "id": "51113e9c",
   "metadata": {},
   "outputs": [
    {
     "name": "stdout",
     "output_type": "stream",
     "text": [
      "['Full', 'Stack', 'Data', 'Science']\n"
     ]
    }
   ],
   "source": [
    "string_14 = input (\"Enter a string\")\n",
    "string_14 = string_14.split()\n",
    "print(string_14)"
   ]
  },
  {
   "cell_type": "markdown",
   "id": "6d5a59cc",
   "metadata": {},
   "source": [
    "### Question 15:\n",
    "Join a list of words into a string."
   ]
  },
  {
   "cell_type": "markdown",
   "id": "9b1ea9ec",
   "metadata": {},
   "source": [
    "### Answer 15:"
   ]
  },
  {
   "cell_type": "code",
   "execution_count": 17,
   "id": "e68ee5bc",
   "metadata": {},
   "outputs": [
    {
     "name": "stdout",
     "output_type": "stream",
     "text": [
      " Full Stack Data Science \n"
     ]
    }
   ],
   "source": [
    "string_15 = string_14\n",
    "sep=\" \"\n",
    "for i in string_15:\n",
    "    sep+=i+\" \"\n",
    "print(sep)"
   ]
  },
  {
   "cell_type": "markdown",
   "id": "4c8a0161",
   "metadata": {},
   "source": [
    "### Question 16:\n",
    "Convert a string where words are separated by spaces to one where words\n",
    "are separated by underscores."
   ]
  },
  {
   "cell_type": "markdown",
   "id": "7f17f92f",
   "metadata": {},
   "source": [
    "### Answer 16:"
   ]
  },
  {
   "cell_type": "code",
   "execution_count": 20,
   "id": "13f30fdf",
   "metadata": {},
   "outputs": [
    {
     "name": "stdout",
     "output_type": "stream",
     "text": [
      "everythiing_is_illsusion\n"
     ]
    }
   ],
   "source": [
    "string_16 = input(\"Enter a string\")\n",
    "Output_16 = string_16.replace(\" \",\"_\")\n",
    "print(Output_16)"
   ]
  },
  {
   "cell_type": "markdown",
   "id": "53ff35f0",
   "metadata": {},
   "source": [
    "### Question 17:\n",
    "Check if a string starts with a specific word or phrase."
   ]
  },
  {
   "cell_type": "markdown",
   "id": "0c98f1da",
   "metadata": {},
   "source": [
    "### Answer 17:"
   ]
  },
  {
   "cell_type": "code",
   "execution_count": 14,
   "id": "f741e1f0",
   "metadata": {},
   "outputs": [
    {
     "name": "stdout",
     "output_type": "stream",
     "text": [
      "your string dont  have  'hello' in a welcome to word of data \n"
     ]
    }
   ],
   "source": [
    "string_17 = input(\"Enter a string\").lower()\n",
    "start_string_search = input(\"Enter search string\").lower()\n",
    "output_17 = string_17.startswith(start_string_search)\n",
    "if output_17 == True:\n",
    "    print(f\"your string start with {start_string_search} \")\n",
    "if string_17.find(start_string_search) ==-1:\n",
    "    print(f\"your string dont  have  '{start_string_search}' in a '{string_17}' string \")\n",
    "else:\n",
    "    print(f\"your string dont ends with {start_string_search} and is position index is {string_17.find(start_string_search)}\")"
   ]
  },
  {
   "cell_type": "markdown",
   "id": "2030070b",
   "metadata": {},
   "source": [
    "### Question 18:\n",
    "Check if a string ends with a specific word or phrase."
   ]
  },
  {
   "cell_type": "markdown",
   "id": "e5a1d36e",
   "metadata": {},
   "source": [
    "### Answer 18:"
   ]
  },
  {
   "cell_type": "code",
   "execution_count": 13,
   "id": "93e46ed2",
   "metadata": {},
   "outputs": [
    {
     "name": "stdout",
     "output_type": "stream",
     "text": [
      "your string dont  have  pro \n"
     ]
    }
   ],
   "source": [
    "string_18 = input(\"Enter a string\").lower()\n",
    "end_string_search = input(\"Enter search string\").lower()\n",
    "output_18 = string_18.endswith(end_string_search)\n",
    "if output_18 == True:\n",
    "    print(f\"your string ends with {end_string_search}\") \n",
    "if string_18.find(end_string_search)==-1:\n",
    "    print(f\"your string dont  have  '{end_string_search}' in a '{string_18}' string\")\n",
    "else:\n",
    "    print(f\"your string dont ends with {end_string_search} and is position index is {string_18.find(end_string_search)}\")"
   ]
  },
  {
   "cell_type": "markdown",
   "id": "d147c311",
   "metadata": {},
   "source": [
    "### Question 19:\n",
    "Convert a string to title case (e.g., \"hello world\" to \"Hello World\")."
   ]
  },
  {
   "cell_type": "markdown",
   "id": "4289621f",
   "metadata": {},
   "source": [
    "### Answer 19:"
   ]
  },
  {
   "cell_type": "code",
   "execution_count": 15,
   "id": "487ebac1",
   "metadata": {},
   "outputs": [
    {
     "name": "stdout",
     "output_type": "stream",
     "text": [
      "Hello Techies\n"
     ]
    }
   ],
   "source": [
    "string_19 = input(\"Enter a string\")\n",
    "output_19 = string_19.title()\n",
    "print(output_19)"
   ]
  },
  {
   "cell_type": "markdown",
   "id": "07fabf01",
   "metadata": {},
   "source": [
    "### Question 20: \n",
    "Find the longest word in a string."
   ]
  },
  {
   "cell_type": "markdown",
   "id": "ef3727b8",
   "metadata": {},
   "source": [
    "### Answer 20:"
   ]
  },
  {
   "cell_type": "code",
   "execution_count": 24,
   "id": "c30aa8bc",
   "metadata": {},
   "outputs": [
    {
     "name": "stdout",
     "output_type": "stream",
     "text": [
      "The strongest string among '['Success', 'is', 'not', 'final,', 'failure', 'is', 'not', 'fatal:', 'It', 'is', 'the', 'courage', 'to', 'continue', 'that', 'counts.']' is 'continue' and length is 8\n"
     ]
    }
   ],
   "source": [
    "string_20 = input(\"Enter a string\").split()\n",
    "max_string = string_20[0]\n",
    "for i in range(len(string_20)):\n",
    "    if len(max_string)<len(string_20[i]):\n",
    "        max_string = string_20[i]\n",
    "print(f\"The strongest string among '{string_20}' is '{max_string}' and length is {len(max_string)}\")"
   ]
  },
  {
   "cell_type": "markdown",
   "id": "1b9dd9ee",
   "metadata": {},
   "source": [
    "### Question 21:\n",
    "Find the shortest word in a string"
   ]
  },
  {
   "cell_type": "markdown",
   "id": "bdcc01fd",
   "metadata": {},
   "source": [
    "### Answer 21:"
   ]
  },
  {
   "cell_type": "code",
   "execution_count": 23,
   "id": "c34d60c5",
   "metadata": {},
   "outputs": [
    {
     "name": "stdout",
     "output_type": "stream",
     "text": [
      "The lowest string among '['Success', 'is', 'not', 'final,', 'failure', 'is', 'not', 'fatal:', 'It', 'is', 'the', 'courage', 'to', 'continue', 'that', 'counts.']' is 'is' and length is 10\n"
     ]
    }
   ],
   "source": [
    "string_21 = input(\"Enter a string\").split()\n",
    "mini_string = string_21[0]\n",
    "for i in range(len(string_21)):\n",
    "    if len(mini_string)>len(string_21[i]):\n",
    "        mini_string = string_21[i]\n",
    "print(f\"The lowest string among '{string_21}' is '{mini_string}' and length is {len(max_string)}\")"
   ]
  },
  {
   "cell_type": "markdown",
   "id": "85828883",
   "metadata": {},
   "source": [
    "### Question 22:\n",
    "Reverse the order of words in a string."
   ]
  },
  {
   "cell_type": "markdown",
   "id": "26f8749c",
   "metadata": {},
   "source": [
    "### Answer 22:"
   ]
  },
  {
   "cell_type": "code",
   "execution_count": 14,
   "id": "6c22c83f",
   "metadata": {},
   "outputs": [
    {
     "name": "stdout",
     "output_type": "stream",
     "text": [
      "your reverse order string would look like this 'it do can you it, dream can you If'\n"
     ]
    }
   ],
   "source": [
    "string_22 = input(\"Enter a string\").split()\n",
    "reverse_order_words = string_22[::-1]\n",
    "reverse_order_string = \" \".join(reverse_order_words)\n",
    "print(f\"your reverse order string would look like this '{reverse_order_string}'\")\n"
   ]
  },
  {
   "cell_type": "markdown",
   "id": "d1413477",
   "metadata": {},
   "source": [
    "### Question 23:\n",
    "Check if a string is alphanumeric."
   ]
  },
  {
   "cell_type": "markdown",
   "id": "dfc2ea5f",
   "metadata": {},
   "source": [
    "### Answer 23:"
   ]
  },
  {
   "cell_type": "code",
   "execution_count": 7,
   "id": "ca8907a9",
   "metadata": {},
   "outputs": [
    {
     "name": "stdout",
     "output_type": "stream",
     "text": [
      "'hello123' is alpha-numeric string\n"
     ]
    }
   ],
   "source": [
    "string_23 = input(\"Enter a string\").replace(\" \",\"\")\n",
    "output_23 = string_23.isalnum()\n",
    "if output_23 == True:\n",
    "    print(f\"'{string_23}' is alpha-numeric string\")\n",
    "else:\n",
    "    print(f\"'{string_23}' is not alpha- numeric string\")"
   ]
  },
  {
   "cell_type": "markdown",
   "id": "5348d69e",
   "metadata": {},
   "source": [
    "### Question 24:\n",
    "Extract all digits from a string."
   ]
  },
  {
   "cell_type": "markdown",
   "id": "206521f8",
   "metadata": {},
   "source": [
    "### Answer 24:"
   ]
  },
  {
   "cell_type": "code",
   "execution_count": 23,
   "id": "9d5157e2",
   "metadata": {},
   "outputs": [
    {
     "name": "stdout",
     "output_type": "stream",
     "text": [
      "you string dont contain any integer or numbers\n"
     ]
    }
   ],
   "source": [
    "# using regular expression\n",
    "import re\n",
    "string_24 = input(\"Enter a string\")\n",
    "digits = re.findall(r'\\d',string_24)\n",
    "if digits == []:\n",
    "    print(\"you string dont contain any integer or numbers\")\n",
    "else:\n",
    "    digits = \" \".join(digits)\n",
    "    print(f\"your string {string_24} have {digits}\")"
   ]
  },
  {
   "cell_type": "code",
   "execution_count": 8,
   "id": "14442e74",
   "metadata": {},
   "outputs": [
    {
     "name": "stdout",
     "output_type": "stream",
     "text": [
      "your string FSDSp2023 have 2023\n"
     ]
    }
   ],
   "source": [
    "# using isdigit method\n",
    "digits_1 = \"\"\n",
    "for i in string_24:\n",
    "    if i.isdigit() == True:\n",
    "        digits_1+=i\n",
    "print(f\"your string {string_24} have {digits_1}\")"
   ]
  },
  {
   "cell_type": "markdown",
   "id": "6d62482f",
   "metadata": {},
   "source": [
    "### Question 25:\n",
    "Extract all alphabets from a string."
   ]
  },
  {
   "cell_type": "markdown",
   "id": "c6d1ac36",
   "metadata": {},
   "source": [
    "### Answer 25:"
   ]
  },
  {
   "cell_type": "code",
   "execution_count": 25,
   "id": "e5960e8b",
   "metadata": {},
   "outputs": [
    {
     "name": "stdout",
     "output_type": "stream",
     "text": [
      "your string dont have any alphabets\n"
     ]
    }
   ],
   "source": [
    "# using regular expression\n",
    "import re\n",
    "string_25 = input(\"Enter a string\")\n",
    "alphabets = re.findall(r'[a-zA-Z]',string_25)\n",
    "if alphabets == []:\n",
    "    print(\"your string dont have any alphabets\")\n",
    "else:\n",
    "    cleaned_string = set(alphabets)\n",
    "    output_25 = \" \".join(sorted(cleaned_string)).replace(\" \",\",\")\n",
    "    print(f\"In your string {string_25} have folowing alphabets '{output_25}'\")"
   ]
  },
  {
   "cell_type": "markdown",
   "id": "2fd83a44",
   "metadata": {},
   "source": [
    "### Question 26:\n",
    "Count the number of uppercase letters in a string."
   ]
  },
  {
   "cell_type": "markdown",
   "id": "7c3d7c61",
   "metadata": {},
   "source": [
    "### Answer 26:"
   ]
  },
  {
   "cell_type": "code",
   "execution_count": 26,
   "id": "a32a2cbc",
   "metadata": {},
   "outputs": [
    {
     "name": "stdout",
     "output_type": "stream",
     "text": [
      "your string '\"Code is like humor. When you have to explain it, it’s bad.\" - Cory House' have '4' upper-case letters these are ['C', 'W', 'C', 'H']\n"
     ]
    }
   ],
   "source": [
    "string_26 = input(\"Enter a string\")\n",
    "upper_case = re.findall(r'[A-Z]',string_26)\n",
    "if upper_case == []:\n",
    "    print(\"your string dont have any upper case letter\")\n",
    "else:\n",
    "    print(f\"your string '{string_26}' have '{len(upper_case)}' upper-case letters these are {upper_case}\")\n"
   ]
  },
  {
   "cell_type": "markdown",
   "id": "b22c7317",
   "metadata": {},
   "source": [
    "### Question 27:\n",
    "Count the number of lowercase letters in a string."
   ]
  },
  {
   "cell_type": "markdown",
   "id": "b834e3a2",
   "metadata": {},
   "source": [
    "### Answer 27:"
   ]
  },
  {
   "cell_type": "code",
   "execution_count": 2,
   "id": "7d15062f",
   "metadata": {},
   "outputs": [
    {
     "name": "stdout",
     "output_type": "stream",
     "text": [
      "your string 'I believe we are here on the planet Earth to live, grow up and do what we can to make this world a better place for all people to enjoy freedom.\" — Rosa Parks' have '117' upper-case letters these are ['b', 'e', 'l', 'i', 'e', 'v', 'e', 'w', 'e', 'a', 'r', 'e', 'h', 'e', 'r', 'e', 'o', 'n', 't', 'h', 'e', 'p', 'l', 'a', 'n', 'e', 't', 'a', 'r', 't', 'h', 't', 'o', 'l', 'i', 'v', 'e', 'g', 'r', 'o', 'w', 'u', 'p', 'a', 'n', 'd', 'd', 'o', 'w', 'h', 'a', 't', 'w', 'e', 'c', 'a', 'n', 't', 'o', 'm', 'a', 'k', 'e', 't', 'h', 'i', 's', 'w', 'o', 'r', 'l', 'd', 'a', 'b', 'e', 't', 't', 'e', 'r', 'p', 'l', 'a', 'c', 'e', 'f', 'o', 'r', 'a', 'l', 'l', 'p', 'e', 'o', 'p', 'l', 'e', 't', 'o', 'e', 'n', 'j', 'o', 'y', 'f', 'r', 'e', 'e', 'd', 'o', 'm', 'o', 's', 'a', 'a', 'r', 'k', 's']\n"
     ]
    }
   ],
   "source": [
    "import re\n",
    "string_27 = input(\"Enter a string\")\n",
    "lower_case = re.findall(r'[a-z]',string_27)\n",
    "if lower_case == []:\n",
    "    print(\"your string dont have any upper case letter\")\n",
    "else:\n",
    "    print(f\"your string '{string_27}' have '{len(lower_case)}' upper-case letters these are {lower_case}\")\n"
   ]
  },
  {
   "cell_type": "markdown",
   "id": "ce7f8ca1",
   "metadata": {},
   "source": [
    "### Question 28:\n",
    "Swap the case of each character in a string."
   ]
  },
  {
   "cell_type": "markdown",
   "id": "8cd8ed48",
   "metadata": {},
   "source": [
    "### Answer 28:"
   ]
  },
  {
   "cell_type": "code",
   "execution_count": 1,
   "id": "a47d8b10",
   "metadata": {},
   "outputs": [
    {
     "name": "stdout",
     "output_type": "stream",
     "text": [
      "your swap case string would look like this fULL_STACK_dATA_SCIENCE\n"
     ]
    }
   ],
   "source": [
    "string_28 = input(\"Enter a string\").swapcase()\n",
    "print(f\"your swap case string would look like this {string_28}\")"
   ]
  },
  {
   "cell_type": "markdown",
   "id": "9be0c687",
   "metadata": {},
   "source": [
    "### Question 29:\n",
    "Remove a specific word from a string."
   ]
  },
  {
   "cell_type": "markdown",
   "id": "001232f6",
   "metadata": {},
   "source": [
    "### Answer 29:"
   ]
  },
  {
   "cell_type": "code",
   "execution_count": 4,
   "id": "be4cdfd0",
   "metadata": {},
   "outputs": [
    {
     "name": "stdout",
     "output_type": "stream",
     "text": [
      "you have might be wnter a okay wrong word \n"
     ]
    }
   ],
   "source": [
    "string_29 = input(\"Enter a string\")\n",
    "Word_remove = input(\"Enter a word you want to remove\")\n",
    "if Word_remove in string_29:\n",
    "    output_29 = string_29.replace(Word_remove,\"\")\n",
    "    print(output_29)\n",
    "else:\n",
    "    print(f\"you have might be written a {Word_remove} wrong word that no present in '{string_29}' \")"
   ]
  },
  {
   "cell_type": "markdown",
   "id": "f0dba669",
   "metadata": {},
   "source": [
    "### Question 30:\n",
    "Check if a string is a valid email address"
   ]
  },
  {
   "cell_type": "markdown",
   "id": "798cac1e",
   "metadata": {},
   "source": [
    "### Answer 30:"
   ]
  },
  {
   "cell_type": "code",
   "execution_count": 43,
   "id": "41d9c185",
   "metadata": {},
   "outputs": [
    {
     "name": "stdout",
     "output_type": "stream",
     "text": [
      "valid email\n"
     ]
    }
   ],
   "source": [
    "import re\n",
    "string_30 = input(\"Enter an email address\")\n",
    "valid_email_pattern = r'^[\\w\\.-]+@[\\w\\.-]+\\.\\w+$'\n",
    "output_30= re.match(valid_email_pattern,string_30)\n",
    "if output_30 == None:\n",
    "    print(\"Invalid email\")\n",
    "else:\n",
    "    print(\"valid email\")\n",
    "\n"
   ]
  },
  {
   "cell_type": "markdown",
   "id": "114859cd",
   "metadata": {},
   "source": [
    "### Question 31:\n",
    "Extract the username from an email address string."
   ]
  },
  {
   "cell_type": "markdown",
   "id": "11388e5d",
   "metadata": {},
   "source": [
    "### Answer 31:"
   ]
  },
  {
   "cell_type": "code",
   "execution_count": 23,
   "id": "9af38112",
   "metadata": {},
   "outputs": [
    {
     "name": "stdout",
     "output_type": "stream",
     "text": [
      "Cleared name from 'john.doe@example.com': johndoe\n"
     ]
    }
   ],
   "source": [
    "import re\n",
    "string_31 = input(\"Enter an email\")\n",
    "find_pattern = r'^([\\w\\d\\.-]+)@[\\w\\.-]+\\.\\w+$'\n",
    "name_list = re.findall(find_pattern,string_31)\n",
    "if name_list:\n",
    "    name = name_list[0]\n",
    "    cleared_name = ''.join(char for char in name if char.isalpha())\n",
    "\n",
    "    print(f\"Cleared name from '{string_31}': {cleared_name}\")\n",
    "else:\n",
    "    print(\"invalid email formate\")"
   ]
  },
  {
   "cell_type": "markdown",
   "id": "bf06f5a3",
   "metadata": {},
   "source": [
    "### Question 32:\n",
    "Extract the domain name from an email address string"
   ]
  },
  {
   "cell_type": "markdown",
   "id": "510453a9",
   "metadata": {},
   "source": [
    "### Answer 32:"
   ]
  },
  {
   "cell_type": "code",
   "execution_count": 1,
   "id": "1ed50f7c",
   "metadata": {},
   "outputs": [
    {
     "name": "stdout",
     "output_type": "stream",
     "text": [
      "domain name from 'suryakantghodake22@yahho.com': yahho.com\n"
     ]
    }
   ],
   "source": [
    "import re\n",
    "string_32 = input(\"Enter an email\")\n",
    "find_pattern_2 = r'^([\\w\\d.-]+)@([\\w\\.-]+\\.\\w+$)'\n",
    "domain_name_list = re.findall(find_pattern_2,string_32)\n",
    "if domain_name_list:\n",
    "    domain= domain_name_list[0][1]\n",
    "    print(f\"domain name from '{string_32}': {domain}\")\n",
    "else:\n",
    "    print(\"invalid email formate\")\n"
   ]
  },
  {
   "cell_type": "markdown",
   "id": "5f6bae4f",
   "metadata": {},
   "source": [
    "### Question :33\n",
    " Replace multiple spaces in a string with a single space."
   ]
  },
  {
   "cell_type": "markdown",
   "id": "f8485d3a",
   "metadata": {},
   "source": [
    "### Answer 33:"
   ]
  },
  {
   "cell_type": "code",
   "execution_count": 3,
   "id": "46a5aba9",
   "metadata": {},
   "outputs": [
    {
     "name": "stdout",
     "output_type": "stream",
     "text": [
      "String with single space would be look like this hello techies ! how are you ? .\n"
     ]
    }
   ],
   "source": [
    "import re\n",
    "string_33 = input(\"Enter a string with multipale spaces:\")\n",
    "output_33 = re.sub(r'\\s+',' ',string_33)\n",
    "print(f\"String with single space would be look like this {output_33}\")"
   ]
  },
  {
   "cell_type": "markdown",
   "id": "95413c6c",
   "metadata": {},
   "source": [
    "### Question 34:\n",
    "Check if a string is a valid URL."
   ]
  },
  {
   "cell_type": "markdown",
   "id": "38c265f7",
   "metadata": {},
   "source": [
    "### Answer 34 :"
   ]
  },
  {
   "cell_type": "code",
   "execution_count": 9,
   "id": "032b138a",
   "metadata": {},
   "outputs": [
    {
     "name": "stdout",
     "output_type": "stream",
     "text": [
      "is valid url\n"
     ]
    }
   ],
   "source": [
    "import re\n",
    "string_34 = input (\"enter a url\")\n",
    "url_pattern = r'^(https?|ftp|file)://[-A-Za-z0-9+&@#/%?=~_|!:,.;]*[-A-Za-z0-9+&@#/%=~_|]$'\n",
    "output_34 = re.match(url_pattern,string_34)\n",
    "if output_34:\n",
    "    print(\"is valid url\")\n",
    "else:\n",
    "    print(\"invalid url\")"
   ]
  },
  {
   "cell_type": "markdown",
   "id": "46318824",
   "metadata": {},
   "source": [
    "### Question 35 :\n",
    "Extract the protocol (http or https) from a URL string."
   ]
  },
  {
   "cell_type": "markdown",
   "id": "8b9e0372",
   "metadata": {},
   "source": [
    "### Answer 35 :"
   ]
  },
  {
   "cell_type": "code",
   "execution_count": 19,
   "id": "d354b969",
   "metadata": {},
   "outputs": [
    {
     "name": "stdout",
     "output_type": "stream",
     "text": [
      "vald protocol name is ['http']\n"
     ]
    }
   ],
   "source": [
    "import re\n",
    "string_35 = input (\"Enter a url\")\n",
    "protocol_pattern = r'^(https?|ftp)://'\n",
    "output_35 = re.findall(protocol_pattern,string_35)\n",
    "if output_35:\n",
    "    print(f\"vald protocol name is {output_35}\")\n",
    "else:\n",
    "    print(\"invalid input\")"
   ]
  },
  {
   "cell_type": "markdown",
   "id": "87d57805",
   "metadata": {},
   "source": [
    "### Question 36:\n",
    "Find the frequency of each character in a string."
   ]
  },
  {
   "cell_type": "markdown",
   "id": "74440a7b",
   "metadata": {},
   "source": [
    "### Answer 36:"
   ]
  },
  {
   "cell_type": "code",
   "execution_count": 7,
   "id": "a4f390f4",
   "metadata": {},
   "outputs": [
    {
     "name": "stdout",
     "output_type": "stream",
     "text": [
      "h ocuures 1 times\n",
      "e ocuures 1 times\n",
      "l ocuures 3 times\n",
      "o ocuures 2 times\n",
      "w ocuures 1 times\n",
      "r ocuures 1 times\n",
      "d ocuures 1 times\n"
     ]
    }
   ],
   "source": [
    "string_36 = input(\"Enter a string\").lower()\n",
    "char_frequency = {}\n",
    "for ch in string_36.replace(' ',''):\n",
    "    if ch in char_frequency:\n",
    "        char_frequency[ch] +=1\n",
    "    else:\n",
    "        char_frequency[ch]=1\n",
    "for char,freq in char_frequency.items():\n",
    "    print(f\"{char} ocuures {freq} times\")\n"
   ]
  },
  {
   "cell_type": "markdown",
   "id": "b59dffca",
   "metadata": {},
   "source": [
    "### Question 37:\n",
    "Remove all punctuation from a string. "
   ]
  },
  {
   "cell_type": "markdown",
   "id": "3c0a6f2f",
   "metadata": {},
   "source": [
    "### Answer 37:\n"
   ]
  },
  {
   "cell_type": "code",
   "execution_count": 15,
   "id": "570d3e0f",
   "metadata": {},
   "outputs": [
    {
     "name": "stdout",
     "output_type": "stream",
     "text": [
      " your Your time is limited, so don't waste it living someone else's life. Don't be trapped by dogma – which is living with the results of other people's thinking. -Steve Jobs without punctuation would be look like this \n",
      "Your time is limited so dont waste it living someone elses life Dont be trapped by dogma  which is living with the results of other peoples thinking Steve Jobs\n"
     ]
    }
   ],
   "source": [
    "import re\n",
    "string_37 = input(\"Enter a string\")\n",
    "cleaned_string_pattern = r'[^\\w\\s]'\n",
    "output_37 = re.sub(cleaned_string_pattern,'',string_37)\n",
    "print(f\" your {string_37} without punctuation would be look like this \\n{output_37}\")"
   ]
  },
  {
   "cell_type": "markdown",
   "id": "312cb22e",
   "metadata": {},
   "source": [
    "### Question 38:\n",
    "Check if a string contains only digits."
   ]
  },
  {
   "cell_type": "markdown",
   "id": "0fa63e0e",
   "metadata": {},
   "source": [
    "### Answer 38:\n"
   ]
  },
  {
   "cell_type": "code",
   "execution_count": 4,
   "id": "d4aa75c4",
   "metadata": {},
   "outputs": [
    {
     "name": "stdout",
     "output_type": "stream",
     "text": [
      "Your string  'hello 123' does not have only numeric characters.\n"
     ]
    }
   ],
   "source": [
    "string_38 = input(\"enter a string\")\n",
    "if string_38.isdigit():\n",
    "    print(f\"Your string '{string_38}' contains only numeric characters.\")\n",
    "else:\n",
    "    print(f\"Your string  '{string_38}' does not have only numeric characters.\")"
   ]
  },
  {
   "cell_type": "code",
   "execution_count": 7,
   "id": "2c0b3caf",
   "metadata": {},
   "outputs": [
    {
     "name": "stdout",
     "output_type": "stream",
     "text": [
      "Your string   'jio456' does not have only numeric characters.\n"
     ]
    }
   ],
   "source": [
    "import re\n",
    "string_38_1 = input(\"enter a string\")\n",
    "if re.match(r'^[0-9]+$',string_38_1):\n",
    "    print(f\"Your string '{string_38_1}' contains only numeric characters.\")\n",
    "else:\n",
    "    print(f\"Your string   '{string_38_1}' does not have only numeric characters.\")"
   ]
  },
  {
   "cell_type": "markdown",
   "id": "d775fdc5",
   "metadata": {},
   "source": [
    "### Question 39:\n",
    "Check if a string contains only alphabets."
   ]
  },
  {
   "cell_type": "markdown",
   "id": "7fa24855",
   "metadata": {},
   "source": [
    "### Answer 39:"
   ]
  },
  {
   "cell_type": "code",
   "execution_count": 9,
   "id": "672f45bb",
   "metadata": {},
   "outputs": [
    {
     "name": "stdout",
     "output_type": "stream",
     "text": [
      "Your string   'hello234'does not have only alphabets characters.\n"
     ]
    }
   ],
   "source": [
    "string_39 = input(\"enter a string\")\n",
    "if string_39.isalpha():\n",
    "    print(f\"Your string '{string_39}' contains only alphabets characters.\")\n",
    "else:\n",
    "    print(f\"Your string   '{string_39}'does not have only alphabets characters.\")"
   ]
  },
  {
   "cell_type": "code",
   "execution_count": 11,
   "id": "d8943d19",
   "metadata": {},
   "outputs": [
    {
     "name": "stdout",
     "output_type": "stream",
     "text": [
      "Your string   'hello1234'does not have only alphabets characters.\n"
     ]
    }
   ],
   "source": [
    "import re\n",
    "string_39_1 = input(\"Enter a string\")\n",
    "if re.match(r'^\\D+$',string_39_1):\n",
    "    print(f\"Your string '{string_39_1}' contains only alphabets characters.\")\n",
    "else:\n",
    "    print(f\"Your string   '{string_39_1}'does not have only alphabets characters.\")"
   ]
  },
  {
   "cell_type": "code",
   "execution_count": 13,
   "id": "ca6a46ca",
   "metadata": {},
   "outputs": [
    {
     "name": "stdout",
     "output_type": "stream",
     "text": [
      "Your string   'hello 1234'does not have only alphabets characters.\n"
     ]
    }
   ],
   "source": [
    "import re\n",
    "string_39_2 = input(\"Enter a string\")\n",
    "if re.match(r'^[A-Za-z]+$',string_39_1):\n",
    "    print(f\"Your string '{string_39_2}' contains only alphabets characters.\")\n",
    "else:\n",
    "    print(f\"Your string   '{string_39_2}'does not have only alphabets characters.\")"
   ]
  },
  {
   "cell_type": "code",
   "execution_count": 3,
   "id": "0ecff520",
   "metadata": {},
   "outputs": [
    {
     "name": "stdout",
     "output_type": "stream",
     "text": [
      "B\n"
     ]
    }
   ],
   "source": [
    "x = 7\n",
    "\n",
    "if x < 5:\n",
    "   print(\"A\")\n",
    "\n",
    "else:\n",
    "\n",
    "    if x == 7:\n",
    "        print(\"B\")\n",
    "    else:\n",
    "        print(\"C\")"
   ]
  },
  {
   "cell_type": "code",
   "execution_count": 7,
   "id": "beaa278e",
   "metadata": {},
   "outputs": [
    {
     "name": "stdout",
     "output_type": "stream",
     "text": [
      "B\n"
     ]
    }
   ],
   "source": [
    "x = 10\n",
    "\n",
    "if x < 5:\n",
    "   print(\"A\")\n",
    "\n",
    "elif x > 5:\n",
    "   print(\"B\")\n",
    "\n",
    "else:\n",
    "   print(\"C\")"
   ]
  }
 ],
 "metadata": {
  "kernelspec": {
   "display_name": "Python 3 (ipykernel)",
   "language": "python",
   "name": "python3"
  },
  "language_info": {
   "codemirror_mode": {
    "name": "ipython",
    "version": 3
   },
   "file_extension": ".py",
   "mimetype": "text/x-python",
   "name": "python",
   "nbconvert_exporter": "python",
   "pygments_lexer": "ipython3",
   "version": "3.11.0"
  }
 },
 "nbformat": 4,
 "nbformat_minor": 5
}
