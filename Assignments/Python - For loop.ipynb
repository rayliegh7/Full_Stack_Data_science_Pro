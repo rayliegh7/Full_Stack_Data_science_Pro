{
 "cells": [
  {
   "cell_type": "markdown",
   "metadata": {},
   "source": [
    "<img src=\"skills_logo-removebg-preview.png\" height=\"70\">"
   ]
  },
  {
   "cell_type": "markdown",
   "metadata": {},
   "source": [
    "### Assignment Questions"
   ]
  },
  {
   "cell_type": "markdown",
   "metadata": {},
   "source": [
    "# Basic Level:"
   ]
  },
  {
   "cell_type": "markdown",
   "metadata": {},
   "source": [
    "### Question 1:\n",
    "Write a Python program to print the numbers from 1 to 10 using a `for` loop."
   ]
  },
  {
   "cell_type": "markdown",
   "metadata": {},
   "source": [
    "### Answer 1:"
   ]
  },
  {
   "cell_type": "code",
   "execution_count": 2,
   "metadata": {},
   "outputs": [
    {
     "name": "stdout",
     "output_type": "stream",
     "text": [
      "1 2 3 4 5 6 7 8 9 10 "
     ]
    }
   ],
   "source": [
    "for i in range (1,11):\n",
    "    print(i,end=\" \")"
   ]
  },
  {
   "cell_type": "markdown",
   "metadata": {},
   "source": [
    "### Question 2:\n",
    "Create a program that calculates the sum of all numbers in a list using a `for` loop."
   ]
  },
  {
   "cell_type": "markdown",
   "metadata": {},
   "source": [
    "### Answer 2:"
   ]
  },
  {
   "cell_type": "code",
   "execution_count": 27,
   "metadata": {},
   "outputs": [
    {
     "name": "stdout",
     "output_type": "stream",
     "text": [
      " som of all number in list [1, 2, 2, 4, 5] is 14\n"
     ]
    }
   ],
   "source": [
    "n = int(input(\"Enter the size of the list: \"))\n",
    "sum_of_list = 0\n",
    "my_list = [ int(input(f\"Enter element {i+1}: \")) for i in range(n)]\n",
    "for num in my_list:\n",
    "    sum_of_list = sum_of_list + num\n",
    "print(f\" som of all number in list {my_list} is {sum_of_list}\")\n"
   ]
  },
  {
   "cell_type": "markdown",
   "metadata": {},
   "source": [
    "### Question 3:\n",
    "Write a program to print the characters of a string in reverse order using a `for` loop."
   ]
  },
  {
   "cell_type": "markdown",
   "metadata": {},
   "source": [
    "### Answer 3:"
   ]
  },
  {
   "cell_type": "code",
   "execution_count": 23,
   "metadata": {},
   "outputs": [
    {
     "name": "stdout",
     "output_type": "stream",
     "text": [
      "ykciv"
     ]
    }
   ],
   "source": [
    "string_1= input(\"Enter a string\")\n",
    "for i in range (len(string_1)-1,-1,-1):\n",
    "    print(string_1[i],end=\"\")"
   ]
  },
  {
   "cell_type": "markdown",
   "metadata": {},
   "source": [
    "### Question 4:\n",
    " Develop a program that finds the factorial of a given number using a `for` loop."
   ]
  },
  {
   "cell_type": "markdown",
   "metadata": {},
   "source": [
    "### Answer 4:"
   ]
  },
  {
   "cell_type": "code",
   "execution_count": 7,
   "metadata": {},
   "outputs": [
    {
     "name": "stdout",
     "output_type": "stream",
     "text": [
      "the factorial of 0 is 1\n"
     ]
    }
   ],
   "source": [
    "n = int(input(\"enetr a number \"))\n",
    "fact = 1\n",
    "for i in range(1,(n+1)):\n",
    "    fact = fact* i\n",
    "\n",
    "print(f\"the factorial of {n} is {fact}\")"
   ]
  },
  {
   "cell_type": "markdown",
   "metadata": {},
   "source": [
    "### Question 5:\n",
    "Create a program to print the multiplication table of a given number using a `for` loop."
   ]
  },
  {
   "cell_type": "markdown",
   "metadata": {},
   "source": [
    "### Answer 5:"
   ]
  },
  {
   "cell_type": "code",
   "execution_count": 17,
   "metadata": {},
   "outputs": [
    {
     "name": "stdout",
     "output_type": "stream",
     "text": [
      "Multiplication table for 5:\n",
      "5 *  1 =  5\n",
      "5 *  2 = 10\n",
      "5 *  3 = 15\n",
      "5 *  4 = 20\n",
      "5 *  5 = 25\n",
      "5 *  6 = 30\n",
      "5 *  7 = 35\n",
      "5 *  8 = 40\n",
      "5 *  9 = 45\n",
      "5 * 10 = 50\n"
     ]
    }
   ],
   "source": [
    "table_of = int(input(\"Enter a number for which we want to generate a multiplication table: \"))\n",
    "print(f\"Multiplication table for {table_of}:\")\n",
    "\n",
    "for i in range(1, 11):\n",
    "    result = table_of * i\n",
    "    print(f\"{table_of} * {i:2d} = {result:2d}\")\n"
   ]
  },
  {
   "cell_type": "markdown",
   "metadata": {},
   "source": [
    "### Question 6:\n",
    " Write a program that counts the number of even and odd numbers in a list using a `for` loop."
   ]
  },
  {
   "cell_type": "markdown",
   "metadata": {},
   "source": [
    "### Answer 6:\n"
   ]
  },
  {
   "cell_type": "code",
   "execution_count": 34,
   "metadata": {},
   "outputs": [
    {
     "name": "stdout",
     "output_type": "stream",
     "text": [
      "your list [2, 8, 12, 7, 19] have 3 even number and 2 number \n"
     ]
    }
   ],
   "source": [
    "n = int(input(\"Enter a size of list:\"))\n",
    "my_list_2 = [int(input(f\"enter element {i+1}\")) for i in range(n)]\n",
    "even = [i for i in my_list_2 if i%2==0]\n",
    "odd = [i for i in my_list_2 if  i%2 !=0 ]\n",
    "print(f\"your list {my_list_2} have {len(even)} even number and {len(odd)} odd number \")"
   ]
  },
  {
   "cell_type": "markdown",
   "metadata": {},
   "source": [
    "### Question 7:\n",
    " Develop a program that prints the squares of numbers from 1 to 5 using a `for` loop."
   ]
  },
  {
   "cell_type": "markdown",
   "metadata": {},
   "source": [
    "### Answer 7:"
   ]
  },
  {
   "cell_type": "code",
   "execution_count": 41,
   "metadata": {},
   "outputs": [
    {
     "name": "stdout",
     "output_type": "stream",
     "text": [
      " The square numbers from 1 to 5 is :  1 4 9 16 25 "
     ]
    }
   ],
   "source": [
    "\n",
    "print(\" The square numbers from 1 to 5 is : \",end=\" \")\n",
    "for seq in range(1,6):\n",
    "    print(seq**2,end=\" \")"
   ]
  },
  {
   "cell_type": "markdown",
   "metadata": {},
   "source": [
    "### Question 8:\n",
    " Create a program to find the length of a string without using the `len()` function."
   ]
  },
  {
   "cell_type": "markdown",
   "metadata": {},
   "source": [
    "### Answer 8:"
   ]
  },
  {
   "cell_type": "code",
   "execution_count": 46,
   "metadata": {},
   "outputs": [
    {
     "name": "stdout",
     "output_type": "stream",
     "text": [
      "9\n",
      "9\n"
     ]
    }
   ],
   "source": [
    "length = 0\n",
    "string_7 = input(\"Enter a string\")\n",
    "for var in range(len(string_7)):\n",
    "    length +=1\n",
    "print(len(string_7))\n",
    "print(length)"
   ]
  },
  {
   "cell_type": "markdown",
   "metadata": {},
   "source": [
    "### Question 9:\n",
    " Write a program that calculates the average of a list of numbers using a `for` loop."
   ]
  },
  {
   "cell_type": "markdown",
   "metadata": {},
   "source": [
    "### Answer 9:"
   ]
  },
  {
   "cell_type": "code",
   "execution_count": 47,
   "metadata": {},
   "outputs": [
    {
     "name": "stdout",
     "output_type": "stream",
     "text": [
      "the averegae of list number is 6\n"
     ]
    }
   ],
   "source": [
    "size_of_list = int(input(\"Enter size of list\"))\n",
    "my_list_9 = [int(input(f\"enter element {i+1}\")) for i in range(n)]\n",
    "average_number_of_list = sum(my_list_9)/size_of_list\n",
    "print(f\"the averegae of list number is {average_number_of_list}\")"
   ]
  },
  {
   "cell_type": "markdown",
   "metadata": {},
   "source": [
    "### Question 10:\n",
    "Develop a program that prints the first `n` Fibonacci numbers using a `for` loop."
   ]
  },
  {
   "cell_type": "markdown",
   "metadata": {},
   "source": [
    "### Answer 10:"
   ]
  },
  {
   "cell_type": "code",
   "execution_count": 8,
   "metadata": {},
   "outputs": [
    {
     "name": "stdout",
     "output_type": "stream",
     "text": [
      "The first 5 Fibonacci series are:\n",
      "0 1 1 2 3 "
     ]
    }
   ],
   "source": [
    "n = int(input(\"Enter the number of Fibonacci numbers to generate: \"))\n",
    "fibonacci_sequence = [0,1]\n",
    "for i in range(2,n):\n",
    "    next_fibonacci = fibonacci_sequence[-1] + fibonacci_sequence[-2]\n",
    "    fibonacci_sequence.append(next_fibonacci)\n",
    "print(f\"The first {n} Fibonacci series are:\")\n",
    "for i in fibonacci_sequence:\n",
    "    print(i,end=\" \")"
   ]
  },
  {
   "cell_type": "markdown",
   "metadata": {},
   "source": [
    "### Intermediate Level:"
   ]
  },
  {
   "cell_type": "markdown",
   "metadata": {},
   "source": [
    "### Question 11:\n",
    "Write a program to check if a given list contains any duplicates using a `for` loop."
   ]
  },
  {
   "cell_type": "markdown",
   "metadata": {},
   "source": [
    "### Answer 11:"
   ]
  },
  {
   "cell_type": "code",
   "execution_count": 5,
   "metadata": {},
   "outputs": [
    {
     "name": "stdout",
     "output_type": "stream",
     "text": [
      "your kist have duplicates value and \n"
     ]
    }
   ],
   "source": [
    "size_of_list_11 = int(input(\"Enter size of list:\"))\n",
    "my_list_11 = [int(input(f\"Enter element {i+1}\")) for i in range(size_of_list_11)]\n",
    "has_duplicate = False\n",
    "for i in my_list_11:\n",
    "    for j in my_list_11:\n",
    "        if my_list_11[i]==my_list_11[j]:\n",
    "            has_duplicate= True\n",
    "if has_duplicate:\n",
    "    print(f\"your list have duplicates value \")\n",
    "else:\n",
    "    print(\"dont have any duplicates\")"
   ]
  },
  {
   "cell_type": "markdown",
   "metadata": {},
   "source": [
    "### Question 12:\n",
    "Create a program that prints the prime numbers in a given range using a `for` loop."
   ]
  },
  {
   "cell_type": "markdown",
   "metadata": {},
   "source": [
    "### Answer 12:"
   ]
  },
  {
   "cell_type": "code",
   "execution_count": 2,
   "metadata": {},
   "outputs": [
    {
     "name": "stdout",
     "output_type": "stream",
     "text": [
      "Prime numbers in the range of 1 and 10 are:\n",
      "3 5 7 9 "
     ]
    }
   ],
   "source": [
    "start = int(input(\"Enter the strat of range: \"))\n",
    "end =   int(input(\"Enter the end of range: \")) \n",
    "print(f\"Prime numbers in the range of {start} and {end} are:\")\n",
    "for num in range(start,end+1):\n",
    "   if num>1:\n",
    "      is_prime = True\n",
    "   for i in (2,int(num**0.5)+1):\n",
    "      if num %i==0:\n",
    "         is_prime = False\n",
    "         break\n",
    "   if is_prime:\n",
    "      print(num,end=\" \")\n",
    "        \n",
    "    "
   ]
  },
  {
   "cell_type": "markdown",
   "metadata": {},
   "source": [
    "### Question 13:\n",
    "Develop a program that counts the number of vowels in a string using a `for` loop."
   ]
  },
  {
   "cell_type": "markdown",
   "metadata": {},
   "source": [
    "### Answer 13:"
   ]
  },
  {
   "cell_type": "code",
   "execution_count": 27,
   "metadata": {},
   "outputs": [
    {
     "name": "stdout",
     "output_type": "stream",
     "text": [
      "Your string 'vicky' has  1 vowels \n"
     ]
    }
   ],
   "source": [
    "string_13 =input(\"Enter a string:\").lower()\n",
    "counts=0\n",
    "for strs in string_13:\n",
    "    if strs in 'aeiou':\n",
    "        counts+=1\n",
    "print(f\"Your string '{string_13}' has  {counts} vowels \")"
   ]
  },
  {
   "cell_type": "markdown",
   "metadata": {},
   "source": [
    "### Question 14:\n",
    "Write a program to find the maximum element in a 2D list using a nested `for` loop."
   ]
  },
  {
   "cell_type": "markdown",
   "metadata": {},
   "source": [
    "### Answer 14:"
   ]
  },
  {
   "cell_type": "code",
   "execution_count": 21,
   "metadata": {},
   "outputs": [
    {
     "name": "stdout",
     "output_type": "stream",
     "text": [
      "The maximum number among [[5.0, 8.0], [9.0, 0.0], [8.0, 9.0], [4.0, 6.0], [0.0, 7.0]] is : 9.0\n"
     ]
    }
   ],
   "source": [
    "rows = int(input(\"Enter number of rows:\"))\n",
    "columns = int(input(\"Enter number of columns:\"))\n",
    "Two_D_list = [[float(input(f\"Enter elment for row {Row+1} and column {Col+1}\")) for Col in range(columns) ] for Row in range (rows)]\n",
    "max_element = float('-inf')\n",
    "for row in Two_D_list:\n",
    "    for element in row:\n",
    "        if element >max_element:\n",
    "            max_element = element\n",
    "print(f\"The maximum number among {Two_D_list} is : {max_element}\")"
   ]
  },
  {
   "cell_type": "markdown",
   "metadata": {},
   "source": [
    "### Question 15:\n",
    "Create a program that removes all occurrences of a specific element from a list using a `for` loop."
   ]
  },
  {
   "cell_type": "markdown",
   "metadata": {},
   "source": [
    "### Answer 16:"
   ]
  },
  {
   "cell_type": "code",
   "execution_count": 34,
   "metadata": {},
   "outputs": [
    {
     "name": "stdout",
     "output_type": "stream",
     "text": [
      "List [1, 2, 3, 3, 4] after delting 3 would be look like this [1, 2, 4]\n"
     ]
    }
   ],
   "source": [
    "size_of_list = int(input(\"Enter a size of list:\"))\n",
    "list_16 = [int(input(f\"Enter element  {i+1}:\")) for i in range (size_of_list)]\n",
    "copy_of_list = list_16.copy()\n",
    "remove_element = int(input(\"Enter element would you like to remove:\"))\n",
    "for elements in range(list_16.count(remove_element)):\n",
    "    list_16.remove(remove_element)\n",
    "print(f\"List {copy_of_list} after delting {remove_element} would be look like this {list_16}\")"
   ]
  },
  {
   "cell_type": "markdown",
   "metadata": {},
   "source": [
    "### Question 16:\n",
    " Develop a program that generates a multiplication table for numbers from 1 to 5 using a nested `for` loop."
   ]
  },
  {
   "cell_type": "markdown",
   "metadata": {},
   "source": [
    "### Answer 16:"
   ]
  },
  {
   "cell_type": "code",
   "execution_count": 8,
   "metadata": {},
   "outputs": [
    {
     "name": "stdout",
     "output_type": "stream",
     "text": [
      "Multiplication tabel for 1 :\n",
      "1 *  1 =  1\n",
      "1 *  2 =  2\n",
      "1 *  3 =  3\n",
      "1 *  4 =  4\n",
      "1 *  5 =  5\n",
      "Multiplication tabel for 2 :\n",
      "2 *  1 =  2\n",
      "2 *  2 =  4\n",
      "2 *  3 =  6\n",
      "2 *  4 =  8\n",
      "2 *  5 = 10\n",
      "Multiplication tabel for 3 :\n",
      "3 *  1 =  3\n",
      "3 *  2 =  6\n",
      "3 *  3 =  9\n",
      "3 *  4 = 12\n",
      "3 *  5 = 15\n",
      "Multiplication tabel for 4 :\n",
      "4 *  1 =  4\n",
      "4 *  2 =  8\n",
      "4 *  3 = 12\n",
      "4 *  4 = 16\n",
      "4 *  5 = 20\n",
      "Multiplication tabel for 5 :\n",
      "5 *  1 =  5\n",
      "5 *  2 = 10\n",
      "5 *  3 = 15\n",
      "5 *  4 = 20\n",
      "5 *  5 = 25\n"
     ]
    }
   ],
   "source": [
    "Start = 1\n",
    "End = 5\n",
    "for multiplicand in range(Start,End+1):\n",
    "    print(f\"Multiplication tabel for {multiplicand} :\")\n",
    "    for  multiplier in range (Start,End+1):\n",
    "        print(f\"{multiplicand} * {multiplier:2d} = {multiplicand*multiplier:2d}\")"
   ]
  },
  {
   "cell_type": "markdown",
   "metadata": {},
   "source": [
    "### Question 17:\n",
    "Write a program that converts a list of Fahrenheit temperatures to Celsius using a `for` loop."
   ]
  },
  {
   "cell_type": "markdown",
   "metadata": {},
   "source": [
    "### Answer 17:"
   ]
  },
  {
   "cell_type": "code",
   "execution_count": 30,
   "metadata": {},
   "outputs": [
    {
     "name": "stdout",
     "output_type": "stream",
     "text": [
      "celsius  temperatures:\n",
      " 22.02\n",
      " 85.69\n",
      " 63.15\n",
      "*****\n",
      "fahrenheite  temperatures:\n",
      " 71.636\n",
      " 186.24200000000002\n",
      " 145.67000000000002\n",
      "*****\n"
     ]
    }
   ],
   "source": [
    "size_of_list = int(input(\"Enetr size of list\"))\n",
    "conversion_temp = {\"celsius\",\"fahrenheite\"}\n",
    "Celsius_list = [float(input(f\"Enter tempreture in Celsisus {i+1}:\")) for i in range(size_of_list)]\n",
    "Fahrenheite_list = [(temp*9/5)+32 for temp in Celsius_list]\n",
    "conversion_temp = {\"celsius\":Celsius_list,\"fahrenheite\":Fahrenheite_list}\n",
    "for unit, values in conversion_temp.items():\n",
    "    print(f\"{unit}  temperatures:\")\n",
    "    for value in values:\n",
    "        print(f\" {value}\")\n",
    "    print('*****')"
   ]
  },
  {
   "cell_type": "markdown",
   "metadata": {},
   "source": [
    "### Question 18:\n",
    " Create a program to print the common elements from two lists using a `for` loop."
   ]
  },
  {
   "cell_type": "markdown",
   "metadata": {},
   "source": [
    "### Answer 18:"
   ]
  },
  {
   "cell_type": "code",
   "execution_count": 8,
   "metadata": {},
   "outputs": [
    {
     "name": "stdout",
     "output_type": "stream",
     "text": [
      "There is no common element\n"
     ]
    }
   ],
   "source": [
    "size_of_list_1 = int(input(\"Enter a size of list1:\"))\n",
    "size_of_list_2 = int(input(\"Enetr a size of list2:\"))\n",
    "First_list = [int(input(f\"Enter {i+1} element for list1:\"))for i in range(size_of_list_1)]\n",
    "Second_list =[int(input(f\"Enter {j+1} element for list2:\"))for j in range(size_of_list_2)]\n",
    "common_element = []\n",
    "for first in First_list:\n",
    "    for second in Second_list:\n",
    "        if first == second and first not in common_element:\n",
    "            common_element.append(first)\n",
    "if common_element ==[]:\n",
    "    print(\"There is no common element\")\n",
    "else:\n",
    "    print(f\"common elements from {First_list} and {Second_list} are : {common_element}\")"
   ]
  },
  {
   "cell_type": "markdown",
   "metadata": {},
   "source": [
    "### Question 19:\n",
    "Develop a program that prints the pattern of right-angled triangles using a `for` loop. Use ‘*’ to draw the\n",
    "pattern"
   ]
  },
  {
   "cell_type": "markdown",
   "metadata": {},
   "source": [
    "### Answer 19:"
   ]
  },
  {
   "cell_type": "code",
   "execution_count": 11,
   "metadata": {},
   "outputs": [
    {
     "name": "stdout",
     "output_type": "stream",
     "text": [
      "* \n",
      "* * \n",
      "* * * \n",
      "* * * * \n",
      "* * * * * \n",
      "* * * * * * \n"
     ]
    }
   ],
   "source": [
    "for i in range(6):\n",
    "    for j in range(i+1):\n",
    "        print(\"*\",end=' ')\n",
    "    print()"
   ]
  },
  {
   "cell_type": "markdown",
   "metadata": {},
   "source": [
    "### Question 20:\n",
    "Write a program to find the greatest common divisor (GCD) of two numbers using a `for` loop."
   ]
  },
  {
   "cell_type": "markdown",
   "metadata": {},
   "source": [
    "### Answer 20:"
   ]
  },
  {
   "cell_type": "code",
   "execution_count": 5,
   "metadata": {},
   "outputs": [
    {
     "name": "stdout",
     "output_type": "stream",
     "text": [
      "The gretest common divisor of 5 and 6 is:1\n"
     ]
    }
   ],
   "source": [
    "num_1 = int(input(\"Enter first number:\"))\n",
    "num_2 = int(input(\"Enter second number:\"))\n",
    "if num_1 <num_2:\n",
    "    smaller = num_1\n",
    "else:\n",
    "    smaller = num_2\n",
    "gcd = 1\n",
    "for i in range(1,smaller+1):\n",
    "    if num_1%i==0 and num_2%i==0:\n",
    "        gcd = i\n",
    "print(f\"The gretest common divisor of {num_1} and {num_2} is:{gcd}\")"
   ]
  },
  {
   "cell_type": "markdown",
   "metadata": {},
   "source": [
    "# Advanced Level:"
   ]
  },
  {
   "cell_type": "markdown",
   "metadata": {},
   "source": [
    "### Question 21:\n",
    " Create a program that calculates the sum of the digits of numbers in a list using a list comprehension."
   ]
  },
  {
   "cell_type": "markdown",
   "metadata": {},
   "source": [
    "### Answer 21:"
   ]
  },
  {
   "cell_type": "code",
   "execution_count": 12,
   "metadata": {},
   "outputs": [
    {
     "name": "stdout",
     "output_type": "stream",
     "text": [
      "sum of digits of number in [20, 25, 69, 78, 56, 63] is 311\n"
     ]
    }
   ],
   "source": [
    "size_of_list = int(input(\"Enter size of list:\"))\n",
    "sum_of_digits = [ int(input(f\"Enter number {i+1}\"))for i in range(size_of_list)]\n",
    "sums = 0\n",
    "op = [sums:=sums+num for num in sum_of_digits]\n",
    "print(f\"sum of digits of number in {sum_of_digits} is {op[-1]}\")"
   ]
  },
  {
   "cell_type": "markdown",
   "metadata": {},
   "source": [
    "### Question 22:\n",
    "Write a program to find the prime factors of a given number using a `for` loop and list comprehension."
   ]
  },
  {
   "cell_type": "markdown",
   "metadata": {},
   "source": [
    "### Answer 22:"
   ]
  },
  {
   "cell_type": "code",
   "execution_count": 3,
   "metadata": {},
   "outputs": [
    {
     "name": "stdout",
     "output_type": "stream",
     "text": [
      "2 3 5 7 11 13 \n",
      "Prime factors of 15 are: [3, 5]\n"
     ]
    }
   ],
   "source": [
    "# Input a number\n",
    "num_22 = int(input(\"Enter a number: \"))\n",
    "\n",
    "start = 2\n",
    "primes = []\n",
    "\n",
    "for num in range(start, num_22 + 1):\n",
    "    if num > 1:\n",
    "        is_prime = True  # Initialize is_prime here\n",
    "        for i in range(2, int(num**0.5) + 1):\n",
    "            if num % i == 0:\n",
    "                is_prime = False\n",
    "                break\n",
    "        if is_prime:\n",
    "            print(num, end=\" \")\n",
    "            primes.append(num)\n",
    "\n",
    "prime_factors = [factor for factor in primes if num_22 % factor == 0]\n",
    "\n",
    "print(\"\\nPrime factors of\", num_22, \"are:\", prime_factors)\n"
   ]
  },
  {
   "cell_type": "markdown",
   "metadata": {},
   "source": [
    " ### Question 23:\n",
    " Develop a program that extracts unique elements from a list and stores them in a new list using a list\n",
    "comprehension"
   ]
  },
  {
   "cell_type": "markdown",
   "metadata": {},
   "source": [
    "### Answer 23:"
   ]
  },
  {
   "cell_type": "code",
   "execution_count": 48,
   "metadata": {},
   "outputs": [
    {
     "name": "stdout",
     "output_type": "stream",
     "text": [
      "unique elements from [1, 1, 22, 2, 22] are : [1, 22, 2]\n"
     ]
    }
   ],
   "source": [
    "size_of_list = int(input(\"Enter a size of list:\"))\n",
    "input_list = [ int(input(f\"Enter numbers with duplicated value {i+1}:\"))for i in range(size_of_list)]\n",
    "unique_elements =[elements for index,elements in enumerate(input_list) if elements not in input_list[:index]]\n",
    "print(f\"unique elements from {input_list} are : {unique_elements}\")"
   ]
  },
  {
   "cell_type": "markdown",
   "metadata": {},
   "source": [
    "### Question 24:\n",
    "Create a program that generates a list of all palindromic numbers up to a specified limit using a list\n",
    "comprehension."
   ]
  },
  {
   "cell_type": "markdown",
   "metadata": {},
   "source": [
    "### Answer 24:"
   ]
  },
  {
   "cell_type": "code",
   "execution_count": 6,
   "metadata": {},
   "outputs": [
    {
     "name": "stdout",
     "output_type": "stream",
     "text": [
      "palindrome number upto 100 are [1, 2, 3, 4, 5, 6, 7, 8, 9, 11, 22, 33, 44, 55, 66, 77, 88, 99]\n"
     ]
    }
   ],
   "source": [
    "limit = int(input(\"Enter The limit for gnerating palindrome number\"))\n",
    "def is_palindrome(n):\n",
    "    if str(n) == str(n)[::-1]:\n",
    "        return n\n",
    "generate_palindromes = [i for i in range(1,limit+1) if is_palindrome(i)]\n",
    "\n",
    "print(f\"palindrome number upto {limit} are {generate_palindromes}\")"
   ]
  },
  {
   "cell_type": "markdown",
   "metadata": {},
   "source": [
    "### Question 25:\n",
    " Write a program to flatten a nested list using list comprehension."
   ]
  },
  {
   "cell_type": "markdown",
   "metadata": {},
   "source": [
    "### Answer 25:"
   ]
  },
  {
   "cell_type": "code",
   "execution_count": 24,
   "metadata": {},
   "outputs": [
    {
     "name": "stdout",
     "output_type": "stream",
     "text": [
      "your list is 2and 2:\n",
      "'[1, 2]'\n",
      "'[3, 4]'\n",
      "your faltten list would be look like this :[1, 2, 3, 4]\n"
     ]
    }
   ],
   "source": [
    "No_rows = int(input( \"Enter size of rows\"))\n",
    "No_columns = int(input(\"Enter no of columns\"))\n",
    "\n",
    "nested_list = [[ int(input(f\"enter element for  rows {rows+1} and secomd  {columns+1}:\")) for rows in range(No_rows)]for columns in range(No_columns)]\n",
    "\n",
    "print(f\"your list is {No_rows }  {No_columns}:\")\n",
    "for matrix in nested_list:\n",
    "    print(f\"'{matrix}'\")\n",
    "\n",
    "flatten_list = [i for nested in nested_list for i in nested ]\n",
    "\n",
    "print(f\"your faltten list would be look like this :{flatten_list}\")"
   ]
  },
  {
   "cell_type": "markdown",
   "metadata": {},
   "source": [
    "### Question 26:\n",
    "Develop a program that computes the sum of even and odd numbers in a list separately using list\n",
    "comprehension."
   ]
  },
  {
   "cell_type": "markdown",
   "metadata": {},
   "source": [
    "### Answer 26:\n"
   ]
  },
  {
   "cell_type": "code",
   "execution_count": 34,
   "metadata": {},
   "outputs": [
    {
     "name": "stdout",
     "output_type": "stream",
     "text": [
      "Your list '[25, 63, 44, 85, 15]' have 1 even numbers :[44] and sum is  44\n",
      " Your list '[25, 63, 44, 85, 15]' have 4 odds also their sum is 188\n"
     ]
    }
   ],
   "source": [
    "size_of_list = int(input(\"Enter a size of list:\"))\n",
    "input_list_26 = [ int(input(f\"Enter number {i+1}:\"))for i in range(size_of_list)]\n",
    "even = [numbers for numbers in input_list_26 if numbers%2==0]\n",
    "odd = [number for number in input_list_26 if number not in even]\n",
    "sum_even = sum(even)\n",
    "sum_odd = sum(odd)\n",
    "print(f\"Your list '{input_list_26}' have {len(even)} even numbers :{even} and sum is  {sum_even}\\n Your list '{input_list_26}' have {len(odd)} odds also their sum is {sum_odd}\")\n"
   ]
  },
  {
   "cell_type": "markdown",
   "metadata": {},
   "source": [
    "### Question 27:\n",
    "Create a program that generates a list of squares of odd numbers between 1 and 10 using list\n",
    "comprehension."
   ]
  },
  {
   "cell_type": "markdown",
   "metadata": {},
   "source": [
    "### Answer 27:\n"
   ]
  },
  {
   "cell_type": "code",
   "execution_count": 36,
   "metadata": {},
   "outputs": [
    {
     "name": "stdout",
     "output_type": "stream",
     "text": [
      "[1, 9, 25, 49, 81]\n"
     ]
    }
   ],
   "source": [
    "list_of_squares_odd = [squ**2 for squ in range(1,11) if squ%2==1]\n",
    "print(list_of_squares_odd)"
   ]
  },
  {
   "cell_type": "markdown",
   "metadata": {},
   "source": [
    "### Question 28 :\n",
    "Write a program that combines two lists into a dictionary using list comprehension."
   ]
  },
  {
   "cell_type": "markdown",
   "metadata": {},
   "source": [
    "### Answer 28:"
   ]
  },
  {
   "cell_type": "code",
   "execution_count": 45,
   "metadata": {},
   "outputs": [
    {
     "name": "stdout",
     "output_type": "stream",
     "text": [
      "Combined Dictionary (Course Fees): {'ds': 15000.0, 'ml': 2000.0, 'ai': 4000.0}\n"
     ]
    }
   ],
   "source": [
    "\n",
    "number_of_courses = int(input(\"Enter the number of courses:\"))\n",
    "\n",
    "\n",
    "courses = [input(f\"Enter course name {i + 1}: \").strip() for i in range(number_of_courses)]\n",
    "fees = [float(input(f\"Enter fees for {courses[i]}: \")) for i in range(number_of_courses)]\n",
    "\n",
    "\n",
    "course_fees_dict = {course: fee for course, fee in zip(courses, fees)}\n",
    "\n",
    "\n",
    "\n",
    "print(\"Combined Dictionary (Course Fees):\", course_fees_dict)\n"
   ]
  },
  {
   "cell_type": "markdown",
   "metadata": {},
   "source": [
    "### Question 29:\n",
    " Develop a program that extracts the vowels from a string and stores them in a list using list comprehension."
   ]
  },
  {
   "cell_type": "markdown",
   "metadata": {},
   "source": [
    "### Answer 29:"
   ]
  },
  {
   "cell_type": "code",
   "execution_count": 55,
   "metadata": {},
   "outputs": [
    {
     "name": "stdout",
     "output_type": "stream",
     "text": [
      "Your string 'my name is khan ' have following ['a', 'e', 'i', 'a'] \n"
     ]
    }
   ],
   "source": [
    "string_29 = input(\"Enter a string:\")\n",
    "list_vowels = [string_29[i] for i in range(len(string_29)) if string_29[i] in \"AEIOUaeiou\"]\n",
    "print(f\"Your string '{string_29}' have following {list_vowels} \")"
   ]
  },
  {
   "cell_type": "markdown",
   "metadata": {},
   "source": [
    "### Question 30:\n",
    "Create a program that removes all non-numeric characters from a list of strings using list comprehension."
   ]
  },
  {
   "cell_type": "markdown",
   "metadata": {},
   "source": [
    "### Answer 30:"
   ]
  },
  {
   "cell_type": "code",
   "execution_count": 81,
   "metadata": {},
   "outputs": [
    {
     "name": "stdout",
     "output_type": "stream",
     "text": [
      "List of numeric strings: ['1234']\n"
     ]
    }
   ],
   "source": [
    "\n",
    "input_string = input(\"Enter a list of strings separated by spaces: \")\n",
    "string_list = input_string.split()\n",
    "\n",
    "numeric_strings = [''.join(char for char in string if char.isdigit()) for string in string_list if any(char.isdigit() for char in string)]\n",
    "print(\"List of numeric strings:\", numeric_strings)\n"
   ]
  },
  {
   "cell_type": "markdown",
   "metadata": {},
   "source": [
    "# Challenge Level:"
   ]
  },
  {
   "cell_type": "markdown",
   "metadata": {},
   "source": [
    "### Question 31:\n",
    " Write a program to generate a list of prime numbers using the Sieve of Eratosthenes algorithm and list\n",
    "comprehension."
   ]
  },
  {
   "cell_type": "markdown",
   "metadata": {},
   "source": [
    "### Answer 31:"
   ]
  },
  {
   "cell_type": "code",
   "execution_count": 7,
   "metadata": {},
   "outputs": [
    {
     "name": "stdout",
     "output_type": "stream",
     "text": [
      "Prime numbers up to 20 are: [2, 3, 5, 7, 11, 13, 17, 19]\n"
     ]
    }
   ],
   "source": [
    "input_number = int(input(\"Enter the limit for primes number:\"))\n",
    "sieve =[True] * (input_number+1)\n",
    "sieve [0] = sieve[1] =False\n",
    "for i in range(2,int((input_number**0.5))+1):\n",
    "    if sieve[i]:\n",
    "        for Multiplier in range(i*i,input_number+1,i):\n",
    "            sieve[Multiplier] = False\n",
    "\n",
    "prime_numbers = [num for num in range(2, input_number + 1) if sieve[num]]\n",
    "\n",
    "print(\"Prime numbers up to\", input_number, \"are:\", prime_numbers)"
   ]
  },
  {
   "cell_type": "markdown",
   "metadata": {},
   "source": [
    "###  Question 32:\n",
    " Create a program that generates a list of all Pythagorean triplets up to a specified limit using list\n",
    "comprehension."
   ]
  },
  {
   "cell_type": "markdown",
   "metadata": {},
   "source": [
    "### Answer 32:"
   ]
  },
  {
   "cell_type": "code",
   "execution_count": 2,
   "metadata": {},
   "outputs": [
    {
     "name": "stdout",
     "output_type": "stream",
     "text": [
      "Pythagorean triplets up to 6 are: {(3, 4, 5)}\n"
     ]
    }
   ],
   "source": [
    "limit = int(input(\"Enter the limit for pythagorean triplates:\"))\n",
    "triplets = [(a,b,c) for a in range (1,limit+1)\n",
    "                    for b in range(a,limit+1)\n",
    "                    for c in range(b,limit+1)\n",
    "                    if a**2+b**2==c**2]\n",
    "cleaned_triplets =set(tuple(sorted(triplet)) for triplet in triplets )\n",
    "print(\"Pythagorean triplets up to\", limit, \"are:\", cleaned_triplets)"
   ]
  },
  {
   "cell_type": "markdown",
   "metadata": {},
   "source": [
    "### Question 33:\n",
    " Develop a program that generates a list of all possible combinations of two lists using list comprehension."
   ]
  },
  {
   "cell_type": "markdown",
   "metadata": {},
   "source": [
    "### Answer 33:\n"
   ]
  },
  {
   "cell_type": "code",
   "execution_count": 12,
   "metadata": {},
   "outputs": [],
   "source": [
    "size_of_list_1 = int(input(\"Enter size of list 1:\"))\n",
    "size_of_list_2 = int(input(\"Enter size of list 2:\"))\n",
    "list_int = [int(input(f\"Enetr integer element {i+1}:\"))for i in range(size_of_list_1)]\n",
    "list_str = [input(f\"Enter string element {j+1}:\") for j in range(size_of_list_2)]\n",
    "combination_list = [(num,strs)for num in list_int for strs in list_str]"
   ]
  },
  {
   "cell_type": "markdown",
   "metadata": {},
   "source": [
    "### Question 34:\n",
    " Write a program that calculates the mean, median, and mode of a list of numbers using list\n",
    "comprehension."
   ]
  },
  {
   "cell_type": "markdown",
   "metadata": {},
   "source": [
    "### Answer 34:"
   ]
  },
  {
   "cell_type": "code",
   "execution_count": 25,
   "metadata": {},
   "outputs": [
    {
     "name": "stdout",
     "output_type": "stream",
     "text": [
      "Mean: 35.4\n",
      "Median: 11\n",
      "Mode: 1\n"
     ]
    }
   ],
   "source": [
    "from collections import Counter\n",
    "\n",
    "def generate_list(size_of_list):\n",
    "    return [int(input(f\"Enter element {i + 1}: \")) for i in range(size_of_list)]\n",
    "\n",
    "def find_mean(lists):\n",
    "    sum_of_list = sum(lists)\n",
    "    length_of_list = len(lists)\n",
    "    return sum_of_list / length_of_list\n",
    "\n",
    "def find_median(lists):\n",
    "    lists.sort()\n",
    "    length_of_list = len(lists)\n",
    "    if length_of_list % 2 == 1:\n",
    "        middle_index = length_of_list // 2\n",
    "        return lists[middle_index]\n",
    "    else:\n",
    "        middle_index1 = length_of_list // 2 - 1\n",
    "        middle_index2 = length_of_list // 2\n",
    "        return (lists[middle_index1] + lists[middle_index2]) / 2.0\n",
    "    \n",
    "def find_mode(lists):\n",
    "    counter = Counter(lists)\n",
    "    mode = counter.most_common(1)\n",
    "    return mode[0][0]\n",
    "\n",
    "# Input the list of numbers\n",
    "size_of_list = int(input(\"Enter size of list:\"))\n",
    "input_list = generate_list(size_of_list)\n",
    "\n",
    "# Calculate mean,median and mode\n",
    "mean = find_mean(input_list)\n",
    "median = find_median(input_list)\n",
    "mode =find_mode(input_list)\n",
    "\n",
    "print(f\"Mean: {mean}\")\n",
    "print(f\"Median: {median}\")\n",
    "print(f\"Mode: {mode}\")\n"
   ]
  },
  {
   "cell_type": "markdown",
   "metadata": {},
   "source": [
    "### Question 35:\n",
    "Create a program that generates Pascal's triangle up to a specified number of rows using list\n",
    "comprehension."
   ]
  },
  {
   "cell_type": "markdown",
   "metadata": {},
   "source": [
    "### Answer 35:"
   ]
  },
  {
   "cell_type": "code",
   "execution_count": 14,
   "metadata": {},
   "outputs": [
    {
     "name": "stdout",
     "output_type": "stream",
     "text": [
      "    1    \n",
      "   1 1   \n",
      "  1 2 1  \n",
      " 1 3 3 1 \n",
      "1 4 6 4 1\n"
     ]
    }
   ],
   "source": [
    "limit = int(input(\"No of rows of pascals triangle:\"))\n",
    "pascale_triangle = []\n",
    "for i in range(limit):\n",
    "    row = [1] if i==0 else [1]\n",
    "    for j in range(1,i):\n",
    "        previous_row = pascale_triangle[i-1]\n",
    "        row.append(previous_row[j] + previous_row[j-1])\n",
    "    if i !=0:\n",
    "        row.append(1)\n",
    "    pascale_triangle.append(row)\n",
    "width = len(\" \".join(map(str, pascale_triangle[-1])))\n",
    "for row in pascale_triangle:\n",
    "    print(\" \".join(map(str, row)).center(width))"
   ]
  },
  {
   "cell_type": "markdown",
   "metadata": {},
   "source": [
    "### Question 36:\n",
    "Develop a program that calculates the sum of the digits of a factorial of numbers from 1 to 5 using list\n",
    "comprehension."
   ]
  },
  {
   "cell_type": "markdown",
   "metadata": {},
   "source": [
    "### Answer 36:"
   ]
  },
  {
   "cell_type": "code",
   "execution_count": 25,
   "metadata": {},
   "outputs": [
    {
     "name": "stdout",
     "output_type": "stream",
     "text": [
      "Factorial of 1 is 1, and the sum of its digits is 1\n",
      "Factorial of 2 is 2, and the sum of its digits is 2\n",
      "Factorial of 3 is 6, and the sum of its digits is 6\n",
      "Factorial of 4 is 24, and the sum of its digits is 6\n",
      "Factorial of 5 is 120, and the sum of its digits is 3\n"
     ]
    }
   ],
   "source": [
    "def find_factorial(n):\n",
    "    if n == 0:\n",
    "        return 1\n",
    "    else:\n",
    "        return n * find_factorial(n - 1)\n",
    "\n",
    "factorials = [find_factorial(i) for i in range(1, 6)]\n",
    "\n",
    "\n",
    "sums_of_digits = [sum(int(digit) for digit in str(factorial)) for factorial in factorials]\n",
    "\n",
    "\n",
    "for i, factorial_num in enumerate(factorials, start=1):\n",
    "    print(f\"Factorial of {i} is {factorial_num}, and the sum of its digits is {sums_of_digits[i - 1]}\")\n"
   ]
  },
  {
   "cell_type": "markdown",
   "metadata": {},
   "source": [
    "### Question 37:\n",
    " Write a program that finds the longest word in a sentence using list comprehension."
   ]
  },
  {
   "cell_type": "markdown",
   "metadata": {},
   "source": [
    "### Answer 37:"
   ]
  },
  {
   "cell_type": "code",
   "execution_count": 32,
   "metadata": {},
   "outputs": [
    {
     "name": "stdout",
     "output_type": "stream",
     "text": [
      "The longest word in the sentence is: hello\n"
     ]
    }
   ],
   "source": [
    "\n",
    "sentence = input(\"Enter a sentence: \")\n",
    "words = sentence.split()\n",
    "\n",
    "longest_word = max((word for word in words), key=len)\n",
    "\n",
    "print(f\"The longest word in the sentence is: {longest_word}\")\n"
   ]
  },
  {
   "cell_type": "markdown",
   "metadata": {},
   "source": [
    "### Question 38:\n",
    "Create a program that filters a list of strings to include only those with more than three vowels using list\n",
    "comprehension."
   ]
  },
  {
   "cell_type": "markdown",
   "metadata": {},
   "source": [
    "### Naswer 38:"
   ]
  },
  {
   "cell_type": "code",
   "execution_count": 38,
   "metadata": {},
   "outputs": [
    {
     "name": "stdout",
     "output_type": "stream",
     "text": [
      "[]\n"
     ]
    }
   ],
   "source": [
    "# Input a list of strings\n",
    "strings = input(\"Enter string string seprated by space:\").split()\n",
    "\n",
    "# Use list comprehension to filter strings with more than three vowels\n",
    "filtered_strings = [s for s in strings if sum(1 for char in s if char.lower() in \"aeiou\") >= 3]\n",
    "\n",
    "print(filtered_strings)\n"
   ]
  },
  {
   "cell_type": "markdown",
   "metadata": {},
   "source": [
    "### Question 39:\n",
    "Develop a program that calculates the sum of the digits of numbers from 1 to 1000 using list\n",
    "comprehension."
   ]
  },
  {
   "cell_type": "markdown",
   "metadata": {},
   "source": [
    "### Answer 39:"
   ]
  },
  {
   "cell_type": "code",
   "execution_count": 39,
   "metadata": {},
   "outputs": [
    {
     "name": "stdout",
     "output_type": "stream",
     "text": [
      "The sum of digits for numbers from 1 to 1000 is: 13501\n"
     ]
    }
   ],
   "source": [
    "\n",
    "sums_of_digits = [sum(int(digit) for digit in str(num)) for num in range(1, 1001)]\n",
    "total_sum = sum(sums_of_digits)\n",
    "print(f\"The sum of digits for numbers from 1 to 1000 is: {total_sum}\")\n"
   ]
  },
  {
   "cell_type": "markdown",
   "metadata": {},
   "source": [
    "### Question 40:\n",
    " Write a program that generates a list of prime palindromic numbers using list comprehension."
   ]
  },
  {
   "cell_type": "markdown",
   "metadata": {},
   "source": [
    "### Answer 40:"
   ]
  },
  {
   "cell_type": "code",
   "execution_count": 40,
   "metadata": {},
   "outputs": [
    {
     "name": "stdout",
     "output_type": "stream",
     "text": [
      "[2, 3, 5, 7, 11, 101, 131, 151, 181, 191, 313, 353, 373, 383, 727, 757, 787, 797, 919, 929]\n"
     ]
    }
   ],
   "source": [
    "\n",
    "def is_prime(num):\n",
    "    if num < 2:\n",
    "        return False\n",
    "    for i in range(2, int(num**0.5) + 1):\n",
    "        if num % i == 0:\n",
    "            return False\n",
    "    return True\n",
    "\n",
    "\n",
    "prime_palindromic_numbers = [num for num in range(1, 1001) if is_prime(num) and str(num) == str(num)[::-1]]\n",
    "\n",
    "print(prime_palindromic_numbers)\n"
   ]
  }
 ],
 "metadata": {
  "kernelspec": {
   "display_name": "Python 3",
   "language": "python",
   "name": "python3"
  },
  "language_info": {
   "codemirror_mode": {
    "name": "ipython",
    "version": 3
   },
   "file_extension": ".py",
   "mimetype": "text/x-python",
   "name": "python",
   "nbconvert_exporter": "python",
   "pygments_lexer": "ipython3",
   "version": "3.11.0"
  },
  "orig_nbformat": 4
 },
 "nbformat": 4,
 "nbformat_minor": 2
}
