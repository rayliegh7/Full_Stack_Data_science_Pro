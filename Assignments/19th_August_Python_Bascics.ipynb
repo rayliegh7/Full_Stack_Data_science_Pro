{
 "cells": [
  {
   "cell_type": "markdown",
   "id": "480660c5",
   "metadata": {},
   "source": [
    "<img src=\"skills_logo-removebg-preview.png\" height=\"70\">"
   ]
  },
  {
   "cell_type": "markdown",
   "id": "26816446-b6b4-416c-a078-330af009bba9",
   "metadata": {},
   "source": [
    "### Assignment 1: TOPIC: Python Basics Variable"
   ]
  },
  {
   "cell_type": "markdown",
   "id": "538d935e-c751-4f95-b2a0-759618ab6f8e",
   "metadata": {},
   "source": [
    "### Question 1:\n",
    "Declare two variables, `x` and `y`, and assign them integer values. Swap the values of these variables without using any temporary variable.\n"
   ]
  },
  {
   "cell_type": "markdown",
   "id": "12aeb5ab-b464-463f-94fd-354b8d362980",
   "metadata": {},
   "source": [
    "### Answer 1:"
   ]
  },
  {
   "cell_type": "code",
   "execution_count": 1,
   "id": "e6dfa596-3727-45ba-b8f8-bbdbec0c2853",
   "metadata": {},
   "outputs": [
    {
     "name": "stdout",
     "output_type": "stream",
     "text": [
      "Enter Value Of x: 25\n",
      "Enetr Value Of y: 98\n"
     ]
    },
    {
     "name": "stdout",
     "output_type": "stream",
     "text": [
      "After swaping x: 98 & y: 25\n"
     ]
    }
   ],
   "source": [
    "x = int(input(\"Enter Value Of x:\"))\n",
    "y = int (input(\"Enetr Value Of y:\"))\n",
    "x = x + y\n",
    "y = x - y\n",
    "x = x - y\n",
    "print( \"After swaping x:\",x,\"& y:\",y)"
   ]
  },
  {
   "cell_type": "markdown",
   "id": "3d95599f-514c-4ca5-952b-255ac859f34a",
   "metadata": {},
   "source": [
    "### Question 2:\n",
    "Create a program that calculates the area of a rectangle. Take the length and width as inputs from the user and store them in variables. Calculate and display the area."
   ]
  },
  {
   "cell_type": "markdown",
   "id": "77a83099-902f-4503-b3c3-f740ae8eb428",
   "metadata": {},
   "source": [
    "### Answer 2:"
   ]
  },
  {
   "cell_type": "code",
   "execution_count": 3,
   "id": "0ddc9e84-c3e0-4ea3-94d9-0a33d6d369dd",
   "metadata": {},
   "outputs": [
    {
     "name": "stdout",
     "output_type": "stream",
     "text": [
      "Enter length of rectangle: 52\n",
      "Enter width of rectangle: 2\n"
     ]
    },
    {
     "name": "stdout",
     "output_type": "stream",
     "text": [
      "area of rectangle is= 104.0\n"
     ]
    }
   ],
   "source": [
    "l=float(input(\"Enter length of rectangle:\"))\n",
    "w=float(input(\"Enter width of rectangle:\"))\n",
    "print(f\"area of rectangle is= {l * w}\")"
   ]
  },
  {
   "cell_type": "markdown",
   "id": "0077727e-7857-413c-9240-589ac858728a",
   "metadata": {
    "tags": []
   },
   "source": [
    "### Question 3:\n",
    "Write a Python program that converts temperature from Celsius to Fahrenheit. Take the temperature in Celsius as input, store it in a variable, convert it to Fahrenheit, and display the result."
   ]
  },
  {
   "cell_type": "markdown",
   "id": "0b446717-2051-4155-9357-3a597d9f6653",
   "metadata": {},
   "source": [
    "### Answer 3:"
   ]
  },
  {
   "cell_type": "code",
   "execution_count": 3,
   "id": "e54eb0a8-bc56-4f19-b9b3-0a6720d8b8a7",
   "metadata": {},
   "outputs": [
    {
     "name": "stdout",
     "output_type": "stream",
     "text": [
      "temperature in Fahrenheit is=68.0°F\n"
     ]
    }
   ],
   "source": [
    "celsius = float(input(\"Enter a temperature in celsius:\"))\n",
    "print (f\"temperature in Fahrenheit is={(celsius * 9/5) + 32}°F\")"
   ]
  },
  {
   "cell_type": "markdown",
   "id": "c8e913a7-c85d-4e31-a4a7-7cd8de8e32ee",
   "metadata": {},
   "source": [
    "# TOPIC: String Based Questions"
   ]
  },
  {
   "cell_type": "markdown",
   "id": "d4738c19-8b8f-4572-8163-9add72d56ab9",
   "metadata": {},
   "source": [
    "### Question 1:\n",
    "Write a Python program that takes a string as input and prints the length of the string."
   ]
  },
  {
   "cell_type": "markdown",
   "id": "68388a66-7d0f-4d3b-a04e-0f2a76d009f8",
   "metadata": {},
   "source": [
    "### Answer 1:"
   ]
  },
  {
   "cell_type": "code",
   "execution_count": 15,
   "id": "db741465-b302-4238-87ba-46ac4295982b",
   "metadata": {},
   "outputs": [
    {
     "name": "stdout",
     "output_type": "stream",
     "text": [
      "Enter a string: Pwskills\n"
     ]
    },
    {
     "name": "stdout",
     "output_type": "stream",
     "text": [
      "The length of given string is = 8\n"
     ]
    }
   ],
   "source": [
    "string=input(\"Enter a string:\")\n",
    "print(f\"The length of given string is = {len(string)}\")"
   ]
  },
  {
   "cell_type": "markdown",
   "id": "387d3764-deef-4468-b0d0-1a69461edefa",
   "metadata": {},
   "source": [
    "### Question 2:\n",
    "Create a program that takes a sentence from the user and counts the number of vowels (a, e, i, o, u) in the string."
   ]
  },
  {
   "cell_type": "markdown",
   "id": "d37ba8c0-195a-44e5-90e2-781fd2872684",
   "metadata": {},
   "source": [
    "### Answer 2:"
   ]
  },
  {
   "cell_type": "code",
   "execution_count": 2,
   "id": "8644b6ce-0498-4fba-8e87-94459b3413d5",
   "metadata": {},
   "outputs": [
    {
     "name": "stdout",
     "output_type": "stream",
     "text": [
      "7\n"
     ]
    }
   ],
   "source": [
    "sentence = input(\"Enter a sentence :\")\n",
    "counts=0\n",
    "for i in sentence:\n",
    "    if i in 'aAeEiIoOuU':\n",
    "        counts+=1\n",
    "print(counts)"
   ]
  },
  {
   "cell_type": "markdown",
   "id": "4245cb33-cd1b-46a5-9c87-34ef50c91cd3",
   "metadata": {},
   "source": [
    "### Question 3:\n",
    "Given a string, reverse the order of characters using string slicing and\n",
    "print the reversed string."
   ]
  },
  {
   "cell_type": "markdown",
   "id": "9cfe5eec-3211-494f-b2db-63a124c6f910",
   "metadata": {},
   "source": [
    "### Answer 3:"
   ]
  },
  {
   "cell_type": "code",
   "execution_count": 20,
   "id": "127de2e7-520e-468e-be4d-fbc7c81bdfb8",
   "metadata": {},
   "outputs": [
    {
     "name": "stdout",
     "output_type": "stream",
     "text": [
      " Vicky\n"
     ]
    },
    {
     "name": "stdout",
     "output_type": "stream",
     "text": [
      "reverse of string is = ykciV\n"
     ]
    }
   ],
   "source": [
    "string = input()\n",
    "print(f\"reverse of string is = {string[::-1]}\")"
   ]
  },
  {
   "cell_type": "markdown",
   "id": "a7df83a0-52c0-4bce-917a-ad99f6e6eac4",
   "metadata": {},
   "source": [
    "### Question 4: \n",
    "Write a program that takes a string as input and checks if it is a\n",
    "palindrome (reads the same forwards and backwards)."
   ]
  },
  {
   "cell_type": "markdown",
   "id": "f956f012-617c-4fc1-b96d-23f2564e8b86",
   "metadata": {},
   "source": [
    "#### Answer 4:"
   ]
  },
  {
   "cell_type": "code",
   "execution_count": 1,
   "id": "92b4e9db-cd4a-4119-affe-b6e546342b4d",
   "metadata": {},
   "outputs": [
    {
     "name": "stdout",
     "output_type": "stream",
     "text": [
      " nayan\n"
     ]
    },
    {
     "name": "stdout",
     "output_type": "stream",
     "text": [
      "is a palindrome string\n"
     ]
    }
   ],
   "source": [
    "string = input()\n",
    "if string==string[::-1]:\n",
    "    print(\"is a palindrome string\")\n",
    "else:\n",
    "    print(\"is not palindrome string\")\n"
   ]
  },
  {
   "cell_type": "markdown",
   "id": "ea63d966-ca77-4a38-88a3-737b8f787bcd",
   "metadata": {},
   "source": [
    "### Question 5:\n",
    "Create a program that takes a string as input and removes all the\n",
    "spaces from it. Print the modified string without spaces."
   ]
  },
  {
   "cell_type": "markdown",
   "id": "655d0b0d-66c1-45a4-9ead-3a63aa33fc82",
   "metadata": {},
   "source": [
    "### Answer 5:"
   ]
  },
  {
   "cell_type": "code",
   "execution_count": 4,
   "id": "81f2a9ee-48a6-4552-adf7-c206a6a05b39",
   "metadata": {},
   "outputs": [
    {
     "name": "stdout",
     "output_type": "stream",
     "text": [
      "TheTRUTHhurtsonlyoncebutaLIEhurtseverytimeyourememberit"
     ]
    }
   ],
   "source": [
    "string = input(\"Enter a string:\")\n",
    "for i in string.split():\n",
    "    print(i,end=\"\")"
   ]
  },
  {
   "cell_type": "code",
   "execution_count": null,
   "id": "2680e3f4",
   "metadata": {},
   "outputs": [],
   "source": []
  }
 ],
 "metadata": {
  "kernelspec": {
   "display_name": "Python 3 (ipykernel)",
   "language": "python",
   "name": "python3"
  },
  "language_info": {
   "codemirror_mode": {
    "name": "ipython",
    "version": 3
   },
   "file_extension": ".py",
   "mimetype": "text/x-python",
   "name": "python",
   "nbconvert_exporter": "python",
   "pygments_lexer": "ipython3",
   "version": "3.11.0"
  }
 },
 "nbformat": 4,
 "nbformat_minor": 5
}
