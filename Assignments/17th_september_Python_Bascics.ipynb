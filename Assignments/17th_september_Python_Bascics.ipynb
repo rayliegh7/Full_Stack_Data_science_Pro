{
 "cells": [
  {
   "cell_type": "markdown",
   "metadata": {},
   "source": [
    "<img src=\"skills_logo-removebg-preview.png\" height=\"70\">"
   ]
  },
  {
   "cell_type": "markdown",
   "metadata": {},
   "source": [
    "# For loop:"
   ]
  },
  {
   "cell_type": "markdown",
   "metadata": {},
   "source": [
    "### Question 1:\n",
    "Write a Python program to print numbers from 1 to 10 using a for loop.\n"
   ]
  },
  {
   "cell_type": "code",
   "execution_count": null,
   "metadata": {},
   "outputs": [],
   "source": [
    "for i in range(1,11):\n",
    "    print(i,end=\" \")"
   ]
  },
  {
   "cell_type": "markdown",
   "metadata": {},
   "source": [
    "### Question 2:\n",
    "Explain the difference between a for loop and a while loop in Python.\n"
   ]
  },
  {
   "cell_type": "markdown",
   "metadata": {},
   "source": [
    "For loop:\n",
    "The for loop in Python is used to iterate over a sequence of items, such as a list, tuple, or string. It is a definite loop, meaning that the number of iterations is known in advance."
   ]
  },
  {
   "cell_type": "code",
   "execution_count": null,
   "metadata": {},
   "outputs": [],
   "source": [
    "for item in iterable:\n",
    "    pass\n",
    "    # code to be executed for each item in the iterable\n"
   ]
  },
  {
   "cell_type": "markdown",
   "metadata": {},
   "source": [
    "The iterable can be any sequence of items, such as a list, tuple, or string. The item variable is assigned to each item in the sequence, and the code block inside the loop is executed for each item.\n",
    "\n",
    "For example, the following code will print each element in the list my_list to the console"
   ]
  },
  {
   "cell_type": "code",
   "execution_count": null,
   "metadata": {},
   "outputs": [],
   "source": [
    "my_list = [1, 2, 3, 4, 5]\n",
    "\n",
    "for item in my_list:\n",
    "    print(item,end=\" \")\n"
   ]
  },
  {
   "cell_type": "markdown",
   "metadata": {},
   "source": [
    "While loop:\n",
    "The while loop in Python is used to repeatedly execute a block of code while a condition is true. It is an indefinite loop, meaning that the number of iterations is not known in advance."
   ]
  },
  {
   "cell_type": "code",
   "execution_count": null,
   "metadata": {},
   "outputs": [],
   "source": [
    "while condition:\n",
    "    # code to be executed while the condition is true\n"
   ]
  },
  {
   "cell_type": "code",
   "execution_count": null,
   "metadata": {},
   "outputs": [],
   "source": [
    "i = 0\n",
    "while i<5:\n",
    "    i+=1\n",
    "    print(i,end=\" \")"
   ]
  },
  {
   "cell_type": "markdown",
   "metadata": {},
   "source": [
    "The condition is a Boolean expression. If the condition evaluates to True, the code block inside the loop is executed. Then, the condition is evaluated again. If it evaluates to True again, the code block is executed again, and so on. The loop continues to execute until the condition evaluates to False."
   ]
  },
  {
   "cell_type": "markdown",
   "metadata": {},
   "source": [
    "Difference between for loops and while loops\n",
    "\n",
    "The main difference between for loops and while loops is that for loops are used to iterate over a sequence of items, while while loops are used to repeatedly execute a block of code while a condition is true.\n",
    "\n",
    "Another difference is that for loops are definite loops, meaning that the number of iterations is known in advance, while while loops are indefinite loops, meaning that the number of iterations is not known in advance."
   ]
  },
  {
   "cell_type": "markdown",
   "metadata": {},
   "source": [
    "### Question 3 :\n",
    "Write a Python program to calculate the sum of all numbers from 1 to 100 using a for loop."
   ]
  },
  {
   "cell_type": "markdown",
   "metadata": {},
   "source": [
    "### Answer 3:"
   ]
  },
  {
   "cell_type": "code",
   "execution_count": null,
   "metadata": {},
   "outputs": [],
   "source": [
    "def sum_of_all_numbers()->int:\n",
    "    \"\"\"retun the sum of all numbers from 1 to 100\"\"\"\n",
    "    return sum([i for i in range(1,101)])"
   ]
  },
  {
   "cell_type": "code",
   "execution_count": null,
   "metadata": {},
   "outputs": [],
   "source": [
    "sum_of_all_numbers()"
   ]
  },
  {
   "cell_type": "markdown",
   "metadata": {},
   "source": [
    "### Qusetion 4:\n",
    "How do you iterate through a list using a for loop in Python?"
   ]
  },
  {
   "cell_type": "markdown",
   "metadata": {},
   "source": [
    "### Answer 4:"
   ]
  },
  {
   "cell_type": "markdown",
   "metadata": {},
   "source": [
    "to iterate through a list using for loop we can do using two way :\n",
    "using for loop and using for loop with range() function"
   ]
  },
  {
   "cell_type": "code",
   "execution_count": null,
   "metadata": {},
   "outputs": [],
   "source": [
    "# using for loop \n",
    "l =[\"vicky\",19,2001,410215]\n",
    "for i in l:\n",
    "    print(i)"
   ]
  },
  {
   "cell_type": "markdown",
   "metadata": {},
   "source": [
    "in above example we have use for loop to iterate through list or any other iteratable like (tuple,set,dict,string) where for loop iterate until the last element"
   ]
  },
  {
   "cell_type": "code",
   "execution_count": null,
   "metadata": {},
   "outputs": [],
   "source": [
    "# using for loop with range \n",
    "for i in range(len(l)):\n",
    "    print(l[i])"
   ]
  },
  {
   "cell_type": "markdown",
   "metadata": {},
   "source": [
    "here we have use range function that takes three argument start,end,step, by default step 1 and start is 0 and end is len(l)-1  and after range genarte sequence of number from(0,4-1) and we iterate  using for loop and then use indexing "
   ]
  },
  {
   "cell_type": "markdown",
   "metadata": {},
   "source": [
    "### Question 5\n",
    "Write a Python program to find the product of all elements in a list using a for loop."
   ]
  },
  {
   "cell_type": "markdown",
   "metadata": {},
   "source": [
    "### Answer 5"
   ]
  },
  {
   "cell_type": "code",
   "execution_count": null,
   "metadata": {},
   "outputs": [],
   "source": [
    "from functools import reduce\n",
    "def find_product(list1)->int:\n",
    "    \"\"\"Args : list\n",
    "    Return : product of all element in list\n",
    "    \n",
    "    \"\"\"\n",
    "    return reduce((lambda x, y: x * y), list1)"
   ]
  },
  {
   "cell_type": "code",
   "execution_count": null,
   "metadata": {},
   "outputs": [],
   "source": [
    "find_product([4,5,6])"
   ]
  },
  {
   "cell_type": "markdown",
   "metadata": {},
   "source": [
    "### Question 6:\n",
    " Create a Python program that prints all even numbers from 1 to 20 using a for loop.\n"
   ]
  },
  {
   "cell_type": "markdown",
   "metadata": {},
   "source": [
    "### Answer 6:"
   ]
  },
  {
   "cell_type": "code",
   "execution_count": null,
   "metadata": {},
   "outputs": [],
   "source": [
    "def print_even():\n",
    "    return [i for i in range(1,21) if i%2==0]"
   ]
  },
  {
   "cell_type": "code",
   "execution_count": null,
   "metadata": {},
   "outputs": [],
   "source": [
    "print_even()"
   ]
  },
  {
   "cell_type": "markdown",
   "metadata": {},
   "source": [
    "### Question 7:\n",
    " Write a Python program that calculates the factorial of a number using a for loop.\n"
   ]
  },
  {
   "cell_type": "markdown",
   "metadata": {},
   "source": [
    "### Answer 7:"
   ]
  },
  {
   "cell_type": "code",
   "execution_count": null,
   "metadata": {},
   "outputs": [],
   "source": [
    "def cal_fac_for(n:int)->int:\n",
    "    if n<=1:\n",
    "        fact =1\n",
    "    else:\n",
    "        fact = n*cal_fac_for(n-1)\n",
    "    return fact"
   ]
  },
  {
   "cell_type": "code",
   "execution_count": null,
   "metadata": {},
   "outputs": [],
   "source": [
    "try:\n",
    "    num1 = int(input(\"Enter a number:\")) \n",
    "    result = cal_fac_for(num1)\n",
    "    if num1 < 0:\n",
    "        raise ValueError(\"Please enter a non negative number\")\n",
    "except ValueError as ve:\n",
    "    print(f\"Error:\",str(ve))\n",
    "else:\n",
    "    print(f\"The factorial of {num1} is {result}\")\n",
    "\n",
    "\n",
    "    "
   ]
  },
  {
   "cell_type": "code",
   "execution_count": null,
   "metadata": {},
   "outputs": [],
   "source": [
    "cal_fac = lambda x :  1 if x <= 1 else x*cal_fac(x-1)"
   ]
  },
  {
   "cell_type": "code",
   "execution_count": null,
   "metadata": {},
   "outputs": [],
   "source": [
    "cal_fac(5)"
   ]
  },
  {
   "cell_type": "markdown",
   "metadata": {},
   "source": [
    "### Question 8:\n",
    "How can you iterate through the characters of a string using a for loop in Python?\n"
   ]
  },
  {
   "cell_type": "markdown",
   "metadata": {},
   "source": [
    "### Answer 8:"
   ]
  },
  {
   "cell_type": "markdown",
   "metadata": {},
   "source": [
    "to iterate through a character of string using for loop "
   ]
  },
  {
   "cell_type": "code",
   "execution_count": null,
   "metadata": {},
   "outputs": [],
   "source": [
    "for i in \"vicky\":\n",
    "    print(i)"
   ]
  },
  {
   "cell_type": "markdown",
   "metadata": {},
   "source": [
    "in above example we use for loop, where for loop iterate a string until the last element"
   ]
  },
  {
   "cell_type": "code",
   "execution_count": null,
   "metadata": {},
   "outputs": [],
   "source": [
    "string = input(\"Enter a string\")\n",
    "for i in  range(len(string)):\n",
    "    print(string[i])"
   ]
  },
  {
   "cell_type": "markdown",
   "metadata": {},
   "source": [
    "### Question 9:\n",
    "Write a Python program to find the largest number in a list using a for loop.\n"
   ]
  },
  {
   "cell_type": "markdown",
   "metadata": {},
   "source": [
    "### Answer 9:"
   ]
  },
  {
   "cell_type": "code",
   "execution_count": null,
   "metadata": {},
   "outputs": [],
   "source": [
    "def generate_list(n):\n",
    "\n",
    "    return  [int(input(f\"Enter a element {i+1}\"))for i in range(n) ]\n",
    "\n",
    "\n"
   ]
  },
  {
   "cell_type": "code",
   "execution_count": null,
   "metadata": {},
   "outputs": [],
   "source": [
    "def find_maximum(list1):\n",
    "    maximum = 0 \n",
    "    for i in range(len(list1)):\n",
    "        if list1[i]>maximum:\n",
    "            maximum =list1[i]\n",
    "    return maximum\n"
   ]
  },
  {
   "cell_type": "code",
   "execution_count": null,
   "metadata": {},
   "outputs": [],
   "source": [
    "size_of_list = int(input(\"Enter a size of list\"))\n",
    "\n",
    "my_list = generate_list(size_of_list)\n",
    "\n",
    "print(my_list)\n",
    "\n",
    "result = find_maximum(my_list)\n",
    "        \n",
    "print(f\"maximum number is {result}\")\n"
   ]
  },
  {
   "cell_type": "markdown",
   "metadata": {},
   "source": [
    "### Question 10:\n",
    " Create a Python program that prints the Fibonacci sequence up to a specified limit using a for loop.\n"
   ]
  },
  {
   "cell_type": "markdown",
   "metadata": {},
   "source": [
    "### Answer 10:"
   ]
  },
  {
   "cell_type": "code",
   "execution_count": null,
   "metadata": {},
   "outputs": [],
   "source": [
    "def fibonacci_series(n):\n",
    "    fibonacci = [0, 1]\n",
    "\n",
    "    if n < 2:\n",
    "        return fibonacci[:n+1]\n",
    "    else:\n",
    "        for i in range(2, n):\n",
    "            next_fib = fibonacci[i-1] + fibonacci[i-2]\n",
    "            fibonacci.append(next_fib)\n",
    "\n",
    "    return fibonacci"
   ]
  },
  {
   "cell_type": "code",
   "execution_count": null,
   "metadata": {},
   "outputs": [],
   "source": [
    "try:\n",
    "    number = int(input(\"Enter a number until you want to generate the Fibonacci series: \"))  \n",
    "    result = fibonacci_series(number)  \n",
    "except ValueError as v:\n",
    "    print(\"Invalid input. Please enter a valid integer.\")\n",
    "else:\n",
    "    for res in result:  \n",
    "        print(res, end=\" \")"
   ]
  },
  {
   "cell_type": "markdown",
   "metadata": {},
   "source": [
    "### Question 11 :\n",
    "Write a Python program to count the number of vowels in a given string using a for loop."
   ]
  },
  {
   "cell_type": "markdown",
   "metadata": {},
   "source": [
    "### Answer 11:"
   ]
  },
  {
   "cell_type": "code",
   "execution_count": null,
   "metadata": {},
   "outputs": [],
   "source": [
    "def find_vowels(string: str) -> int:\n",
    "    vowels_pattern = [\"A\", \"a\", \"E\", \"e\", \"I\", \"i\", \"O\", \"o\", \"U\", \"u\"]\n",
    "    count = sum(1 for char in string if char in vowels_pattern)\n",
    "    return count"
   ]
  },
  {
   "cell_type": "code",
   "execution_count": null,
   "metadata": {},
   "outputs": [],
   "source": [
    "user_string = input(\"enter a string:\")\n",
    "number_vowels = find_vowels(user_string)\n",
    "print (f\"{user_string} have {number_vowels} vowels\")\n"
   ]
  },
  {
   "cell_type": "markdown",
   "metadata": {},
   "source": [
    "### Question 12 :\n",
    "Create a Python program that generates a multiplication table for a given number using a for loop.\n"
   ]
  },
  {
   "cell_type": "markdown",
   "metadata": {},
   "source": [
    "### Answer 12:"
   ]
  },
  {
   "cell_type": "code",
   "execution_count": null,
   "metadata": {},
   "outputs": [],
   "source": [
    "def generate_tabel (n):\n",
    "    for i in range (1,11):\n",
    "        mul = n*i\n",
    "        print(f\"{n} * {i:2d} = {mul:2d}\")"
   ]
  },
  {
   "cell_type": "code",
   "execution_count": null,
   "metadata": {},
   "outputs": [],
   "source": [
    "generate_tabel(5)"
   ]
  },
  {
   "cell_type": "markdown",
   "metadata": {},
   "source": [
    "### Question 13:\n",
    "Write a Python program to reverse a list using a for loop.\n"
   ]
  },
  {
   "cell_type": "markdown",
   "metadata": {},
   "source": [
    "### Answer 13:"
   ]
  },
  {
   "cell_type": "code",
   "execution_count": null,
   "metadata": {},
   "outputs": [],
   "source": [
    "def reverse_list(l):\n",
    "    reverse_list =[]\n",
    "    for i in range(len(l)-1,-1,-1):\n",
    "        reverse_list.append(l[i])\n",
    "    return reverse_list"
   ]
  },
  {
   "cell_type": "code",
   "execution_count": null,
   "metadata": {},
   "outputs": [],
   "source": [
    "\n",
    "user_input_list = list(input(\"Enter a list of elements separated by space: \").split())\n",
    "print(f\"Your input list is: {user_input_list}\")\n",
    "result = reverse_list(user_input_list)\n",
    "print(\"Reversed list:\", result)\n"
   ]
  },
  {
   "cell_type": "markdown",
   "metadata": {},
   "source": [
    "### Qusetion 14:\n",
    "Write a Python program to find the common elements between two lists using a for loop.\n"
   ]
  },
  {
   "cell_type": "markdown",
   "metadata": {},
   "source": [
    "### Qusetion 14:\n"
   ]
  },
  {
   "cell_type": "code",
   "execution_count": null,
   "metadata": {},
   "outputs": [],
   "source": [
    "def find_common_element(list1, list2):\n",
    "    common_elements = []\n",
    "\n",
    "    for index1, element1 in enumerate(list1):\n",
    "        for index2, element2 in enumerate(list2):\n",
    "            if element1 == element2:\n",
    "                common_elements.append({'element': element1, 'index_in_list1': index1, 'index_in_list2': index2})\n",
    "\n",
    "    return common_elements"
   ]
  },
  {
   "cell_type": "code",
   "execution_count": null,
   "metadata": {},
   "outputs": [],
   "source": [
    "list1 = [1, 2, 3, 4, 5]\n",
    "list2 = [3, 5, 7, 9]\n",
    "common_elements = find_common_element(list1, list2)\n",
    "print(\"Common elements and their indices:\")\n",
    "for element in common_elements:\n",
    "    print(element)\n"
   ]
  },
  {
   "cell_type": "markdown",
   "metadata": {},
   "source": [
    "### Explain how to use a for loop to iterate through the keys and values of a dictionary in Python.\n"
   ]
  },
  {
   "cell_type": "markdown",
   "metadata": {},
   "source": [
    "### Answer 15:"
   ]
  },
  {
   "cell_type": "markdown",
   "metadata": {},
   "source": [
    "Use a for loop along with the items() method of the dictionary to iterate through both keys and values simultaneously. The items() method returns a sequence of tuples where each tuple contains a key-value pair."
   ]
  },
  {
   "cell_type": "code",
   "execution_count": null,
   "metadata": {},
   "outputs": [],
   "source": [
    "d ={'name':[\"vicky\",'hamilton','lalit'],\"cources\":[\"MCA\",\"MBA\",\"MBBES\"],\"college\":[\"SVM\",\"BV\",\"JJ\"]}"
   ]
  },
  {
   "cell_type": "code",
   "execution_count": null,
   "metadata": {},
   "outputs": [],
   "source": [
    "for key, value in d.items():\n",
    "    print(f'Key: {key}, Value: {value}')\n"
   ]
  },
  {
   "cell_type": "code",
   "execution_count": null,
   "metadata": {},
   "outputs": [],
   "source": [
    "for keys in (d.keys()):\n",
    "    print(keys)\n",
    "for values in (d.values()):\n",
    "    print(values)"
   ]
  },
  {
   "cell_type": "markdown",
   "metadata": {},
   "source": [
    "### Write a Python program to find the GCD (Greatest Common Divisor) of two numbers using a for loop.\n"
   ]
  },
  {
   "cell_type": "markdown",
   "metadata": {},
   "source": [
    "### Answer 16:"
   ]
  },
  {
   "cell_type": "code",
   "execution_count": null,
   "metadata": {},
   "outputs": [],
   "source": [
    "def find_GCD (a:int,b:int)->int :\n",
    "    if a<b:\n",
    "        smaller = a \n",
    "    else:\n",
    "        smaller = b\n",
    "    gcd = 1\n",
    "    for i in range (2,smaller+1):\n",
    "        if a%i ==0 and b%i==0:\n",
    "            gcd = i\n",
    "    return gcd"
   ]
  },
  {
   "cell_type": "code",
   "execution_count": null,
   "metadata": {},
   "outputs": [],
   "source": [
    "try:\n",
    "    num1 = int(input(\"Enter a number1:\"))\n",
    "    num2 = int (input(\"Enter a number2\"))\n",
    "    result = find_GCD (num1,num2)\n",
    "except ValueError as v:\n",
    "    print(\"please enter valid data types\")\n",
    "print(f\"The Grestest Common Divisor of {num1} and {num2} is : {result}\")\n"
   ]
  },
  {
   "cell_type": "markdown",
   "metadata": {},
   "source": [
    "### Question 17:\n",
    "Create a Python program that checks if a string is a palindrome using a for loop."
   ]
  },
  {
   "cell_type": "markdown",
   "metadata": {},
   "source": [
    "### Answer 17:"
   ]
  },
  {
   "cell_type": "code",
   "execution_count": null,
   "metadata": {},
   "outputs": [],
   "source": [
    "def is_palindrome (string:str)->bool:\n",
    "    reverse_string = \"\"\n",
    "    for i in range (len(string)-1,-1,-1):\n",
    "        reverse_string +=string[i]\n",
    "    if reverse_string.lower() == string.lower():\n",
    "        return True\n",
    "    else:\n",
    "        return False"
   ]
  },
  {
   "cell_type": "code",
   "execution_count": null,
   "metadata": {},
   "outputs": [],
   "source": [
    "try:\n",
    "    user_input_string = input(\"Enter a string: \")\n",
    "    if not user_input_string:\n",
    "        raise ValueError(\"Input string cannot be empty.\")\n",
    "\n",
    "    if user_input_string.isalpha():\n",
    "        result = is_palindrome(user_input_string)\n",
    "    else:\n",
    "        raise ValueError(\"Input string should only contain alphabetic characters.\")\n",
    "except ValueError as ve:\n",
    "    print(\"Error:\", str(ve))\n",
    "else:\n",
    "    if result:\n",
    "        print(\"The input string is a palindrome.\")\n",
    "    else:\n",
    "        print(\"The input string is not a palindrome.\")\n"
   ]
  },
  {
   "cell_type": "markdown",
   "metadata": {},
   "source": [
    "### Question 18:\n",
    "Write a Python program to remove duplicates from a list using a for loop.\n"
   ]
  },
  {
   "cell_type": "markdown",
   "metadata": {},
   "source": [
    "### Answer 18:"
   ]
  },
  {
   "cell_type": "code",
   "execution_count": null,
   "metadata": {},
   "outputs": [],
   "source": [
    "def remove_duplicates(list1: list) -> list:\n",
    "    return [item for item in list1 if list1.count(item) == 1]"
   ]
  },
  {
   "cell_type": "code",
   "execution_count": null,
   "metadata": {},
   "outputs": [],
   "source": [
    "import re\n",
    "\n",
    "def is_valid_input(user_input: str) -> bool:\n",
    "    \"\"\"\n",
    "    Check if the input string contains only alphanumeric characters and spaces.\n",
    "\n",
    "    Parameters:\n",
    "    user_input (str): The input string to be validated.\n",
    "\n",
    "    Returns:\n",
    "    bool: True if the input contains only alphanumeric characters and spaces, False otherwise.\n",
    "    \"\"\"\n",
    "\n",
    "    # Regex pattern to match any character that is not alphanumeric or a space\n",
    "    invalid_char_pattern = r'[^a-zA-Z0-9\\s]'\n",
    "\n",
    "    # Return True if the input doesn't contain invalid characters, False otherwise\n",
    "    return not bool(re.search(invalid_char_pattern, user_input))\n",
    "\n",
    "\n"
   ]
  },
  {
   "cell_type": "code",
   "execution_count": null,
   "metadata": {},
   "outputs": [],
   "source": [
    "def generate_list(size_of_list: int, type_of_list: str = \"int\") -> list:\n",
    "    \"\"\"\n",
    "    Generate a list of integers, strings, or a mix of both based on the specified type and size.\n",
    "\n",
    "    Parameters:\n",
    "    size_of_list (int): The size of the list to generate.\n",
    "    type_of_list (str, optional): The type of elements in the list: 'int', 'str', or 'mixed'.\n",
    "                                  Defaults to 'int'.\n",
    "\n",
    "    Returns:\n",
    "    list: The generated list of the specified type and size.\n",
    "\n",
    "    \"\"\"\n",
    "    result_list = []\n",
    "\n",
    "    try:\n",
    "        if type_of_list == \"int\":\n",
    "            result_list = [int(input(f\"Enter an integer for element {i + 1}: \")) for i in range(size_of_list)]\n",
    "        elif type_of_list == \"str\":\n",
    "            result_list = [input(f\"Enter a string for element {i + 1}: \") for i in range(size_of_list)]\n",
    "        elif type_of_list == \"mixed\":\n",
    "            for i in range(size_of_list):\n",
    "                while True:\n",
    "                    user_input = input(f\"Enter an integer or a string for element {i + 1}: \").strip()\n",
    "                    if user_input == \"\":\n",
    "                        print(\"Input cannot be empty. Please enter a value.\")\n",
    "                    elif not is_valid_input(user_input):\n",
    "                        print(\"Invalid input. Please enter a valid value (alphanumeric characters and spaces only).\")\n",
    "                    else:\n",
    "                        result_list.append(int(user_input) if user_input.isdigit() else user_input)\n",
    "                        break\n",
    "        else:\n",
    "            print(\"Unknown type_of_list. Please provide 'int', 'str', or 'mixed'.\")\n",
    "    except ValueError:\n",
    "        print(\"Invalid input. Please enter a valid value.\")\n",
    "\n",
    "    return result_list"
   ]
  },
  {
   "cell_type": "code",
   "execution_count": null,
   "metadata": {},
   "outputs": [],
   "source": [
    "try:\n",
    "    size_input = input(\"Enter the size of the list: \")\n",
    "    if not size_input.isdigit():\n",
    "        raise ValueError(\"Size must be a positive integer.\")\n",
    "\n",
    "    size = int(size_input)\n",
    "    if size <= 0:\n",
    "        raise ValueError(\"Size must be a positive integer.\")\n",
    "\n",
    "    type_of_list = input(\"Enter the type of the list (int, str, or mixed): \")\n",
    "    if type_of_list not in ['int', 'str', 'mixed']:\n",
    "        raise ValueError(\"Invalid list type. Please enter 'int', 'str', or 'mixed'.\")\n",
    "\n",
    "    result_list = generate_list(size, type_of_list)\n",
    "except ValueError as ve:\n",
    "    print(f\"Error: {str(ve)}\")\n",
    "else:\n",
    "    print(\"Generated List:\", result_list)\n",
    "    output_list = remove_duplicates(result_list)\n",
    "    print(\"List with Duplicates Removed:\", output_list)\n"
   ]
  },
  {
   "cell_type": "markdown",
   "metadata": {},
   "source": [
    "### Qyestion 19:\n",
    "Create a Python program that counts the number of words in a sentence using a for loop.\n"
   ]
  },
  {
   "cell_type": "markdown",
   "metadata": {},
   "source": [
    "### Answer 19:"
   ]
  },
  {
   "cell_type": "code",
   "execution_count": null,
   "metadata": {},
   "outputs": [],
   "source": [
    "def count_words(sentence: str) -> int:\n",
    "    word_count = 0\n",
    "\n",
    "    for char in sentence:\n",
    "        \n",
    "        if char.isspace():\n",
    "            word_count += 1\n",
    "\n",
    "    \n",
    "    word_count += 1\n",
    "\n",
    "    return word_count\n",
    "\n",
    "\n",
    "\n"
   ]
  },
  {
   "cell_type": "code",
   "execution_count": null,
   "metadata": {},
   "outputs": [],
   "source": [
    "sentence = input(\"Enter a sentence\")\n",
    "number_of_words = count_words(sentence)\n",
    "print(\"Sentence:\", sentence)\n",
    "print(\"Number of words:\", number_of_words)"
   ]
  },
  {
   "cell_type": "markdown",
   "metadata": {},
   "source": [
    " ### Question 20:\n",
    " Write a Python program to find the sum of all odd numbers from 1 to 50 using a for loop.\n",
    "\n"
   ]
  },
  {
   "cell_type": "markdown",
   "metadata": {},
   "source": [
    "### Answer 20:"
   ]
  },
  {
   "cell_type": "code",
   "execution_count": null,
   "metadata": {},
   "outputs": [],
   "source": [
    "def find_odd() ->list :\n",
    "    odd =[]\n",
    "    for i in range(1,101):\n",
    "        if i%2==1:\n",
    "            odd.append(i)\n",
    "    return sum(odd)\n",
    "            \n",
    "\n",
    " "
   ]
  },
  {
   "cell_type": "code",
   "execution_count": 12,
   "metadata": {},
   "outputs": [
    {
     "name": "stdout",
     "output_type": "stream",
     "text": [
      "At least one of the years   is a leap year.\n"
     ]
    }
   ],
   "source": [
    "year = int(input(\"Enter a year: \"))\n",
    "leap = False\n",
    "\n",
    "for i in range(4):\n",
    "    if (year % 4 == 0) and (year % 100 != 0):\n",
    "        leap = True\n",
    "    elif (year % 100 == 0) and (year % 400 == 0):\n",
    "        leap = True\n",
    "        print(year)\n",
    "\n",
    "    # Increment the year for the next iteration\n",
    "    year += 1\n",
    "\n",
    "if leap:\n",
    "    print(f\"At least one of the years   is a leap year.\")\n",
    "else:\n",
    "    print(f\"None of the years are leap years.\")\n"
   ]
  },
  {
   "cell_type": "markdown",
   "metadata": {},
   "source": [
    "if __name__ == '__main__':\n",
    "    x = int(input())\n",
    "    y = int(input())\n",
    "    z = int(input())\n",
    "    n = int(input())\n",
    "    def generate_list(size_of_list):\n",
    "        return [ i for i in range(x)]\n",
    "    def array_where_sum_not_equal_to_n(l1,l2,l3,num):\n",
    "        [ [i,j,k] for i in l1 for j in l2 for k in l3 if i+j+k!=num]\n",
    "    first_array = generate_list(x)\n",
    "    second_array = generate_list(y)\n",
    "    third_array = generate_list(z)\n",
    "    result = array_where_sum_not_equal_to_n(first_array,second_array,\n",
    "    third_array,n)\n",
    "    print(result)"
   ]
  },
  {
   "cell_type": "markdown",
   "metadata": {},
   "source": []
  },
  {
   "cell_type": "code",
   "execution_count": 1,
   "metadata": {},
   "outputs": [
    {
     "name": "stdout",
     "output_type": "stream",
     "text": [
      "None\n"
     ]
    }
   ],
   "source": [
    "if __name__ == '__main__':\n",
    "    x = int(input())\n",
    "    y = int(input())\n",
    "    z = int(input())\n",
    "    n = int(input())\n",
    "    def generate_list(size_of_list):\n",
    "        return [ i for i in range(x)]\n",
    "    def array_where_sum_not_equal_to_n(l1,l2,l3,num):\n",
    "        [ [i,j,k] for i in l1 for j in l2 for k in l3 if i+j+k!=num]\n",
    "    first_array = generate_list(x)\n",
    "    second_array = generate_list(y)\n",
    "    third_array = generate_list(z)\n",
    "    result = array_where_sum_not_equal_to_n(first_array,second_array,\n",
    "    third_array,n)\n",
    "    print(result)"
   ]
  },
  {
   "cell_type": "code",
   "execution_count": 2,
   "metadata": {},
   "outputs": [
    {
     "name": "stdout",
     "output_type": "stream",
     "text": [
      "Combinations where sum is not equal to 3 : [(0, 0, 0), (0, 0, 1)]\n"
     ]
    }
   ],
   "source": [
    "if __name__ == '__main__':\n",
    "    x = int(input(\"Enter the size of the first array: \"))\n",
    "    y = int(input(\"Enter the size of the second array: \"))\n",
    "    z = int(input(\"Enter the size of the third array: \"))\n",
    "    n = int(input(\"Enter the target sum 'n': \"))\n",
    "\n",
    "    def generate_list(size_of_list):\n",
    "        return [i for i in range(size_of_list)]\n",
    "\n",
    "    def array_where_sum_not_equal_to_n(l1, l2, l3, num):\n",
    "        return [(i, j, k) for i in l1 for j in l2 for k in l3 if i + j + k != num]\n",
    "\n",
    "    first_array = generate_list(x)\n",
    "    second_array = generate_list(y)\n",
    "    third_array = generate_list(z)\n",
    "\n",
    "    result = array_where_sum_not_equal_to_n(first_array, second_array, third_array, n)\n",
    "    print(\"Combinations where sum is not equal to\", n, \":\", result)\n"
   ]
  },
  {
   "cell_type": "code",
   "execution_count": null,
   "metadata": {},
   "outputs": [],
   "source": []
  }
 ],
 "metadata": {
  "kernelspec": {
   "display_name": "Python 3",
   "language": "python",
   "name": "python3"
  },
  "language_info": {
   "codemirror_mode": {
    "name": "ipython",
    "version": 3
   },
   "file_extension": ".py",
   "mimetype": "text/x-python",
   "name": "python",
   "nbconvert_exporter": "python",
   "pygments_lexer": "ipython3",
   "version": "3.11.0"
  },
  "orig_nbformat": 4
 },
 "nbformat": 4,
 "nbformat_minor": 2
}
